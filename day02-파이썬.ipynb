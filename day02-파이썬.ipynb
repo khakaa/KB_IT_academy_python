{
 "cells": [
  {
   "cell_type": "code",
   "execution_count": 3,
   "id": "7a88426e",
   "metadata": {},
   "outputs": [],
   "source": [
    "arr1 = [\n",
    "    [1,3,5],\n",
    "    [3,5,7],\n",
    "    [5,7,9]\n",
    "]"
   ]
  },
  {
   "cell_type": "code",
   "execution_count": 4,
   "id": "8ca75a9b",
   "metadata": {},
   "outputs": [
    {
     "data": {
      "text/plain": [
       "([1, 3, 5], [3, 5, 7], [5, 7, 9])"
      ]
     },
     "execution_count": 4,
     "metadata": {},
     "output_type": "execute_result"
    }
   ],
   "source": [
    "arr1[0], arr1[1], arr1[2]"
   ]
  },
  {
   "cell_type": "code",
   "execution_count": 5,
   "id": "a8fd0165",
   "metadata": {},
   "outputs": [
    {
     "data": {
      "text/plain": [
       "[[99, 3, 5], [3, 5, 7], [5, 7, 9]]"
      ]
     },
     "execution_count": 5,
     "metadata": {},
     "output_type": "execute_result"
    }
   ],
   "source": [
    "arr1[0][0] = 99\n",
    "arr1"
   ]
  },
  {
   "cell_type": "code",
   "execution_count": 6,
   "id": "c4f0868d",
   "metadata": {},
   "outputs": [],
   "source": [
    "# numpy -> 2차원 배열에서 열에 해당하는 값을 추출"
   ]
  },
  {
   "cell_type": "code",
   "execution_count": 7,
   "id": "5f7e4003",
   "metadata": {},
   "outputs": [],
   "source": [
    "# 인덱싱 수정 -> 값 자체를 집어 넣음\n",
    "# 슬라이싱 수정 -> 리스트의 요소에 값의 요소를 차례대로 집어 넣음"
   ]
  },
  {
   "cell_type": "code",
   "execution_count": 45,
   "id": "76fee24a",
   "metadata": {},
   "outputs": [
    {
     "data": {
      "text/plain": [
       "{4, 12, 29, 33}"
      ]
     },
     "execution_count": 45,
     "metadata": {},
     "output_type": "execute_result"
    }
   ],
   "source": [
    "# 로또 번호 생성\n",
    "import random\n",
    "lotto = set()\n",
    "# r = random.randint(1,45), => 이 경우에 튜플로 저장됨\n",
    "lotto.add(random.randint(1,45))\n",
    "lotto.add(random.randint(1,45))\n",
    "lotto.add(random.randint(1,45))\n",
    "lotto.add(random.randint(1,45))\n",
    "lotto.add(random.randint(1,45))\n",
    "lotto.add(random.randint(1,45))\n",
    "lotto"
   ]
  },
  {
   "cell_type": "code",
   "execution_count": 14,
   "id": "ee0d0bb1",
   "metadata": {},
   "outputs": [
    {
     "data": {
      "text/plain": [
       "[1, 2, 3, 4]"
      ]
     },
     "execution_count": 14,
     "metadata": {},
     "output_type": "execute_result"
    }
   ],
   "source": [
    "arr2 = [1,2,3]\n",
    "arr2.insert(10,4)\n",
    "arr2"
   ]
  },
  {
   "cell_type": "code",
   "execution_count": 20,
   "id": "dd4e917e",
   "metadata": {},
   "outputs": [
    {
     "data": {
      "text/plain": [
       "[7, 7, 10, 29, 31, 37]"
      ]
     },
     "execution_count": 20,
     "metadata": {},
     "output_type": "execute_result"
    }
   ],
   "source": [
    "lotto.sort(reverse=True)\n",
    "lotto.reverse()\n",
    "lotto"
   ]
  },
  {
   "cell_type": "code",
   "execution_count": 22,
   "id": "146fa053",
   "metadata": {},
   "outputs": [
    {
     "data": {
      "text/plain": [
       "10"
      ]
     },
     "execution_count": 22,
     "metadata": {},
     "output_type": "execute_result"
    }
   ],
   "source": [
    "lotto.pop(2)"
   ]
  },
  {
   "cell_type": "code",
   "execution_count": 25,
   "id": "4fa83bad",
   "metadata": {},
   "outputs": [
    {
     "data": {
      "text/plain": [
       "[29, 31]"
      ]
     },
     "execution_count": 25,
     "metadata": {},
     "output_type": "execute_result"
    }
   ],
   "source": [
    "lotto.remove(7)\n",
    "lotto"
   ]
  },
  {
   "cell_type": "code",
   "execution_count": 33,
   "id": "7a80e5be",
   "metadata": {},
   "outputs": [
    {
     "name": "stdout",
     "output_type": "stream",
     "text": [
      "[2, 4, 5, 3, 1]\n"
     ]
    }
   ],
   "source": [
    "# 연습문제 1\n",
    "arr3 = [1,3,5,4,2]\n",
    "print(arr3[::-1])"
   ]
  },
  {
   "cell_type": "code",
   "execution_count": 32,
   "id": "bee11a98",
   "metadata": {},
   "outputs": [
    {
     "data": {
      "text/plain": [
       "'Python is too interesting'"
      ]
     },
     "execution_count": 32,
     "metadata": {},
     "output_type": "execute_result"
    }
   ],
   "source": [
    "# 연습문제 2\n",
    "arr4 = ['Python','is','too','interesting']\n",
    "# s = ''\n",
    "\n",
    "# for i in range(len(arr4)):\n",
    "#     s += arr4[i] + ' '\n",
    "    \n",
    "# print(s)\n",
    "\n",
    "\" \".join(arr4)"
   ]
  },
  {
   "cell_type": "code",
   "execution_count": 35,
   "id": "90522fb5",
   "metadata": {},
   "outputs": [
    {
     "data": {
      "text/plain": [
       "['l', 'o', 'v', 'e']"
      ]
     },
     "execution_count": 35,
     "metadata": {},
     "output_type": "execute_result"
    }
   ],
   "source": [
    "list('love')"
   ]
  },
  {
   "cell_type": "code",
   "execution_count": 36,
   "id": "28035b02",
   "metadata": {},
   "outputs": [
    {
     "data": {
      "text/plain": [
       "('l', 'o', 'v', 'e')"
      ]
     },
     "execution_count": 36,
     "metadata": {},
     "output_type": "execute_result"
    }
   ],
   "source": [
    "tuple('love')"
   ]
  },
  {
   "cell_type": "code",
   "execution_count": 46,
   "id": "d78b6aab",
   "metadata": {},
   "outputs": [
    {
     "data": {
      "text/plain": [
       "{'김', '박', '이', '최', '홍'}"
      ]
     },
     "execution_count": 46,
     "metadata": {},
     "output_type": "execute_result"
    }
   ],
   "source": [
    "참석자 = set()\n",
    "day1 = {'홍','김','이'}\n",
    "참석자.update(day1)\n",
    "day2 = {'박','홍','최'}\n",
    "참석자.update(day2)\n",
    "참석자"
   ]
  },
  {
   "cell_type": "code",
   "execution_count": 50,
   "id": "0a9db0c8",
   "metadata": {},
   "outputs": [
    {
     "name": "stdout",
     "output_type": "stream",
     "text": [
      "[7, 6, 5, 4, 3, 2, 1]\n"
     ]
    }
   ],
   "source": [
    "a = [1,1,2,2,3,4,4,5,6,7,2]\n",
    "print(list(set(a))[::-1])"
   ]
  },
  {
   "cell_type": "code",
   "execution_count": 51,
   "id": "a754583a",
   "metadata": {},
   "outputs": [
    {
     "data": {
      "text/plain": [
       "{'h': 70, 'k': 80, 'l': 90}"
      ]
     },
     "execution_count": 51,
     "metadata": {},
     "output_type": "execute_result"
    }
   ],
   "source": [
    "names = ['h','k','l']\n",
    "scores = [70,80,90]\n",
    "score_dict = {'h':70, 'k':80, 'l':90}\n",
    "score_dict"
   ]
  },
  {
   "cell_type": "code",
   "execution_count": 52,
   "id": "fc5ffe41",
   "metadata": {},
   "outputs": [
    {
     "data": {
      "text/plain": [
       "['h', 'k', 'l']"
      ]
     },
     "execution_count": 52,
     "metadata": {},
     "output_type": "execute_result"
    }
   ],
   "source": [
    "list(score_dict.keys())"
   ]
  },
  {
   "cell_type": "code",
   "execution_count": 57,
   "id": "5d27d80a",
   "metadata": {},
   "outputs": [
    {
     "data": {
      "text/plain": [
       "80.0"
      ]
     },
     "execution_count": 57,
     "metadata": {},
     "output_type": "execute_result"
    }
   ],
   "source": [
    "v = list(score_dict.values())\n",
    "sum(v) / len(v)"
   ]
  },
  {
   "cell_type": "code",
   "execution_count": 55,
   "id": "e850df73",
   "metadata": {},
   "outputs": [
    {
     "data": {
      "text/plain": [
       "dict_items([('h', 70), ('k', 80), ('l', 90)])"
      ]
     },
     "execution_count": 55,
     "metadata": {},
     "output_type": "execute_result"
    }
   ],
   "source": [
    "score_dict.items()"
   ]
  },
  {
   "cell_type": "code",
   "execution_count": 59,
   "id": "e76cbff3",
   "metadata": {},
   "outputs": [
    {
     "data": {
      "text/plain": [
       "False"
      ]
     },
     "execution_count": 59,
     "metadata": {},
     "output_type": "execute_result"
    }
   ],
   "source": [
    "\"a\" in list(score_dict.keys())"
   ]
  },
  {
   "cell_type": "code",
   "execution_count": 60,
   "id": "8523a7ac",
   "metadata": {},
   "outputs": [
    {
     "name": "stdout",
     "output_type": "stream",
     "text": [
      "80\n",
      "{'a': 90, 'C': 70}\n"
     ]
    }
   ],
   "source": [
    "# 연습문제\n",
    "A = {'a' : 90, 'B' :80, 'C' : 70}\n",
    "\n",
    "print(A['B'])\n",
    "A.pop('B')\n",
    "print(A)"
   ]
  },
  {
   "cell_type": "code",
   "execution_count": 61,
   "id": "1aca0661",
   "metadata": {},
   "outputs": [
    {
     "name": "stdout",
     "output_type": "stream",
     "text": [
      "성별 : MALE\n",
      "남성\n"
     ]
    }
   ],
   "source": [
    "gender = input(\"성별 : \")\n",
    "\n",
    "if gender == 'MALE':\n",
    "    print(\"남성\")\n",
    "else:\n",
    "    print(\"여성\")"
   ]
  },
  {
   "cell_type": "code",
   "execution_count": 142,
   "id": "86f1b8da",
   "metadata": {},
   "outputs": [
    {
     "name": "stdout",
     "output_type": "stream",
     "text": [
      "몸무게와 키 입력: 45 158\n",
      "비만 수치는 -13입니다.\n"
     ]
    }
   ],
   "source": [
    "# 90p 연습문제\n",
    "info = list(map(int, input(\"몸무게와 키 입력: \").split()))\n",
    "isObecity = info[0] + 100 - info[1]\n",
    "\n",
    "print(f\"비만 수치는 %d입니다.\" % isObecity)\n",
    "\n",
    "if (isObecity > 0):\n",
    "    print(\"당신은 비만입니다.\")"
   ]
  },
  {
   "cell_type": "code",
   "execution_count": 25,
   "id": "f522b759",
   "metadata": {},
   "outputs": [
    {
     "name": "stdout",
     "output_type": "stream",
     "text": [
      "랜덤숫자 : 28\n",
      "1\n",
      "시도 횟수 : 1\n",
      "높여주세요\n",
      "\n",
      "\n",
      "랜덤숫자 : 28\n",
      "2\n",
      "시도 횟수 : 2\n",
      "높여주세요\n",
      "\n",
      "\n",
      "랜덤숫자 : 28\n",
      "3\n",
      "시도 횟수 : 3\n",
      "높여주세요\n",
      "\n",
      "\n",
      "랜덤숫자 : 28\n",
      "4\n",
      "시도 횟수 : 4\n",
      "높여주세요\n",
      "\n",
      "\n",
      "랜덤숫자 : 28\n",
      "28\n",
      "시도 횟수 : 5\n",
      "정답입니다\n"
     ]
    }
   ],
   "source": [
    "# for 문\n",
    "\n",
    "# 숫자 맞추기 게임\n",
    "import random\n",
    "com = random.randint(1,100)\n",
    "cnt = 0\n",
    "\n",
    "for i in range(10):\n",
    "    print(f\"랜덤숫자 : {com}\")\n",
    "    user = int(input())\n",
    "    print(f\"시도 횟수 : {i+1}\")\n",
    "            \n",
    "    if com < user:\n",
    "        print(\"낮춰주세요\")\n",
    "    elif com > user:\n",
    "        print(\"높여주세요\")\n",
    "        \n",
    "    if (i == 9 and com != user):\n",
    "        print(\"당신은 바보~\")\n",
    "    elif com == user:\n",
    "        print(\"정답입니다\")\n",
    "        break\n",
    "    \n",
    "    print(\"\\n\")\n"
   ]
  },
  {
   "cell_type": "code",
   "execution_count": 11,
   "id": "eb645b9c",
   "metadata": {},
   "outputs": [
    {
     "name": "stdout",
     "output_type": "stream",
     "text": [
      "랜덤숫자 : 2\n",
      "1\n",
      "시도 횟수 : 1\n",
      "높여주세요\n",
      "3\n",
      "시도 횟수 : 2\n",
      "낮춰주세요\n",
      "4\n",
      "시도 횟수 : 3\n",
      "낮춰주세요\n",
      "2\n",
      "시도 횟수 : 4\n",
      "정답입니다~\n"
     ]
    }
   ],
   "source": [
    "# while 문\n",
    "\n",
    "print(f\"랜덤숫자 : {com}\")\n",
    "user = -1\n",
    "\n",
    "while com != user:\n",
    "    cnt += 1\n",
    "    user = int(input())\n",
    "    print(f\"시도 횟수 : {cnt}\")\n",
    "    \n",
    "    if com < user:\n",
    "        print(\"낮춰주세요\")\n",
    "    elif com > user:\n",
    "        print(\"높여주세요\")\n",
    "\n",
    "    if(cnt > 10):\n",
    "        print(\"바보\")\n",
    "\n",
    "print(\"정답입니다~\")\n",
    " "
   ]
  },
  {
   "cell_type": "code",
   "execution_count": 232,
   "id": "6d2b6974",
   "metadata": {},
   "outputs": [
    {
     "name": "stdout",
     "output_type": "stream",
     "text": [
      "60\n"
     ]
    },
    {
     "data": {
      "text/plain": [
       "'D'"
      ]
     },
     "execution_count": 232,
     "metadata": {},
     "output_type": "execute_result"
    }
   ],
   "source": [
    "# p93 연습문제\n",
    "score = int(input())\n",
    "\n",
    "# if score >= 90:\n",
    "#     print(\"A\")\n",
    "# elif score >= 80 and score < 90:\n",
    "#     print(\"B\")\n",
    "# elif score >= 70 and score < 80:\n",
    "#     print(\"C\")\n",
    "# else:\n",
    "#     print(\"D\")\n",
    "    \n",
    "grade = \"A\" if score >= 90 else (\"B\" if score >= 80 else (\"C\" if score >= 70 else \"D\"))\n",
    "\n",
    "grade"
   ]
  },
  {
   "cell_type": "code",
   "execution_count": 12,
   "id": "b1f3654c",
   "metadata": {},
   "outputs": [
    {
     "name": "stdout",
     "output_type": "stream",
     "text": [
      "80.0\n"
     ]
    }
   ],
   "source": [
    "scores = [70,80,90]\n",
    "# 총합 계산\n",
    "tot = 0\n",
    "\n",
    "for s in scores:\n",
    "    tot += s\n",
    "    \n",
    "print(tot / len(scores))"
   ]
  },
  {
   "cell_type": "code",
   "execution_count": 28,
   "id": "004bca88",
   "metadata": {},
   "outputs": [
    {
     "name": "stdout",
     "output_type": "stream",
     "text": [
      "1번 학생은 합격입니다.\n",
      "2번 학생은 불합격입니다.\n",
      "3번 학생은 합격입니다.\n",
      "4번 학생은 불합격입니다.\n",
      "5번 학생은 합격입니다.\n"
     ]
    }
   ],
   "source": [
    "# p 96 연습문제\n",
    "\n",
    "result = [90,35,68,44,81]\n",
    "\n",
    "for i in range(len(result)):\n",
    "    if result[i] >= 60:\n",
    "        print(f\"{i + 1}번 학생은 합격입니다.\")\n",
    "    else:\n",
    "        print(f\"{i + 1}번 학생은 불합격입니다.\")"
   ]
  },
  {
   "cell_type": "code",
   "execution_count": 30,
   "id": "ef2bbf35",
   "metadata": {},
   "outputs": [
    {
     "name": "stdout",
     "output_type": "stream",
     "text": [
      "5050\n"
     ]
    }
   ],
   "source": [
    "# p 97 연습문제\n",
    "\n",
    "sum = 0\n",
    "\n",
    "for i in range(1, 101):\n",
    "    sum += i\n",
    "print(sum)"
   ]
  },
  {
   "cell_type": "code",
   "execution_count": 35,
   "id": "28ab156e",
   "metadata": {},
   "outputs": [
    {
     "name": "stdout",
     "output_type": "stream",
     "text": [
      "1\n",
      "2\n",
      "3\n",
      "4\n",
      "5\n",
      "6\n",
      "7\n",
      "8\n",
      "9\n",
      "10\n"
     ]
    }
   ],
   "source": [
    "test2D = [[1,2,3],[4,5,6],[7,8,9,10]]\n",
    "\n",
    "for i in test2D:\n",
    "    for j in i:\n",
    "        print(j)"
   ]
  },
  {
   "cell_type": "code",
   "execution_count": 36,
   "id": "c4811275",
   "metadata": {},
   "outputs": [
    {
     "data": {
      "text/plain": [
       "'70-80-90'"
      ]
     },
     "execution_count": 36,
     "metadata": {},
     "output_type": "execute_result"
    }
   ],
   "source": [
    "scores = [70,80,90]\n",
    "scores = [str(s) for s in scores]\n",
    "'-'.join(scores)"
   ]
  },
  {
   "cell_type": "code",
   "execution_count": 72,
   "id": "adac81a9",
   "metadata": {},
   "outputs": [
    {
     "name": "stdout",
     "output_type": "stream",
     "text": [
      "보\n"
     ]
    }
   ],
   "source": [
    "import random\n",
    "n = random.randint(1,3)\n",
    "\n",
    "rsp = {1 : '가위', 2 : '바위', 3 : '보'}\n",
    "\n",
    "print(rsp[n])"
   ]
  },
  {
   "cell_type": "code",
   "execution_count": 73,
   "id": "6753e135",
   "metadata": {},
   "outputs": [
    {
     "name": "stdout",
     "output_type": "stream",
     "text": [
      "hello\n",
      "<function my_hello at 0x000001B910768C10>\n"
     ]
    },
    {
     "data": {
      "text/plain": [
       "'hello'"
      ]
     },
     "execution_count": 73,
     "metadata": {},
     "output_type": "execute_result"
    }
   ],
   "source": [
    "def my_hello():\n",
    "    return (\"hello\")\n",
    "\n",
    "ans = my_hello()\n",
    "print(ans)\n",
    "\n",
    "print(my_hello)\n",
    "aa = my_hello\n",
    "aa()"
   ]
  }
 ],
 "metadata": {
  "kernelspec": {
   "display_name": "Python 3 (ipykernel)",
   "language": "python",
   "name": "python3"
  },
  "language_info": {
   "codemirror_mode": {
    "name": "ipython",
    "version": 3
   },
   "file_extension": ".py",
   "mimetype": "text/x-python",
   "name": "python",
   "nbconvert_exporter": "python",
   "pygments_lexer": "ipython3",
   "version": "3.9.12"
  }
 },
 "nbformat": 4,
 "nbformat_minor": 5
}
