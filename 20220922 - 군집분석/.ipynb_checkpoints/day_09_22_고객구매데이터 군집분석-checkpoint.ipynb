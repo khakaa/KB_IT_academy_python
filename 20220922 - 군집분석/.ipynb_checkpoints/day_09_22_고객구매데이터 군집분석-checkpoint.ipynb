{
 "cells": [
  {
   "cell_type": "markdown",
   "id": "3bf40420",
   "metadata": {},
   "source": [
    "# 고객구매데이터 군집분석"
   ]
  },
  {
   "cell_type": "code",
   "execution_count": 2,
   "id": "033f4a7a",
   "metadata": {},
   "outputs": [
    {
     "data": {
      "text/html": [
       "<div>\n",
       "<style scoped>\n",
       "    .dataframe tbody tr th:only-of-type {\n",
       "        vertical-align: middle;\n",
       "    }\n",
       "\n",
       "    .dataframe tbody tr th {\n",
       "        vertical-align: top;\n",
       "    }\n",
       "\n",
       "    .dataframe thead th {\n",
       "        text-align: right;\n",
       "    }\n",
       "</style>\n",
       "<table border=\"1\" class=\"dataframe\">\n",
       "  <thead>\n",
       "    <tr style=\"text-align: right;\">\n",
       "      <th></th>\n",
       "      <th>Customer ID</th>\n",
       "      <th>ItemsBought</th>\n",
       "      <th>ItemsReturned</th>\n",
       "      <th>ZipCode</th>\n",
       "      <th>Product</th>\n",
       "    </tr>\n",
       "  </thead>\n",
       "  <tbody>\n",
       "    <tr>\n",
       "      <th>0</th>\n",
       "      <td>4</td>\n",
       "      <td>45</td>\n",
       "      <td>10</td>\n",
       "      <td>2</td>\n",
       "      <td>1365</td>\n",
       "    </tr>\n",
       "    <tr>\n",
       "      <th>1</th>\n",
       "      <td>5</td>\n",
       "      <td>42</td>\n",
       "      <td>18</td>\n",
       "      <td>5</td>\n",
       "      <td>2764</td>\n",
       "    </tr>\n",
       "    <tr>\n",
       "      <th>2</th>\n",
       "      <td>6</td>\n",
       "      <td>50</td>\n",
       "      <td>0</td>\n",
       "      <td>1</td>\n",
       "      <td>1343</td>\n",
       "    </tr>\n",
       "    <tr>\n",
       "      <th>3</th>\n",
       "      <td>8</td>\n",
       "      <td>13</td>\n",
       "      <td>12</td>\n",
       "      <td>4</td>\n",
       "      <td>2435</td>\n",
       "    </tr>\n",
       "    <tr>\n",
       "      <th>4</th>\n",
       "      <td>9</td>\n",
       "      <td>10</td>\n",
       "      <td>7</td>\n",
       "      <td>3</td>\n",
       "      <td>2435</td>\n",
       "    </tr>\n",
       "    <tr>\n",
       "      <th>5</th>\n",
       "      <td>10</td>\n",
       "      <td>34</td>\n",
       "      <td>17</td>\n",
       "      <td>6</td>\n",
       "      <td>2896</td>\n",
       "    </tr>\n",
       "    <tr>\n",
       "      <th>6</th>\n",
       "      <td>11</td>\n",
       "      <td>40</td>\n",
       "      <td>20</td>\n",
       "      <td>8</td>\n",
       "      <td>2869</td>\n",
       "    </tr>\n",
       "    <tr>\n",
       "      <th>7</th>\n",
       "      <td>12</td>\n",
       "      <td>40</td>\n",
       "      <td>8</td>\n",
       "      <td>2</td>\n",
       "      <td>1236</td>\n",
       "    </tr>\n",
       "    <tr>\n",
       "      <th>8</th>\n",
       "      <td>14</td>\n",
       "      <td>9</td>\n",
       "      <td>9</td>\n",
       "      <td>8</td>\n",
       "      <td>2435</td>\n",
       "    </tr>\n",
       "    <tr>\n",
       "      <th>9</th>\n",
       "      <td>15</td>\n",
       "      <td>36</td>\n",
       "      <td>7</td>\n",
       "      <td>2</td>\n",
       "      <td>1764</td>\n",
       "    </tr>\n",
       "    <tr>\n",
       "      <th>10</th>\n",
       "      <td>16</td>\n",
       "      <td>42</td>\n",
       "      <td>1</td>\n",
       "      <td>1</td>\n",
       "      <td>1547</td>\n",
       "    </tr>\n",
       "    <tr>\n",
       "      <th>11</th>\n",
       "      <td>17</td>\n",
       "      <td>46</td>\n",
       "      <td>1</td>\n",
       "      <td>1</td>\n",
       "      <td>1265</td>\n",
       "    </tr>\n",
       "    <tr>\n",
       "      <th>12</th>\n",
       "      <td>21</td>\n",
       "      <td>41</td>\n",
       "      <td>22</td>\n",
       "      <td>9</td>\n",
       "      <td>2465</td>\n",
       "    </tr>\n",
       "  </tbody>\n",
       "</table>\n",
       "</div>"
      ],
      "text/plain": [
       "    Customer ID  ItemsBought  ItemsReturned  ZipCode  Product\n",
       "0             4           45             10        2     1365\n",
       "1             5           42             18        5     2764\n",
       "2             6           50              0        1     1343\n",
       "3             8           13             12        4     2435\n",
       "4             9           10              7        3     2435\n",
       "5            10           34             17        6     2896\n",
       "6            11           40             20        8     2869\n",
       "7            12           40              8        2     1236\n",
       "8            14            9              9        8     2435\n",
       "9            15           36              7        2     1764\n",
       "10           16           42              1        1     1547\n",
       "11           17           46              1        1     1265\n",
       "12           21           41             22        9     2465"
      ]
     },
     "execution_count": 2,
     "metadata": {},
     "output_type": "execute_result"
    }
   ],
   "source": [
    "import pandas as pd \n",
    "df = pd.read_excel('CustomerDataSet.xls')\n",
    "df"
   ]
  },
  {
   "cell_type": "code",
   "execution_count": 39,
   "id": "0122c167",
   "metadata": {},
   "outputs": [],
   "source": [
    "# 데이터 복사본\n",
    "df2 = df.copy()\n",
    "\n",
    "# 거리계산을 위해 정규화 전처리 실행\n",
    "from sklearn.preprocessing import MinMaxScaler\n",
    "df2[['ItemsBought', 'ItemsReturned']] = MinMaxScaler().fit_transform(df2[['ItemsBought', 'ItemsReturned']])"
   ]
  },
  {
   "cell_type": "code",
   "execution_count": 40,
   "id": "25005b23",
   "metadata": {},
   "outputs": [
    {
     "name": "stdout",
     "output_type": "stream",
     "text": [
      "4개 그룹으로 나누면 좋을듯\n"
     ]
    },
    {
     "data": {
      "image/png": "[encoded data removed]",
      "text/plain": [
       "<Figure size 432x288 with 1 Axes>"
      ]
     },
     "metadata": {
      "needs_background": "light"
     },
     "output_type": "display_data"
    }
   ],
   "source": [
    "import matplotlib.pyplot as plt\n",
    "\n",
    "# 군집분석\n",
    "from sklearn.cluster import KMeans\n",
    "model = KMeans(n_clusters=2)\n",
    "pred = model.fit_predict(df2[['ItemsBought', 'ItemsReturned']])\n",
    "\n",
    "plt.scatter(\n",
    "    df2['ItemsBought'], # x \n",
    "    df2['ItemsReturned'], # y\n",
    "    c=pred # color : 같은 값끼리 같은 색을 가짐\n",
    "    )\n",
    "\n",
    "print('4개 그룹으로 나누면 좋을듯')"
   ]
  },
  {
   "cell_type": "code",
   "execution_count": 21,
   "id": "2f7e2fde",
   "metadata": {},
   "outputs": [
    {
     "name": "stdout",
     "output_type": "stream",
     "text": [
      "4개 그룹으로 나눈 결과\n"
     ]
    },
    {
     "data": {
      "image/png": "[encoded data removed]",
      "text/plain": [
       "<Figure size 432x288 with 1 Axes>"
      ]
     },
     "metadata": {
      "needs_background": "light"
     },
     "output_type": "display_data"
    }
   ],
   "source": [
    "model = KMeans(n_clusters=4)\n",
    "pred = model.fit_predict(pd2[['ItemsBought', 'ItemsReturned']])\n",
    "\n",
    "plt.scatter(\n",
    "    pd2['ItemsBought'], # x \n",
    "    pd2['ItemsReturned'], # y\n",
    "    c=pred\n",
    "    )\n",
    "\n",
    "print('4개 그룹으로 나눈 결과')"
   ]
  },
  {
   "cell_type": "code",
   "execution_count": 41,
   "id": "fd067903",
   "metadata": {},
   "outputs": [
    {
     "data": {
      "image/png": "[encoded data removed]",
      "text/plain": [
       "<Figure size 720x432 with 6 Axes>"
      ]
     },
     "metadata": {
      "needs_background": "light"
     },
     "output_type": "display_data"
    }
   ],
   "source": [
    "plt.figure(figsize=(10,6))\n",
    "\n",
    "for k in range(2,8):\n",
    "    model = KMeans(n_clusters=k)\n",
    "    pred = model.fit_predict(pd2[['ItemsBought', 'ItemsReturned']])\n",
    "    \n",
    "\n",
    "    plt.subplot(2,3,k-1)     # 2행 3열 그래프\n",
    "    plt.tight_layout() # 그래프들끼리 겹치지 않고 적당한 간격을 둠\n",
    "    \n",
    "    plt.title(f'k={k}')\n",
    "    plt.xlabel('ItemsBought')\n",
    "    plt.ylabel('ItemsReturned')\n",
    "\n",
    "    plt.scatter(\n",
    "        df2['ItemsBought'], # x \n",
    "        df2['ItemsReturned'], # y\n",
    "        c=pred # color : 같은 값끼리 같은 색을 가짐\n",
    "        )"
   ]
  },
  {
   "cell_type": "code",
   "execution_count": null,
   "id": "c746402d",
   "metadata": {},
   "outputs": [],
   "source": []
  },
  {
   "cell_type": "code",
   "execution_count": 42,
   "id": "1070d44b",
   "metadata": {},
   "outputs": [
    {
     "data": {
      "text/plain": [
       "[Pandas(Index=0, _1=4, ItemsBought=0.878048780487805, ItemsReturned=0.4545454545454546, ZipCode=2, Product=1365),\n",
       " Pandas(Index=1, _1=5, ItemsBought=0.8048780487804879, ItemsReturned=0.8181818181818182, ZipCode=5, Product=2764),\n",
       " Pandas(Index=2, _1=6, ItemsBought=1.0, ItemsReturned=0.0, ZipCode=1, Product=1343),\n",
       " Pandas(Index=3, _1=8, ItemsBought=0.0975609756097561, ItemsReturned=0.5454545454545454, ZipCode=4, Product=2435),\n",
       " Pandas(Index=4, _1=9, ItemsBought=0.02439024390243902, ItemsReturned=0.3181818181818182, ZipCode=3, Product=2435),\n",
       " Pandas(Index=5, _1=10, ItemsBought=0.6097560975609757, ItemsReturned=0.7727272727272727, ZipCode=6, Product=2896),\n",
       " Pandas(Index=6, _1=11, ItemsBought=0.7560975609756098, ItemsReturned=0.9090909090909092, ZipCode=8, Product=2869),\n",
       " Pandas(Index=7, _1=12, ItemsBought=0.7560975609756098, ItemsReturned=0.36363636363636365, ZipCode=2, Product=1236),\n",
       " Pandas(Index=8, _1=14, ItemsBought=0.0, ItemsReturned=0.4090909090909091, ZipCode=8, Product=2435),\n",
       " Pandas(Index=9, _1=15, ItemsBought=0.6585365853658537, ItemsReturned=0.3181818181818182, ZipCode=2, Product=1764),\n",
       " Pandas(Index=10, _1=16, ItemsBought=0.8048780487804879, ItemsReturned=0.045454545454545456, ZipCode=1, Product=1547),\n",
       " Pandas(Index=11, _1=17, ItemsBought=0.902439024390244, ItemsReturned=0.045454545454545456, ZipCode=1, Product=1265),\n",
       " Pandas(Index=12, _1=21, ItemsBought=0.7804878048780488, ItemsReturned=1.0, ZipCode=9, Product=2465)]"
      ]
     },
     "execution_count": 42,
     "metadata": {},
     "output_type": "execute_result"
    }
   ],
   "source": [
    "list(df2.itertuples())"
   ]
  },
  {
   "cell_type": "code",
   "execution_count": 50,
   "id": "da09752a",
   "metadata": {},
   "outputs": [
    {
     "data": {
      "image/png": "[encoded data removed]",
      "text/plain": [
       "<Figure size 432x288 with 1 Axes>"
      ]
     },
     "metadata": {
      "needs_background": "light"
     },
     "output_type": "display_data"
    }
   ],
   "source": [
    "model = KMeans(n_clusters=4)\n",
    "pred = model.fit_predict(df2[['ItemsBought', 'ItemsReturned']])\n",
    "\n",
    "plt.scatter(\n",
    "    df['ItemsBought'], # x \n",
    "    df['ItemsReturned'], # y\n",
    "    c=pred\n",
    "    )\n",
    "\n",
    "\n",
    "# 각 데이터에 제품번호 출력\n",
    "for index, c_id, bought, returned, zipcode, product in df.itertuples():\n",
    "    # 주석 달기\n",
    "    plt.annotate(f'{pred[index]} : {product}', (bought+0.5, returned+0.5)) # +0.5하면 점에 글자가 겹쳐지지 않음\n",
    "plt.show()\n"
   ]
  },
  {
   "cell_type": "code",
   "execution_count": null,
   "id": "8283b247",
   "metadata": {},
   "outputs": [],
   "source": []
  }
 ],
 "metadata": {
  "kernelspec": {
   "display_name": "Python 3 (ipykernel)",
   "language": "python",
   "name": "python3"
  },
  "language_info": {
   "codemirror_mode": {
    "name": "ipython",
    "version": 3
   },
   "file_extension": ".py",
   "mimetype": "text/x-python",
   "name": "python",
   "nbconvert_exporter": "python",
   "pygments_lexer": "ipython3",
   "version": "3.9.7"
  }
 },
 "nbformat": 4,
 "nbformat_minor": 5
}
