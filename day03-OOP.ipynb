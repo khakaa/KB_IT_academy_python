{
 "cells": [
  {
   "cell_type": "code",
   "execution_count": 10,
   "id": "e01054d4",
   "metadata": {},
   "outputs": [
    {
     "name": "stdout",
     "output_type": "stream",
     "text": [
      "ps5=300000\n",
      "instance is removed\n"
     ]
    },
    {
     "data": {
      "text/plain": [
       "<__main__.Product at 0x17c10a27b20>"
      ]
     },
     "execution_count": 10,
     "metadata": {},
     "output_type": "execute_result"
    }
   ],
   "source": [
    "class Product:\n",
    "    def __init__(self, name, price):\n",
    "        self.name = name\n",
    "        self.price = price\n",
    "        \n",
    "    def __del__(self):\n",
    "        print(\"instance is removed\")\n",
    "        \n",
    "    def print_info(self):\n",
    "        print(self.name, self.price, sep=\"=\")\n",
    "    \n",
    "p1 = Product(\"ps5\", 300000) # 맨 첫번째 매개변수에 self 주소값이 숨어있음\n",
    "p1.print_info()\n",
    "p1.__del__()\n",
    "p1"
   ]
  }
 ],
 "metadata": {
  "kernelspec": {
   "display_name": "Python 3 (ipykernel)",
   "language": "python",
   "name": "python3"
  },
  "language_info": {
   "codemirror_mode": {
    "name": "ipython",
    "version": 3
   },
   "file_extension": ".py",
   "mimetype": "text/x-python",
   "name": "python",
   "nbconvert_exporter": "python",
   "pygments_lexer": "ipython3",
   "version": "3.9.12"
  }
 },
 "nbformat": 4,
 "nbformat_minor": 5
}
