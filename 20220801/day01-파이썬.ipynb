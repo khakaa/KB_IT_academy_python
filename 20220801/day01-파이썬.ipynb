{
 "cells": [
  {
   "cell_type": "code",
   "execution_count": 4,
   "id": "11059235",
   "metadata": {
    "scrolled": true
   },
   "outputs": [
    {
     "name": "stdout",
     "output_type": "stream",
     "text": [
      "100000000000000000000\n"
     ]
    },
    {
     "data": {
      "text/plain": [
       "10000000000000000000000000000000000000000"
      ]
     },
     "execution_count": 4,
     "metadata": {},
     "output_type": "execute_result"
    }
   ],
   "source": [
    "a = 10000\n",
    "b = a*10000*10000*10000*10000\n",
    "print(b)\n",
    "b*b"
   ]
  },
  {
   "cell_type": "code",
   "execution_count": 5,
   "id": "e990dabb",
   "metadata": {
    "scrolled": true
   },
   "outputs": [
    {
     "data": {
      "text/plain": [
       "int"
      ]
     },
     "execution_count": 5,
     "metadata": {},
     "output_type": "execute_result"
    }
   ],
   "source": [
    "type(b)"
   ]
  },
  {
   "cell_type": "code",
   "execution_count": 8,
   "id": "74e4a63a",
   "metadata": {},
   "outputs": [
    {
     "name": "stdout",
     "output_type": "stream",
     "text": [
      "홍길동\n"
     ]
    }
   ],
   "source": [
    "myname = \"홍길동\"\n",
    "print(myname)"
   ]
  },
  {
   "cell_type": "code",
   "execution_count": 21,
   "id": "f00ddaab",
   "metadata": {},
   "outputs": [
    {
     "name": "stdout",
     "output_type": "stream",
     "text": [
      "100 6 496 162254319\n"
     ]
    }
   ],
   "source": [
    "i = 100\n",
    "j = 0b110\n",
    "j8 = 0o760\n",
    "j16 = 0x9abcdef\n",
    "print(i,j,j8,j16)"
   ]
  },
  {
   "cell_type": "code",
   "execution_count": 32,
   "id": "74680b71",
   "metadata": {},
   "outputs": [
    {
     "data": {
      "text/plain": [
       "(2022, 8, 1)"
      ]
     },
     "execution_count": 32,
     "metadata": {},
     "output_type": "execute_result"
    }
   ],
   "source": [
    "today = 20220801\n",
    "year =  today // 10000\n",
    "month = today % 10000 // 100\n",
    "day = today % 10000 % 100\n",
    "year,month,day"
   ]
  },
  {
   "cell_type": "code",
   "execution_count": 36,
   "id": "0e94d0e9",
   "metadata": {},
   "outputs": [
    {
     "data": {
      "text/plain": [
       "12"
      ]
     },
     "execution_count": 36,
     "metadata": {},
     "output_type": "execute_result"
    }
   ],
   "source": [
    "int(\"1\"+\"2\")\n",
    "# \"1\"+2 문자열끼리 더하면 문자열 결합, 문자열 + 숫자는 오류"
   ]
  },
  {
   "cell_type": "code",
   "execution_count": 43,
   "id": "8dd21f84",
   "metadata": {},
   "outputs": [
    {
     "data": {
      "text/plain": [
       "True"
      ]
     },
     "execution_count": 43,
     "metadata": {},
     "output_type": "execute_result"
    }
   ],
   "source": [
    "\n",
    "bool(\" \")"
   ]
  },
  {
   "cell_type": "code",
   "execution_count": 44,
   "id": "67a96c60",
   "metadata": {},
   "outputs": [
    {
     "data": {
      "text/plain": [
       "'홍'"
      ]
     },
     "execution_count": 44,
     "metadata": {},
     "output_type": "execute_result"
    }
   ],
   "source": [
    "s1 = \"홍\"\n",
    "s1"
   ]
  },
  {
   "cell_type": "code",
   "execution_count": 49,
   "id": "d4feb714",
   "metadata": {},
   "outputs": [
    {
     "data": {
      "text/plain": [
       "'구름에 달가듯이 가는 나그네길은 외줄기 남도삼백리'"
      ]
     },
     "execution_count": 49,
     "metadata": {},
     "output_type": "execute_result"
    }
   ],
   "source": [
    "# \\ -> 연장 기호, 줄바꿈했을 때 이어줌\n",
    "poem = \"구름에 달가듯이 가는 나그네\\\n",
    "길은 외줄기 남도삼백리\"\n",
    "poem"
   ]
  },
  {
   "cell_type": "code",
   "execution_count": 50,
   "id": "323f65ef",
   "metadata": {},
   "outputs": [
    {
     "data": {
      "text/plain": [
       "'구름에 달가듯이 가는 나그네\\n길은 외줄기 남도삼백리\\n'"
      ]
     },
     "execution_count": 50,
     "metadata": {},
     "output_type": "execute_result"
    }
   ],
   "source": [
    "poem = \"\"\"구름에 달가듯이 가는 나그네\n",
    "길은 외줄기 남도삼백리\n",
    "\"\"\"\n",
    "poem"
   ]
  },
  {
   "cell_type": "code",
   "execution_count": null,
   "id": "6583d1c5",
   "metadata": {},
   "outputs": [],
   "source": [
    "# 연습문제 1\n",
    "person = \"210101-1234567\"\n",
    "gender = person[7]\n",
    "print(gender)"
   ]
  },
  {
   "cell_type": "code",
   "execution_count": 85,
   "id": "ae2240ea",
   "metadata": {},
   "outputs": [
    {
     "name": "stdout",
     "output_type": "stream",
     "text": [
      "20210101 Sunny\n"
     ]
    }
   ],
   "source": [
    "# 연습문제 2\n",
    "s = \"20210101Sunny\"\n",
    "date = s[:8]\n",
    "weather = s[8:]\n",
    "print(date,weather)"
   ]
  },
  {
   "cell_type": "code",
   "execution_count": 2,
   "id": "7bd729db",
   "metadata": {},
   "outputs": [
    {
     "name": "stdout",
     "output_type": "stream",
     "text": [
      "홍길동은 30\n"
     ]
    }
   ],
   "source": [
    "name = \"홍길동\"\n",
    "age = 30\n",
    "print(name + '은 ' + str(age))"
   ]
  },
  {
   "cell_type": "code",
   "execution_count": 66,
   "id": "59db9fef",
   "metadata": {},
   "outputs": [
    {
     "name": "stdout",
     "output_type": "stream",
     "text": [
      "홍길동는 30살\n",
      "홍길동는 30살\n"
     ]
    }
   ],
   "source": [
    "print(\"%s는 %s살\" % (name,age))\n",
    "print(\"%s는 %d살\" % (name,age))"
   ]
  },
  {
   "cell_type": "code",
   "execution_count": 78,
   "id": "6c133259",
   "metadata": {},
   "outputs": [
    {
     "name": "stdout",
     "output_type": "stream",
     "text": [
      "홍길동는 30살 홍길동은 젊어요\n"
     ]
    }
   ],
   "source": [
    "print(\"{0}는 {1}살 {0}은 젊어요\".format(name,age))"
   ]
  },
  {
   "cell_type": "code",
   "execution_count": 83,
   "id": "3058ecad",
   "metadata": {},
   "outputs": [
    {
     "name": "stdout",
     "output_type": "stream",
     "text": [
      "홍길동은 30살. 1992년생\n"
     ]
    }
   ],
   "source": [
    "print(f\"{name}은 {age}살. {2022-age}년생\")"
   ]
  },
  {
   "cell_type": "code",
   "execution_count": 84,
   "id": "b0d1863f",
   "metadata": {},
   "outputs": [
    {
     "data": {
      "text/plain": [
       "'홍길동의 길이는 3'"
      ]
     },
     "execution_count": 84,
     "metadata": {},
     "output_type": "execute_result"
    }
   ],
   "source": [
    "f\"{name}의 길이는 {len(name)}\""
   ]
  },
  {
   "cell_type": "code",
   "execution_count": 3,
   "id": "edd56581",
   "metadata": {},
   "outputs": [
    {
     "data": {
      "text/plain": [
       "True"
      ]
     },
     "execution_count": 3,
     "metadata": {},
     "output_type": "execute_result"
    }
   ],
   "source": [
    "\"홍길동12\".isalnum()"
   ]
  },
  {
   "cell_type": "code",
   "execution_count": 5,
   "id": "f67926b4",
   "metadata": {},
   "outputs": [
    {
     "data": {
      "text/plain": [
       "5"
      ]
     },
     "execution_count": 5,
     "metadata": {},
     "output_type": "execute_result"
    }
   ],
   "source": [
    "\"홍길동 김길동\".index(\"길동\",3)"
   ]
  },
  {
   "cell_type": "code",
   "execution_count": 6,
   "id": "91fbfa10",
   "metadata": {},
   "outputs": [
    {
     "data": {
      "text/plain": [
       "False"
      ]
     },
     "execution_count": 6,
     "metadata": {},
     "output_type": "execute_result"
    }
   ],
   "source": [
    "\"홍길동\".startswith(\"김\")"
   ]
  },
  {
   "cell_type": "code",
   "execution_count": 8,
   "id": "01c2f640",
   "metadata": {},
   "outputs": [
    {
     "data": {
      "text/plain": [
       "'abc def'"
      ]
     },
     "execution_count": 8,
     "metadata": {},
     "output_type": "execute_result"
    }
   ],
   "source": [
    "\"     abc def    \".strip()"
   ]
  },
  {
   "cell_type": "code",
   "execution_count": 19,
   "id": "e3623b07",
   "metadata": {},
   "outputs": [
    {
     "name": "stdout",
     "output_type": "stream",
     "text": [
      "홍길동__30\n"
     ]
    }
   ],
   "source": [
    "print(name,age, sep=\"__\")"
   ]
  },
  {
   "cell_type": "code",
   "execution_count": 25,
   "id": "d065c8e1",
   "metadata": {},
   "outputs": [
    {
     "name": "stdout",
     "output_type": "stream",
     "text": [
      "100000--1000000\n"
     ]
    }
   ],
   "source": [
    "a = 100000\n",
    "b = 1000000\n",
    "print(a, end=\"--\")\n",
    "print(b)"
   ]
  },
  {
   "cell_type": "code",
   "execution_count": 1,
   "id": "91ddd0ee",
   "metadata": {},
   "outputs": [
    {
     "name": "stdout",
     "output_type": "stream",
     "text": [
      "이름을 입력하세요: ㅎㄹ\n"
     ]
    }
   ],
   "source": [
    "ans = input(\"이름을 입력하세요: \")"
   ]
  },
  {
   "cell_type": "code",
   "execution_count": 2,
   "id": "3d651742",
   "metadata": {},
   "outputs": [
    {
     "name": "stdout",
     "output_type": "stream",
     "text": [
      "ㅎㄹ\n"
     ]
    }
   ],
   "source": [
    "print(ans)"
   ]
  },
  {
   "cell_type": "code",
   "execution_count": 3,
   "id": "ba6f478a",
   "metadata": {},
   "outputs": [],
   "source": [
    "a = 90\n",
    "b = 70\n",
    "\n",
    "# list\n",
    "class1 = [70,80,90]"
   ]
  },
  {
   "cell_type": "code",
   "execution_count": 42,
   "id": "37ada09c",
   "metadata": {},
   "outputs": [
    {
     "data": {
      "text/plain": [
       "[24, 30, 29, 32, 28, 17]"
      ]
     },
     "execution_count": 42,
     "metadata": {},
     "output_type": "execute_result"
    }
   ],
   "source": [
    "import random\n",
    "lotto = [\n",
    "    random.randint(1,45),\n",
    "    random.randint(1,45),\n",
    "    random.randint(1,45),\n",
    "    random.randint(1,45),\n",
    "    random.randint(1,45),\n",
    "    random.randint(1,45)\n",
    "]\n",
    "lotto"
   ]
  },
  {
   "cell_type": "code",
   "execution_count": 43,
   "id": "f3539f62",
   "metadata": {},
   "outputs": [
    {
     "data": {
      "text/plain": [
       "[70, 80, 90, 80, 90, 60]"
      ]
     },
     "execution_count": 43,
     "metadata": {},
     "output_type": "execute_result"
    }
   ],
   "source": [
    "ar1 = [70,80,90]\n",
    "ar2 = [80,90,60]\n",
    "ar3 = ar1 + ar2\n",
    "ar3"
   ]
  },
  {
   "cell_type": "code",
   "execution_count": 44,
   "id": "447bd7d6",
   "metadata": {},
   "outputs": [
    {
     "data": {
      "text/plain": [
       "[1, 2, 3, 1, 2, 3]"
      ]
     },
     "execution_count": 44,
     "metadata": {},
     "output_type": "execute_result"
    }
   ],
   "source": [
    "a = [1,2,3]\n",
    "b = 2\n",
    "a * b"
   ]
  },
  {
   "cell_type": "code",
   "execution_count": 45,
   "id": "e30743ee",
   "metadata": {},
   "outputs": [
    {
     "data": {
      "text/plain": [
       "5"
      ]
     },
     "execution_count": 45,
     "metadata": {},
     "output_type": "execute_result"
    }
   ],
   "source": [
    "a = [1,2,3,4,5]\n",
    "a\n",
    "a[0]\n",
    "a[-1]"
   ]
  },
  {
   "cell_type": "code",
   "execution_count": 47,
   "id": "184c5ad7",
   "metadata": {},
   "outputs": [
    {
     "data": {
      "text/plain": [
       "[70, 100, 90, 80, 90, 60]"
      ]
     },
     "execution_count": 47,
     "metadata": {},
     "output_type": "execute_result"
    }
   ],
   "source": [
    "ar3[1] = 100\n",
    "ar3"
   ]
  }
 ],
 "metadata": {
  "kernelspec": {
   "display_name": "Python 3.9.12 ('base')",
   "language": "python",
   "name": "python3"
  },
  "language_info": {
   "codemirror_mode": {
    "name": "ipython",
    "version": 3
   },
   "file_extension": ".py",
   "mimetype": "text/x-python",
   "name": "python",
   "nbconvert_exporter": "python",
   "pygments_lexer": "ipython3",
   "version": "3.9.12"
  },
  "vscode": {
   "interpreter": {
    "hash": "2043299c89c8cd0b4d1a6f5cf4529bd58e6a4e0fe3181a25e0d328c821cdc5c5"
   }
  }
 },
 "nbformat": 4,
 "nbformat_minor": 5
}
