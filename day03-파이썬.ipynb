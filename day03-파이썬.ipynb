{
 "cells": [
  {
   "cell_type": "code",
   "execution_count": 3,
   "id": "f9a8ae4e",
   "metadata": {},
   "outputs": [
    {
     "name": "stdout",
     "output_type": "stream",
     "text": [
      "('h', 70)\n",
      "('k', 80)\n",
      "('p', 90)\n",
      "h의 점수는 70\n",
      "k의 점수는 80\n",
      "p의 점수는 90\n"
     ]
    }
   ],
   "source": [
    "# comprehension\n",
    "\n",
    "score_dict = {'h' : 70, 'k' : 80, 'p' : 90}\n",
    "\n",
    "for s in score_dict.items():\n",
    "    print(s)\n",
    "\n",
    "for k,v in score_dict.items() :\n",
    "    print(f\"{k}의 점수는 {v}\")"
   ]
  },
  {
   "cell_type": "code",
   "execution_count": 8,
   "id": "67a5c401",
   "metadata": {},
   "outputs": [
    {
     "name": "stdout",
     "output_type": "stream",
     "text": [
      "ans = Hello 홍길동\n"
     ]
    }
   ],
   "source": [
    "def hello(name):\n",
    "    return \"Hello \" + name\n",
    "\n",
    "# ans = hello()\n",
    "# print(f\"ans = {ans}\")\n",
    "\n",
    "ans = hello(\"홍길동\")\n",
    "print(f\"ans = {ans}\")"
   ]
  },
  {
   "cell_type": "code",
   "execution_count": 25,
   "id": "1e7f5586",
   "metadata": {},
   "outputs": [
    {
     "name": "stdout",
     "output_type": "stream",
     "text": [
      "<function hello at 0x0000020D5B4C40D0>\n"
     ]
    }
   ],
   "source": [
    "print(hello)"
   ]
  },
  {
   "cell_type": "code",
   "execution_count": 11,
   "id": "4ce89110",
   "metadata": {},
   "outputs": [
    {
     "name": "stdout",
     "output_type": "stream",
     "text": [
      "2 4 6 8 10 12 14 16 18 \n",
      "3 6 9 12 15 18 21 24 27 \n",
      "3 6 9 12 15 18 21 24 27 \n",
      "4 8 12 16 20 24 28 32 36 \n",
      "5 10 15 20 25 30 35 40 45 \n"
     ]
    }
   ],
   "source": [
    "def gugudan(start=2,end=0):\n",
    "    if end == 0:\n",
    "        end = start\n",
    "#         for i in range(1,10):\n",
    "#             print(f\"{start * i}\", end=\" \")\n",
    "#         print()\n",
    "#     else :\n",
    "    for i in range(start, end+1):\n",
    "        for j in range(1,10):\n",
    "            print(f\"{i*j}\", end=\" \")\n",
    "        print()\n",
    "\n",
    "gugudan() # 2단 구구단 출력\n",
    "gugudan(3) # 3단 구구단 출력\n",
    "gugudan(3,5) # 3~5단 구구단 출력"
   ]
  },
  {
   "cell_type": "code",
   "execution_count": 27,
   "id": "da78c8a6",
   "metadata": {},
   "outputs": [
    {
     "name": "stdout",
     "output_type": "stream",
     "text": [
      "['h', 'k', 'l'] 3\n",
      "['h', 'k', 'l', 'q', 'w', 'e'] 6\n",
      "['h', 'k', 'l', 'q', 'w', 'e']\n"
     ]
    }
   ],
   "source": [
    "# 회원 등록 함수 - 클로저(Closure)\n",
    "\n",
    "# members = [] # 전역변수 global variable\n",
    "# c3nt = 0\n",
    "\n",
    "def add_member():\n",
    "    members = []\n",
    "    count = 0\n",
    "    \n",
    "    def add(*mems):\n",
    "        nonlocal count\n",
    "        members.extend(mems)\n",
    "        cnt += len(mems)\n",
    "    \n",
    "    def print_info():\n",
    "        print(cnt)\n",
    "    \n",
    "    return add, prinf_info\n",
    "\n",
    "a, p = add_member()\n",
    "a(\"h\",\"k\",\"l\")\n",
    "a(\"q\",\"w\",\"e\")\n",
    "p()"
   ]
  },
  {
   "cell_type": "code",
   "execution_count": 29,
   "id": "bf16dbf3",
   "metadata": {},
   "outputs": [
    {
     "name": "stdout",
     "output_type": "stream",
     "text": [
      "(20, 30)\n"
     ]
    }
   ],
   "source": [
    "def my_plus(a, *args):\n",
    "    print(args)\n",
    "    \n",
    "my_plus(10,20,30)"
   ]
  },
  {
   "cell_type": "code",
   "execution_count": 41,
   "id": "326c5927",
   "metadata": {},
   "outputs": [
    {
     "name": "stdout",
     "output_type": "stream",
     "text": [
      "30\n",
      "200\n"
     ]
    }
   ],
   "source": [
    "# p 113 연습문제\n",
    "\n",
    "def calc_many(choice, *args):\n",
    "\n",
    "    if choice == 'sum':\n",
    "        s = 0\n",
    "        \n",
    "        for a in args:\n",
    "            s += a\n",
    "        return s\n",
    "    \n",
    "    elif choice == 'mul':\n",
    "        m = 1\n",
    "        \n",
    "        for a in args:\n",
    "            m *= a\n",
    "        return m\n",
    "    \n",
    "print(calc_many(\"sum\",10,20))\n",
    "print(calc_many(\"mul\",10,20))"
   ]
  },
  {
   "cell_type": "code",
   "execution_count": 43,
   "id": "fad553f3",
   "metadata": {},
   "outputs": [
    {
     "name": "stdout",
     "output_type": "stream",
     "text": [
      "h 80 70\n",
      "k 90 80\n",
      "l 70 90\n"
     ]
    }
   ],
   "source": [
    "names = ['h','k','l']\n",
    "scores_math = [70,80,90]\n",
    "scores_eng = [80,90,70]\n",
    "\n",
    "for n,s,m in zip(names, scores_eng, scores_math):\n",
    "    print(n,s,m)"
   ]
  },
  {
   "cell_type": "code",
   "execution_count": 44,
   "id": "5ef18b25",
   "metadata": {},
   "outputs": [
    {
     "data": {
      "text/plain": [
       "[1, 4, 9, 16]"
      ]
     },
     "execution_count": 44,
     "metadata": {},
     "output_type": "execute_result"
    }
   ],
   "source": [
    "# map\n",
    "\n",
    "a = [1,2,3,4]\n",
    "list(map(lambda x : x**2, a))"
   ]
  },
  {
   "cell_type": "code",
   "execution_count": 45,
   "id": "da4a7f1b",
   "metadata": {},
   "outputs": [
    {
     "data": {
      "text/plain": [
       "[1, 2, 3, 4]"
      ]
     },
     "execution_count": 45,
     "metadata": {},
     "output_type": "execute_result"
    }
   ],
   "source": [
    "list(range(1,5))"
   ]
  },
  {
   "cell_type": "code",
   "execution_count": 52,
   "id": "0972028a",
   "metadata": {},
   "outputs": [
    {
     "data": {
      "text/plain": [
       "[1, 3, 5, 7, 9]"
      ]
     },
     "execution_count": 52,
     "metadata": {},
     "output_type": "execute_result"
    }
   ],
   "source": [
    "a = range(1,11)\n",
    "list(filter(lambda x : x%2 ==0, a))\n",
    "\n",
    "def is_even(a):\n",
    "    return a % 2 == 1\n",
    "\n",
    "list(filter(is_even,a))\n",
    "# list(filter(lambda x : x%2 == 1,a))"
   ]
  },
  {
   "cell_type": "code",
   "execution_count": 12,
   "id": "f6b3e690",
   "metadata": {},
   "outputs": [
    {
     "data": {
      "text/plain": [
       "[[0, 0, 0, 0, 0, 0, 0, 0, 0, 0],\n",
       " [0, 0, 0, 0, 0, 0, 0, 0, 0, 0],\n",
       " [0, 0, 0, 0, 0, 0, 0, 1, 2, 2],\n",
       " [0, 1, 1, 1, 1, 2, 2, 3, 11, 9],\n",
       " [0, 1, 9, 1, 1, 9, 10, 3, 10, 3],\n",
       " [0, 2, 2, 2, 1, 2, 2, 2, 1, 1],\n",
       " [0, 1, 9, 1, 1, 1, 1, 0, 0, 0],\n",
       " [0, 1, 1, 1, 1, 9, 1, 0, 0, 0],\n",
       " [0, 0, 0, 0, 1, 1, 1, 1, 2, 2],\n",
       " [0, 0, 0, 0, 0, 0, 0, 1, 10, 9]]"
      ]
     },
     "execution_count": 12,
     "metadata": {},
     "output_type": "execute_result"
    }
   ],
   "source": [
    "# 지뢰찾기 (빨리 찾아 터뜨리기)\n",
    "# 필드 (2차원 리스트)\n",
    "\n",
    "import random\n",
    "\n",
    "fields = list()\n",
    "for i in range(10):\n",
    "    fields.append([0]*10)\n",
    "\n",
    "nums = list(range(100))\n",
    "\n",
    "for i in random.sample(nums, 10):\n",
    "    row = i // 10 # 행 위치\n",
    "    col = i % 10 # 열 위치\n",
    "    fields[row][col] = 9 # 지뢰 위치\n",
    "    \n",
    "    # 지뢰의 대각선, 상하좌우 + 1씩 해줌     \n",
    "    if row < len(fields) - 1:\n",
    "        fields[row+1][col] += 1 # 남\n",
    "    \n",
    "    if row < (len(fields) - 1) and col < (len(fields) - 1):\n",
    "        fields[row+1][col+1] += 1 # 남동\n",
    "    \n",
    "    if col < (len(fields) - 1):\n",
    "        fields[row][col+1] += 1 # 동\n",
    "    \n",
    "    if row > 0 and col < (len(fields) - 1):\n",
    "        fields[row-1][col+1] += 1 #북동 \n",
    "\n",
    "    if row > 0:\n",
    "        fields[row-1][col] += 1 #북\n",
    "    \n",
    "    if row > 0 and col > 0:\n",
    "        fields[row-1][col-1] += 1 #북서\n",
    "    \n",
    "    if col > 0:\n",
    "        fields[row][col-1] += 1 #서\n",
    "    \n",
    "    if row < (len(fields) - 1) and col > 0:\n",
    "        fields[row+1][col-1] += 1 # 남서\n",
    "\n",
    "fields"
   ]
  },
  {
   "cell_type": "code",
   "execution_count": 14,
   "id": "8be1468c",
   "metadata": {},
   "outputs": [
    {
     "name": "stdout",
     "output_type": "stream",
     "text": [
      "0에서 9까지의 숫자 입력 : \n"
     ]
    },
    {
     "ename": "ValueError",
     "evalue": "not enough values to unpack (expected 2, got 0)",
     "output_type": "error",
     "traceback": [
      "\u001b[1;31m---------------------------------------------------------------------------\u001b[0m",
      "\u001b[1;31mValueError\u001b[0m                                Traceback (most recent call last)",
      "Input \u001b[1;32mIn [14]\u001b[0m, in \u001b[0;36m<cell line: 11>\u001b[1;34m()\u001b[0m\n\u001b[0;32m      9\u001b[0m             cnt \u001b[38;5;241m+\u001b[39m\u001b[38;5;241m=\u001b[39m \u001b[38;5;241m1\u001b[39m\n\u001b[0;32m     11\u001b[0m \u001b[38;5;28;01mwhile\u001b[39;00m cnt \u001b[38;5;241m>\u001b[39m \u001b[38;5;241m0\u001b[39m:\n\u001b[1;32m---> 12\u001b[0m     m,n \u001b[38;5;241m=\u001b[39m \u001b[38;5;28mmap\u001b[39m(\u001b[38;5;28mint\u001b[39m, (\u001b[38;5;28minput\u001b[39m(\u001b[38;5;124m\"\u001b[39m\u001b[38;5;124m0에서 9까지의 숫자 입력 : \u001b[39m\u001b[38;5;124m\"\u001b[39m)\u001b[38;5;241m.\u001b[39msplit()))\n\u001b[0;32m     13\u001b[0m     \u001b[38;5;28mopen\u001b[39m[m][n] \u001b[38;5;241m=\u001b[39m \u001b[38;5;28mstr\u001b[39m(fields[m][n])\n\u001b[0;32m     15\u001b[0m \u001b[38;5;66;03m#     for i in open:\u001b[39;00m\n\u001b[0;32m     16\u001b[0m \u001b[38;5;66;03m#         print(i)\u001b[39;00m\n",
      "\u001b[1;31mValueError\u001b[0m: not enough values to unpack (expected 2, got 0)"
     ]
    }
   ],
   "source": [
    "open = list()\n",
    "for i in range(10):\n",
    "    open.append([\"-\"] * 10)\n",
    "\n",
    "cnt = 0\n",
    "for f in fields:\n",
    "    for v in f:\n",
    "        if v >= 9:\n",
    "            cnt += 1\n",
    "\n",
    "while cnt > 0:\n",
    "    m,n = map(int, (input(\"0에서 9까지의 숫자 입력 : \").split()))\n",
    "    open[m][n] = str(fields[m][n])\n",
    "\n",
    "#     for i in open:\n",
    "#         print(i)\n",
    "            \n",
    "    if fields[m][n] >= 9:\n",
    "        cnt -= 1\n",
    "        \n",
    "        if m < len(fields) - 1:\n",
    "            open[m+1][n] = str(fields[m+1][n]) # 남\n",
    "    \n",
    "        if m < (len(fields) - 1) and n < (len(fields) - 1):\n",
    "            open[m+1][n+1] = str(fields[m+1][n+1]) # 남동\n",
    "\n",
    "        if n < (len(fields) - 1):\n",
    "            open[m][n+1] = str(fields[m][n+1]) # 동\n",
    "\n",
    "        if m > 0 and n < (len(fields) - 1):\n",
    "            open[m-1][n+1] = str(fields[m-1][n+1]) #북동 \n",
    "\n",
    "        if m > 0:\n",
    "            open[m-1][n] = str(fields[m-1][n]) #북\n",
    "\n",
    "        if m > 0 and n > 0:\n",
    "            open[m-1][n-1] = str(fields[m-1][n-1]) #북서\n",
    "\n",
    "        if n > 0:\n",
    "            open[m][n-1] = str(fields[m][n-1]) #서\n",
    "\n",
    "        if m < (len(fields) - 1) and n > 0:\n",
    "            open[m+1][n-1] = str(fields[m+1][n-1]) # 남서\n",
    "        \n",
    "        print(f\"지뢰!, 남은 지뢰 갯수 : {cnt}\")\n",
    "    if fields[m][n] < 9:\n",
    "        print(\"성공\")\n",
    "        \n",
    "    display(open)"
   ]
  },
  {
   "cell_type": "code",
   "execution_count": null,
   "id": "18c06131",
   "metadata": {},
   "outputs": [],
   "source": []
  }
 ],
 "metadata": {
  "kernelspec": {
   "display_name": "Python 3 (ipykernel)",
   "language": "python",
   "name": "python3"
  },
  "language_info": {
   "codemirror_mode": {
    "name": "ipython",
    "version": 3
   },
   "file_extension": ".py",
   "mimetype": "text/x-python",
   "name": "python",
   "nbconvert_exporter": "python",
   "pygments_lexer": "ipython3",
   "version": "3.9.12"
  }
 },
 "nbformat": 4,
 "nbformat_minor": 5
}
