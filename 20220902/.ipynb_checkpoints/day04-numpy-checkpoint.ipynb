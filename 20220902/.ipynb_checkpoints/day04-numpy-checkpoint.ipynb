{
 "cells": [
  {
   "cell_type": "markdown",
   "id": "aa956734",
   "metadata": {},
   "source": [
    "## Numpy"
   ]
  },
  {
   "cell_type": "code",
   "execution_count": 29,
   "id": "2980582c",
   "metadata": {},
   "outputs": [
    {
     "data": {
      "text/plain": [
       "(array([1, 2, 3, 4]), [1, 2, 3, 4])"
      ]
     },
     "execution_count": 29,
     "metadata": {},
     "output_type": "execute_result"
    }
   ],
   "source": [
    "import numpy as np\n",
    "my_list = [1,2,3,4]\n",
    "arr1 = np.array(my_list)\n",
    "\n",
    "arr1, my_list"
   ]
  },
  {
   "cell_type": "code",
   "execution_count": 30,
   "id": "16352162",
   "metadata": {},
   "outputs": [
    {
     "data": {
      "text/plain": [
       "array([10, 20, 30, 40])"
      ]
     },
     "execution_count": 30,
     "metadata": {},
     "output_type": "execute_result"
    }
   ],
   "source": [
    "arr1 * 10 \n",
    "# element wise 연산\n",
    "# 배열 * 스칼라 값 (1개의 값을 스칼라, 여러개의 값은 벡터라고 함. 일반적으로 배열을 벡터라고 한다.)\n",
    "# numpy에서 벡터 * 스칼라 연산은 벡터의 요소 각각에 스칼라 값을 곱하는 연산을 한다.\n",
    "# for문을 돌리지 않아도 됨"
   ]
  },
  {
   "cell_type": "code",
   "execution_count": 31,
   "id": "a4ae3c70",
   "metadata": {},
   "outputs": [
    {
     "name": "stdout",
     "output_type": "stream",
     "text": [
      "[1, 2, 3, 4, 1, 2, 3, 4, 1, 2, 3, 4, 1, 2, 3, 4, 1, 2, 3, 4, 1, 2, 3, 4, 1, 2, 3, 4, 1, 2, 3, 4, 1, 2, 3, 4, 1, 2, 3, 4]\n"
     ]
    }
   ],
   "source": [
    "print(my_list * 10) # 연산이 아니라 배열을 10번 반복하는 값이 나온다."
   ]
  },
  {
   "cell_type": "code",
   "execution_count": 32,
   "id": "c0469e7d",
   "metadata": {},
   "outputs": [
    {
     "data": {
      "text/plain": [
       "[4, 5, 6]"
      ]
     },
     "execution_count": 32,
     "metadata": {},
     "output_type": "execute_result"
    }
   ],
   "source": [
    "my_list2 = [\n",
    "    [1,2,3],\n",
    "    [4,5,6],\n",
    "    [7,8,9]\n",
    "]\n",
    "\n",
    "my_list2[1] # 행추출. 열추출은 인덱스로 불가능"
   ]
  },
  {
   "cell_type": "code",
   "execution_count": 33,
   "id": "3d006918",
   "metadata": {},
   "outputs": [
    {
     "data": {
      "text/plain": [
       "array([2, 5, 8])"
      ]
     },
     "execution_count": 33,
     "metadata": {},
     "output_type": "execute_result"
    }
   ],
   "source": [
    "arr2 = np.array(my_list2)\n",
    "arr2[:,1] # [행 번호, 열 번호]  ,  : => 전체    numpy로 열 추출 가능"
   ]
  },
  {
   "cell_type": "code",
   "execution_count": 34,
   "id": "08ce9ad2",
   "metadata": {},
   "outputs": [
    {
     "data": {
      "text/plain": [
       "array([[1, 3],\n",
       "       [4, 6],\n",
       "       [7, 9]])"
      ]
     },
     "execution_count": 34,
     "metadata": {},
     "output_type": "execute_result"
    }
   ],
   "source": [
    "arr2[:, [0,2]] # 팬시 인덱싱 (띄엄띄엄 추출)"
   ]
  },
  {
   "cell_type": "code",
   "execution_count": 35,
   "id": "b64a3667",
   "metadata": {},
   "outputs": [
    {
     "data": {
      "text/plain": [
       "array([[[1, 2, 3],\n",
       "        [4, 5, 6]],\n",
       "\n",
       "       [[1, 2, 3],\n",
       "        [4, 5, 6]]])"
      ]
     },
     "execution_count": 35,
     "metadata": {},
     "output_type": "execute_result"
    }
   ],
   "source": [
    "arr3 = np.array(\n",
    "    [\n",
    "        [\n",
    "            [1,2,3],\n",
    "            [4,5,6],\n",
    "        ],\n",
    "        [\n",
    "            [1,2,3],\n",
    "            [4,5,6],\n",
    "        ]\n",
    "    ]\n",
    ")\n",
    "arr3"
   ]
  },
  {
   "cell_type": "markdown",
   "id": "9b4b345f",
   "metadata": {},
   "source": [
    "<br/>\n",
    "<br/>\n",
    "<br/>\n"
   ]
  },
  {
   "cell_type": "markdown",
   "id": "33991817",
   "metadata": {},
   "source": [
    "## arange 함수를 이용한 배열 생성\n",
    "range 함수와 다르게 실수 범위도 생성 가능함"
   ]
  },
  {
   "cell_type": "code",
   "execution_count": 36,
   "id": "03876094",
   "metadata": {},
   "outputs": [
    {
     "data": {
      "text/plain": [
       "array([0. , 0.5, 1. , 1.5, 2. , 2.5])"
      ]
     },
     "execution_count": 36,
     "metadata": {},
     "output_type": "execute_result"
    }
   ],
   "source": [
    "range(1,10) # int 정수만 가능\n",
    "np.arange(0,3,0.5) # 실수도 가능"
   ]
  },
  {
   "cell_type": "markdown",
   "id": "5ece30aa",
   "metadata": {},
   "source": [
    "<br/>\n",
    "<br/>\n",
    "<br/>\n",
    "<br/>"
   ]
  },
  {
   "cell_type": "markdown",
   "id": "ecf7bf9f",
   "metadata": {},
   "source": [
    "## Numpy Array 속성"
   ]
  },
  {
   "cell_type": "code",
   "execution_count": 37,
   "id": "ce4c82bb",
   "metadata": {},
   "outputs": [
    {
     "data": {
      "text/plain": [
       "array([ 1. ,  5.5, 10. ])"
      ]
     },
     "execution_count": 37,
     "metadata": {},
     "output_type": "execute_result"
    }
   ],
   "source": [
    "np.linspace(1, 10, 3) # 수의 범위를 균일하게 나누고자 할 때 사용"
   ]
  },
  {
   "cell_type": "code",
   "execution_count": 38,
   "id": "8f68228a",
   "metadata": {},
   "outputs": [
    {
     "data": {
      "text/plain": [
       "array([[1., 0., 0., 0., 0.],\n",
       "       [0., 1., 0., 0., 0.],\n",
       "       [0., 0., 1., 0., 0.],\n",
       "       [0., 0., 0., 1., 0.],\n",
       "       [0., 0., 0., 0., 1.]])"
      ]
     },
     "execution_count": 38,
     "metadata": {},
     "output_type": "execute_result"
    }
   ],
   "source": [
    "np.eye(5)"
   ]
  },
  {
   "cell_type": "code",
   "execution_count": 39,
   "id": "56d20bf2",
   "metadata": {},
   "outputs": [
    {
     "data": {
      "text/plain": [
       "(1, 2, 3)"
      ]
     },
     "execution_count": 39,
     "metadata": {},
     "output_type": "execute_result"
    }
   ],
   "source": [
    "arr1.ndim, arr2.ndim, arr3.ndim # ndarray의 차원"
   ]
  },
  {
   "cell_type": "code",
   "execution_count": 40,
   "id": "6615e169",
   "metadata": {},
   "outputs": [
    {
     "data": {
      "text/plain": [
       "(4,)"
      ]
     },
     "execution_count": 40,
     "metadata": {},
     "output_type": "execute_result"
    }
   ],
   "source": [
    "arr1.shape # ndarray 크기를 튜플 형태로 나타냄"
   ]
  },
  {
   "cell_type": "code",
   "execution_count": 41,
   "id": "92fde8df",
   "metadata": {},
   "outputs": [
    {
     "data": {
      "text/plain": [
       "tuple"
      ]
     },
     "execution_count": 41,
     "metadata": {},
     "output_type": "execute_result"
    }
   ],
   "source": [
    "type((3,))"
   ]
  },
  {
   "cell_type": "code",
   "execution_count": 42,
   "id": "0ba942ef",
   "metadata": {},
   "outputs": [
    {
     "data": {
      "text/plain": [
       "(2, 2, 3)"
      ]
     },
     "execution_count": 42,
     "metadata": {},
     "output_type": "execute_result"
    }
   ],
   "source": [
    "arr3.shape # 면, 행, 열"
   ]
  },
  {
   "cell_type": "code",
   "execution_count": 43,
   "id": "b9562e39",
   "metadata": {},
   "outputs": [
    {
     "data": {
      "text/plain": [
       "12"
      ]
     },
     "execution_count": 43,
     "metadata": {},
     "output_type": "execute_result"
    }
   ],
   "source": [
    "arr3.size"
   ]
  },
  {
   "cell_type": "code",
   "execution_count": 44,
   "id": "7b6e07d7",
   "metadata": {},
   "outputs": [
    {
     "data": {
      "text/plain": [
       "array([1., 2., 3.])"
      ]
     },
     "execution_count": 44,
     "metadata": {},
     "output_type": "execute_result"
    }
   ],
   "source": [
    "np.array([1.0, 2, 3])\n",
    "# 실수 + 정수 => 실수로 변환"
   ]
  },
  {
   "cell_type": "code",
   "execution_count": 45,
   "id": "48c6892c",
   "metadata": {},
   "outputs": [
    {
     "data": {
      "text/plain": [
       "array(['1.0', '2', '3'], dtype='<U32')"
      ]
     },
     "execution_count": 45,
     "metadata": {},
     "output_type": "execute_result"
    }
   ],
   "source": [
    "np.array([1.0, 2, '3'])\n",
    "# 실수 + 문자 => 문자로 변환"
   ]
  },
  {
   "cell_type": "code",
   "execution_count": 46,
   "id": "841e7cf7",
   "metadata": {},
   "outputs": [
    {
     "data": {
      "text/plain": [
       "(dtype('int32'), dtype('int32'), dtype('int32'))"
      ]
     },
     "execution_count": 46,
     "metadata": {},
     "output_type": "execute_result"
    }
   ],
   "source": [
    "arr1.dtype, arr2.dtype, arr3.dtype, "
   ]
  },
  {
   "cell_type": "code",
   "execution_count": 47,
   "id": "1c40e49e",
   "metadata": {},
   "outputs": [
    {
     "data": {
      "text/plain": [
       "(array([[1, 2, 3],\n",
       "        [4, 5, 6],\n",
       "        [7, 8, 9]]),\n",
       " array([[1, 4, 7],\n",
       "        [2, 5, 8],\n",
       "        [3, 6, 9]]))"
      ]
     },
     "execution_count": 47,
     "metadata": {},
     "output_type": "execute_result"
    }
   ],
   "source": [
    "arr2, arr2.T # 행열 바꾸기"
   ]
  },
  {
   "cell_type": "code",
   "execution_count": 49,
   "id": "4d4202e0",
   "metadata": {},
   "outputs": [
    {
     "data": {
      "text/plain": [
       "(array([ 0,  1,  2,  3,  4,  5,  6,  7,  8,  9, 10, 11, 12, 13, 14, 15]),\n",
       " (16,))"
      ]
     },
     "execution_count": 49,
     "metadata": {},
     "output_type": "execute_result"
    }
   ],
   "source": [
    "arr4 = np.arange(16)\n",
    "arr4, arr4.shape"
   ]
  },
  {
   "cell_type": "code",
   "execution_count": 50,
   "id": "1c51c802",
   "metadata": {},
   "outputs": [
    {
     "data": {
      "text/plain": [
       "(array([[[ 0,  1],\n",
       "         [ 2,  3],\n",
       "         [ 4,  5],\n",
       "         [ 6,  7]],\n",
       " \n",
       "        [[ 8,  9],\n",
       "         [10, 11],\n",
       "         [12, 13],\n",
       "         [14, 15]]]),\n",
       " (2, 4, 2))"
      ]
     },
     "execution_count": 50,
     "metadata": {},
     "output_type": "execute_result"
    }
   ],
   "source": [
    "arr4.reshape(2,4,2), arr4.reshape(2,4,2).shape "
   ]
  },
  {
   "cell_type": "markdown",
   "id": "4e8254d7",
   "metadata": {},
   "source": [
    "<br/>\n",
    "<br/>\n",
    "<br/>\n",
    "<br/>"
   ]
  },
  {
   "cell_type": "markdown",
   "id": "6a9890df",
   "metadata": {},
   "source": [
    "## Numpy 배열 형태 변경\n",
    "- 변경 전 데이터 개수와 변경 후 데이터 개수 같아야함.\n",
    "- reshape 함수를 이용\n",
    "    - -1은 딱 한번만 사용할 수 있으며, 자동으로 적절한 형태 계산"
   ]
  },
  {
   "cell_type": "code",
   "execution_count": 51,
   "id": "bd116f81",
   "metadata": {},
   "outputs": [
    {
     "data": {
      "text/plain": [
       "array([[ 0,  1,  2,  3,  4,  5,  6,  7],\n",
       "       [ 8,  9, 10, 11, 12, 13, 14, 15]])"
      ]
     },
     "execution_count": 51,
     "metadata": {},
     "output_type": "execute_result"
    }
   ],
   "source": [
    "arr4.reshape(-1,8) # 행 갯수 8개"
   ]
  },
  {
   "cell_type": "code",
   "execution_count": 52,
   "id": "c58ea881",
   "metadata": {},
   "outputs": [
    {
     "data": {
      "text/plain": [
       "dtype('int32')"
      ]
     },
     "execution_count": 52,
     "metadata": {},
     "output_type": "execute_result"
    }
   ],
   "source": [
    "arr2.dtype"
   ]
  },
  {
   "cell_type": "markdown",
   "id": "4e06cb62",
   "metadata": {},
   "source": [
    "<br/>\n",
    "<br/>\n",
    "<br/>\n",
    "<br/>"
   ]
  },
  {
   "cell_type": "markdown",
   "id": "2b102eb1",
   "metadata": {},
   "source": [
    "## Numpy 데이터 유형 변경\n",
    "이미 만들어진 배열의 데이터 유형을 변경하기 위해 astype 함수 또는 특정 데이터 유형의 이름을 가진 함수 이용"
   ]
  },
  {
   "cell_type": "code",
   "execution_count": 53,
   "id": "af716c86",
   "metadata": {},
   "outputs": [
    {
     "data": {
      "text/plain": [
       "array([[1., 2., 3.],\n",
       "       [4., 5., 6.],\n",
       "       [7., 8., 9.]], dtype=float32)"
      ]
     },
     "execution_count": 53,
     "metadata": {},
     "output_type": "execute_result"
    }
   ],
   "source": [
    "arr2.astype( np.float32 ) # 원본 수정 x, 새로운 배열 반환"
   ]
  },
  {
   "cell_type": "markdown",
   "id": "3b88bcac",
   "metadata": {},
   "source": [
    "<br/>\n",
    "<br/>\n",
    "<br/>\n",
    "<br/>"
   ]
  },
  {
   "cell_type": "markdown",
   "id": "3567b9bc",
   "metadata": {},
   "source": [
    "## 아파트 실거래 데이터 읽기"
   ]
  },
  {
   "cell_type": "code",
   "execution_count": 21,
   "id": "176f54d6",
   "metadata": {},
   "outputs": [
    {
     "data": {
      "text/html": [
       "<div>\n",
       "<style scoped>\n",
       "    .dataframe tbody tr th:only-of-type {\n",
       "        vertical-align: middle;\n",
       "    }\n",
       "\n",
       "    .dataframe tbody tr th {\n",
       "        vertical-align: top;\n",
       "    }\n",
       "\n",
       "    .dataframe thead th {\n",
       "        text-align: right;\n",
       "    }\n",
       "</style>\n",
       "<table border=\"1\" class=\"dataframe\">\n",
       "  <thead>\n",
       "    <tr style=\"text-align: right;\">\n",
       "      <th></th>\n",
       "      <th>시군구</th>\n",
       "      <th>번지</th>\n",
       "      <th>본번</th>\n",
       "      <th>부번</th>\n",
       "      <th>단지명</th>\n",
       "      <th>전용면적(㎡)</th>\n",
       "      <th>계약년월</th>\n",
       "      <th>계약일</th>\n",
       "      <th>거래금액(만원)</th>\n",
       "      <th>층</th>\n",
       "      <th>건축년도</th>\n",
       "      <th>도로명</th>\n",
       "      <th>해제사유발생일</th>\n",
       "      <th>거래유형</th>\n",
       "      <th>중개사소재지</th>\n",
       "    </tr>\n",
       "  </thead>\n",
       "  <tbody>\n",
       "    <tr>\n",
       "      <th>0</th>\n",
       "      <td>서울특별시 강남구 개포동</td>\n",
       "      <td>658-1</td>\n",
       "      <td>658.0</td>\n",
       "      <td>1.0</td>\n",
       "      <td>개포6차우성아파트1동~8동</td>\n",
       "      <td>79.97</td>\n",
       "      <td>202109</td>\n",
       "      <td>2</td>\n",
       "      <td>220000</td>\n",
       "      <td>2</td>\n",
       "      <td>1987.0</td>\n",
       "      <td>언주로 3</td>\n",
       "      <td>NaN</td>\n",
       "      <td>-</td>\n",
       "      <td>-</td>\n",
       "    </tr>\n",
       "    <tr>\n",
       "      <th>1</th>\n",
       "      <td>서울특별시 강남구 개포동</td>\n",
       "      <td>658-1</td>\n",
       "      <td>658.0</td>\n",
       "      <td>1.0</td>\n",
       "      <td>개포6차우성아파트1동~8동</td>\n",
       "      <td>79.97</td>\n",
       "      <td>202112</td>\n",
       "      <td>4</td>\n",
       "      <td>215000</td>\n",
       "      <td>3</td>\n",
       "      <td>1987.0</td>\n",
       "      <td>언주로 3</td>\n",
       "      <td>NaN</td>\n",
       "      <td>중개거래</td>\n",
       "      <td>서울 강남구</td>\n",
       "    </tr>\n",
       "    <tr>\n",
       "      <th>2</th>\n",
       "      <td>서울특별시 강남구 개포동</td>\n",
       "      <td>658-1</td>\n",
       "      <td>658.0</td>\n",
       "      <td>1.0</td>\n",
       "      <td>개포6차우성아파트1동~8동</td>\n",
       "      <td>79.97</td>\n",
       "      <td>202204</td>\n",
       "      <td>12</td>\n",
       "      <td>220000</td>\n",
       "      <td>4</td>\n",
       "      <td>1987.0</td>\n",
       "      <td>언주로 3</td>\n",
       "      <td>NaN</td>\n",
       "      <td>중개거래</td>\n",
       "      <td>서울 강남구</td>\n",
       "    </tr>\n",
       "    <tr>\n",
       "      <th>3</th>\n",
       "      <td>서울특별시 강남구 개포동</td>\n",
       "      <td>658-1</td>\n",
       "      <td>658.0</td>\n",
       "      <td>1.0</td>\n",
       "      <td>개포6차우성아파트1동~8동</td>\n",
       "      <td>79.97</td>\n",
       "      <td>202204</td>\n",
       "      <td>21</td>\n",
       "      <td>220000</td>\n",
       "      <td>2</td>\n",
       "      <td>1987.0</td>\n",
       "      <td>언주로 3</td>\n",
       "      <td>NaN</td>\n",
       "      <td>중개거래</td>\n",
       "      <td>서울 강남구</td>\n",
       "    </tr>\n",
       "    <tr>\n",
       "      <th>4</th>\n",
       "      <td>서울특별시 강남구 개포동</td>\n",
       "      <td>658-1</td>\n",
       "      <td>658.0</td>\n",
       "      <td>1.0</td>\n",
       "      <td>개포6차우성아파트1동~8동</td>\n",
       "      <td>79.97</td>\n",
       "      <td>202205</td>\n",
       "      <td>27</td>\n",
       "      <td>216000</td>\n",
       "      <td>2</td>\n",
       "      <td>1987.0</td>\n",
       "      <td>언주로 3</td>\n",
       "      <td>NaN</td>\n",
       "      <td>중개거래</td>\n",
       "      <td>서울 강남구</td>\n",
       "    </tr>\n",
       "    <tr>\n",
       "      <th>...</th>\n",
       "      <td>...</td>\n",
       "      <td>...</td>\n",
       "      <td>...</td>\n",
       "      <td>...</td>\n",
       "      <td>...</td>\n",
       "      <td>...</td>\n",
       "      <td>...</td>\n",
       "      <td>...</td>\n",
       "      <td>...</td>\n",
       "      <td>...</td>\n",
       "      <td>...</td>\n",
       "      <td>...</td>\n",
       "      <td>...</td>\n",
       "      <td>...</td>\n",
       "      <td>...</td>\n",
       "    </tr>\n",
       "    <tr>\n",
       "      <th>16942</th>\n",
       "      <td>서울특별시 중랑구 중화동</td>\n",
       "      <td>450</td>\n",
       "      <td>450.0</td>\n",
       "      <td>0.0</td>\n",
       "      <td>한신아파트(103~109)</td>\n",
       "      <td>59.76</td>\n",
       "      <td>202207</td>\n",
       "      <td>20</td>\n",
       "      <td>74000</td>\n",
       "      <td>3</td>\n",
       "      <td>1997.0</td>\n",
       "      <td>동일로 752</td>\n",
       "      <td>NaN</td>\n",
       "      <td>중개거래</td>\n",
       "      <td>서울 중랑구</td>\n",
       "    </tr>\n",
       "    <tr>\n",
       "      <th>16943</th>\n",
       "      <td>서울특별시 중랑구 중화동</td>\n",
       "      <td>450</td>\n",
       "      <td>450.0</td>\n",
       "      <td>0.0</td>\n",
       "      <td>한신아파트(103~109)</td>\n",
       "      <td>84.03</td>\n",
       "      <td>202207</td>\n",
       "      <td>27</td>\n",
       "      <td>91500</td>\n",
       "      <td>12</td>\n",
       "      <td>1997.0</td>\n",
       "      <td>동일로 752</td>\n",
       "      <td>NaN</td>\n",
       "      <td>중개거래</td>\n",
       "      <td>서울 중랑구</td>\n",
       "    </tr>\n",
       "    <tr>\n",
       "      <th>16944</th>\n",
       "      <td>서울특별시 중랑구 중화동</td>\n",
       "      <td>274-51</td>\n",
       "      <td>274.0</td>\n",
       "      <td>51.0</td>\n",
       "      <td>한영(101)</td>\n",
       "      <td>84.69</td>\n",
       "      <td>202111</td>\n",
       "      <td>4</td>\n",
       "      <td>50000</td>\n",
       "      <td>2</td>\n",
       "      <td>2003.0</td>\n",
       "      <td>동일로144길 74</td>\n",
       "      <td>NaN</td>\n",
       "      <td>중개거래</td>\n",
       "      <td>서울 송파구, 서울 중랑구</td>\n",
       "    </tr>\n",
       "    <tr>\n",
       "      <th>16945</th>\n",
       "      <td>서울특별시 중랑구 중화동</td>\n",
       "      <td>274-51</td>\n",
       "      <td>274.0</td>\n",
       "      <td>51.0</td>\n",
       "      <td>한영(101)</td>\n",
       "      <td>84.69</td>\n",
       "      <td>202204</td>\n",
       "      <td>9</td>\n",
       "      <td>49900</td>\n",
       "      <td>7</td>\n",
       "      <td>2003.0</td>\n",
       "      <td>동일로144길 74</td>\n",
       "      <td>NaN</td>\n",
       "      <td>중개거래</td>\n",
       "      <td>서울 중랑구</td>\n",
       "    </tr>\n",
       "    <tr>\n",
       "      <th>16946</th>\n",
       "      <td>서울특별시 중랑구 중화동</td>\n",
       "      <td>11-7</td>\n",
       "      <td>11.0</td>\n",
       "      <td>7.0</td>\n",
       "      <td>현대휴앤미(102동)</td>\n",
       "      <td>76.43</td>\n",
       "      <td>202204</td>\n",
       "      <td>23</td>\n",
       "      <td>53000</td>\n",
       "      <td>6</td>\n",
       "      <td>2007.0</td>\n",
       "      <td>봉화산로27가길 19</td>\n",
       "      <td>NaN</td>\n",
       "      <td>중개거래</td>\n",
       "      <td>서울 중랑구</td>\n",
       "    </tr>\n",
       "  </tbody>\n",
       "</table>\n",
       "<p>16947 rows × 15 columns</p>\n",
       "</div>"
      ],
      "text/plain": [
       "                 시군구      번지     본번    부번             단지명  전용면적(㎡)    계약년월  \\\n",
       "0      서울특별시 강남구 개포동   658-1  658.0   1.0  개포6차우성아파트1동~8동    79.97  202109   \n",
       "1      서울특별시 강남구 개포동   658-1  658.0   1.0  개포6차우성아파트1동~8동    79.97  202112   \n",
       "2      서울특별시 강남구 개포동   658-1  658.0   1.0  개포6차우성아파트1동~8동    79.97  202204   \n",
       "3      서울특별시 강남구 개포동   658-1  658.0   1.0  개포6차우성아파트1동~8동    79.97  202204   \n",
       "4      서울특별시 강남구 개포동   658-1  658.0   1.0  개포6차우성아파트1동~8동    79.97  202205   \n",
       "...              ...     ...    ...   ...             ...      ...     ...   \n",
       "16942  서울특별시 중랑구 중화동     450  450.0   0.0  한신아파트(103~109)    59.76  202207   \n",
       "16943  서울특별시 중랑구 중화동     450  450.0   0.0  한신아파트(103~109)    84.03  202207   \n",
       "16944  서울특별시 중랑구 중화동  274-51  274.0  51.0         한영(101)    84.69  202111   \n",
       "16945  서울특별시 중랑구 중화동  274-51  274.0  51.0         한영(101)    84.69  202204   \n",
       "16946  서울특별시 중랑구 중화동    11-7   11.0   7.0     현대휴앤미(102동)    76.43  202204   \n",
       "\n",
       "       계약일  거래금액(만원)   층    건축년도          도로명  해제사유발생일  거래유형          중개사소재지  \n",
       "0        2    220000   2  1987.0        언주로 3      NaN     -               -  \n",
       "1        4    215000   3  1987.0        언주로 3      NaN  중개거래          서울 강남구  \n",
       "2       12    220000   4  1987.0        언주로 3      NaN  중개거래          서울 강남구  \n",
       "3       21    220000   2  1987.0        언주로 3      NaN  중개거래          서울 강남구  \n",
       "4       27    216000   2  1987.0        언주로 3      NaN  중개거래          서울 강남구  \n",
       "...    ...       ...  ..     ...          ...      ...   ...             ...  \n",
       "16942   20     74000   3  1997.0      동일로 752      NaN  중개거래          서울 중랑구  \n",
       "16943   27     91500  12  1997.0      동일로 752      NaN  중개거래          서울 중랑구  \n",
       "16944    4     50000   2  2003.0   동일로144길 74      NaN  중개거래  서울 송파구, 서울 중랑구  \n",
       "16945    9     49900   7  2003.0   동일로144길 74      NaN  중개거래          서울 중랑구  \n",
       "16946   23     53000   6  2007.0  봉화산로27가길 19      NaN  중개거래          서울 중랑구  \n",
       "\n",
       "[16947 rows x 15 columns]"
      ]
     },
     "execution_count": 21,
     "metadata": {},
     "output_type": "execute_result"
    }
   ],
   "source": [
    "import pandas as pd\n",
    "\n",
    "apt_price = pd.read_csv(\n",
    "    './apt_price_2022.csv',\n",
    "    encoding='cp949',\n",
    "    skiprows=15,\n",
    "    thousands=','\n",
    ")\n",
    "\n",
    "apt_price"
   ]
  },
  {
   "cell_type": "code",
   "execution_count": 22,
   "id": "8080ee82",
   "metadata": {},
   "outputs": [
    {
     "data": {
      "text/plain": [
       "((16947, 15), 254205)"
      ]
     },
     "execution_count": 22,
     "metadata": {},
     "output_type": "execute_result"
    }
   ],
   "source": [
    "apt_price.shape, apt_price.size"
   ]
  },
  {
   "cell_type": "code",
   "execution_count": 23,
   "id": "e5944bc1",
   "metadata": {},
   "outputs": [
    {
     "data": {
      "text/plain": [
       "array([['서울특별시 강남구 개포동', '658-1', 658.0, ..., nan, '-', '-'],\n",
       "       ['서울특별시 강남구 개포동', '658-1', 658.0, ..., nan, '중개거래', '서울 강남구'],\n",
       "       ['서울특별시 강남구 개포동', '658-1', 658.0, ..., nan, '중개거래', '서울 강남구'],\n",
       "       ...,\n",
       "       ['서울특별시 중랑구 중화동', '274-51', 274.0, ..., nan, '중개거래',\n",
       "        '서울 송파구, 서울 중랑구'],\n",
       "       ['서울특별시 중랑구 중화동', '274-51', 274.0, ..., nan, '중개거래', '서울 중랑구'],\n",
       "       ['서울특별시 중랑구 중화동', '11-7', 11.0, ..., nan, '중개거래', '서울 중랑구']],\n",
       "      dtype=object)"
      ]
     },
     "execution_count": 23,
     "metadata": {},
     "output_type": "execute_result"
    }
   ],
   "source": [
    "apt_price.values # numpy array"
   ]
  },
  {
   "cell_type": "code",
   "execution_count": 24,
   "id": "8a6e794b",
   "metadata": {},
   "outputs": [
    {
     "data": {
      "text/plain": [
       "0        26.392739\n",
       "1        26.392739\n",
       "2        26.392739\n",
       "3        26.392739\n",
       "4        26.392739\n",
       "           ...    \n",
       "16942    19.722772\n",
       "16943    27.732673\n",
       "16944    27.950495\n",
       "16945    27.950495\n",
       "16946    25.224422\n",
       "Name: 전용면적(㎡), Length: 16947, dtype: float64"
      ]
     },
     "execution_count": 24,
     "metadata": {},
     "output_type": "execute_result"
    }
   ],
   "source": [
    "평 = apt_price['전용면적(㎡)'] / 3.03\n",
    "평"
   ]
  },
  {
   "cell_type": "code",
   "execution_count": 27,
   "id": "fcde95e3",
   "metadata": {},
   "outputs": [
    {
     "data": {
      "text/plain": [
       "0        8335.625860\n",
       "1        8146.179817\n",
       "2        8335.625860\n",
       "3        8335.625860\n",
       "4        8184.069026\n",
       "            ...     \n",
       "16942    3752.008032\n",
       "16943    3299.357372\n",
       "16944    1788.877081\n",
       "16945    1785.299327\n",
       "16946    2101.138296\n",
       "Length: 16947, dtype: float64"
      ]
     },
     "execution_count": 27,
     "metadata": {},
     "output_type": "execute_result"
    }
   ],
   "source": [
    "apt_price['거래금액(만원)'] / 평"
   ]
  },
  {
   "cell_type": "code",
   "execution_count": 67,
   "id": "3714f86d",
   "metadata": {},
   "outputs": [
    {
     "data": {
      "text/html": [
       "<div>\n",
       "<style scoped>\n",
       "    .dataframe tbody tr th:only-of-type {\n",
       "        vertical-align: middle;\n",
       "    }\n",
       "\n",
       "    .dataframe tbody tr th {\n",
       "        vertical-align: top;\n",
       "    }\n",
       "\n",
       "    .dataframe thead th {\n",
       "        text-align: right;\n",
       "    }\n",
       "</style>\n",
       "<table border=\"1\" class=\"dataframe\">\n",
       "  <thead>\n",
       "    <tr style=\"text-align: right;\">\n",
       "      <th></th>\n",
       "      <th>시군구</th>\n",
       "      <th>번지</th>\n",
       "      <th>본번</th>\n",
       "      <th>부번</th>\n",
       "      <th>단지명</th>\n",
       "      <th>전용면적(㎡)</th>\n",
       "      <th>계약년월</th>\n",
       "      <th>계약일</th>\n",
       "      <th>거래금액(만원)</th>\n",
       "      <th>층</th>\n",
       "      <th>건축년도</th>\n",
       "      <th>도로명</th>\n",
       "      <th>해제사유발생일</th>\n",
       "      <th>거래유형</th>\n",
       "      <th>중개사소재지</th>\n",
       "    </tr>\n",
       "  </thead>\n",
       "  <tbody>\n",
       "    <tr>\n",
       "      <th>0</th>\n",
       "      <td>서울특별시 강남구 개포동</td>\n",
       "      <td>658-1</td>\n",
       "      <td>658.0</td>\n",
       "      <td>1.0</td>\n",
       "      <td>개포6차우성아파트1동~8동</td>\n",
       "      <td>79.97</td>\n",
       "      <td>202109</td>\n",
       "      <td>2</td>\n",
       "      <td>220000</td>\n",
       "      <td>2</td>\n",
       "      <td>1987.0</td>\n",
       "      <td>언주로 3</td>\n",
       "      <td>NaN</td>\n",
       "      <td>-</td>\n",
       "      <td>-</td>\n",
       "    </tr>\n",
       "    <tr>\n",
       "      <th>3</th>\n",
       "      <td>서울특별시 강남구 개포동</td>\n",
       "      <td>658-1</td>\n",
       "      <td>658.0</td>\n",
       "      <td>1.0</td>\n",
       "      <td>개포6차우성아파트1동~8동</td>\n",
       "      <td>79.97</td>\n",
       "      <td>202204</td>\n",
       "      <td>21</td>\n",
       "      <td>220000</td>\n",
       "      <td>2</td>\n",
       "      <td>1987.0</td>\n",
       "      <td>언주로 3</td>\n",
       "      <td>NaN</td>\n",
       "      <td>중개거래</td>\n",
       "      <td>서울 강남구</td>\n",
       "    </tr>\n",
       "    <tr>\n",
       "      <th>4</th>\n",
       "      <td>서울특별시 강남구 개포동</td>\n",
       "      <td>658-1</td>\n",
       "      <td>658.0</td>\n",
       "      <td>1.0</td>\n",
       "      <td>개포6차우성아파트1동~8동</td>\n",
       "      <td>79.97</td>\n",
       "      <td>202205</td>\n",
       "      <td>27</td>\n",
       "      <td>216000</td>\n",
       "      <td>2</td>\n",
       "      <td>1987.0</td>\n",
       "      <td>언주로 3</td>\n",
       "      <td>NaN</td>\n",
       "      <td>중개거래</td>\n",
       "      <td>서울 강남구</td>\n",
       "    </tr>\n",
       "    <tr>\n",
       "      <th>7</th>\n",
       "      <td>서울특별시 강남구 개포동</td>\n",
       "      <td>1282</td>\n",
       "      <td>1282.0</td>\n",
       "      <td>0.0</td>\n",
       "      <td>개포래미안포레스트</td>\n",
       "      <td>74.66</td>\n",
       "      <td>202109</td>\n",
       "      <td>16</td>\n",
       "      <td>253000</td>\n",
       "      <td>2</td>\n",
       "      <td>2020.0</td>\n",
       "      <td>개포로 264</td>\n",
       "      <td>NaN</td>\n",
       "      <td>-</td>\n",
       "      <td>-</td>\n",
       "    </tr>\n",
       "    <tr>\n",
       "      <th>19</th>\n",
       "      <td>서울특별시 강남구 개포동</td>\n",
       "      <td>12-2</td>\n",
       "      <td>12.0</td>\n",
       "      <td>2.0</td>\n",
       "      <td>개포자이(12-2)</td>\n",
       "      <td>168.42</td>\n",
       "      <td>202202</td>\n",
       "      <td>7</td>\n",
       "      <td>246000</td>\n",
       "      <td>2</td>\n",
       "      <td>2004.0</td>\n",
       "      <td>개포로109길 69</td>\n",
       "      <td>NaN</td>\n",
       "      <td>중개거래</td>\n",
       "      <td>서울 강남구</td>\n",
       "    </tr>\n",
       "    <tr>\n",
       "      <th>...</th>\n",
       "      <td>...</td>\n",
       "      <td>...</td>\n",
       "      <td>...</td>\n",
       "      <td>...</td>\n",
       "      <td>...</td>\n",
       "      <td>...</td>\n",
       "      <td>...</td>\n",
       "      <td>...</td>\n",
       "      <td>...</td>\n",
       "      <td>...</td>\n",
       "      <td>...</td>\n",
       "      <td>...</td>\n",
       "      <td>...</td>\n",
       "      <td>...</td>\n",
       "      <td>...</td>\n",
       "    </tr>\n",
       "    <tr>\n",
       "      <th>16900</th>\n",
       "      <td>서울특별시 중랑구 신내동</td>\n",
       "      <td>654</td>\n",
       "      <td>654.0</td>\n",
       "      <td>0.0</td>\n",
       "      <td>진로아파트</td>\n",
       "      <td>134.37</td>\n",
       "      <td>202205</td>\n",
       "      <td>30</td>\n",
       "      <td>109000</td>\n",
       "      <td>2</td>\n",
       "      <td>1995.0</td>\n",
       "      <td>신내로17길 41</td>\n",
       "      <td>NaN</td>\n",
       "      <td>중개거래</td>\n",
       "      <td>서울 중랑구</td>\n",
       "    </tr>\n",
       "    <tr>\n",
       "      <th>16901</th>\n",
       "      <td>서울특별시 중랑구 신내동</td>\n",
       "      <td>654</td>\n",
       "      <td>654.0</td>\n",
       "      <td>0.0</td>\n",
       "      <td>진로아파트</td>\n",
       "      <td>134.37</td>\n",
       "      <td>202206</td>\n",
       "      <td>8</td>\n",
       "      <td>110000</td>\n",
       "      <td>2</td>\n",
       "      <td>1995.0</td>\n",
       "      <td>신내로17길 41</td>\n",
       "      <td>NaN</td>\n",
       "      <td>중개거래</td>\n",
       "      <td>서울 중랑구</td>\n",
       "    </tr>\n",
       "    <tr>\n",
       "      <th>16907</th>\n",
       "      <td>서울특별시 중랑구 신내동</td>\n",
       "      <td>656</td>\n",
       "      <td>656.0</td>\n",
       "      <td>0.0</td>\n",
       "      <td>화성.두산아파트</td>\n",
       "      <td>66.96</td>\n",
       "      <td>202203</td>\n",
       "      <td>12</td>\n",
       "      <td>71000</td>\n",
       "      <td>2</td>\n",
       "      <td>1995.0</td>\n",
       "      <td>신내로 155</td>\n",
       "      <td>NaN</td>\n",
       "      <td>중개거래</td>\n",
       "      <td>서울 송파구, 서울 중랑구</td>\n",
       "    </tr>\n",
       "    <tr>\n",
       "      <th>16909</th>\n",
       "      <td>서울특별시 중랑구 신내동</td>\n",
       "      <td>656</td>\n",
       "      <td>656.0</td>\n",
       "      <td>0.0</td>\n",
       "      <td>화성.두산아파트</td>\n",
       "      <td>66.96</td>\n",
       "      <td>202205</td>\n",
       "      <td>9</td>\n",
       "      <td>69000</td>\n",
       "      <td>2</td>\n",
       "      <td>1995.0</td>\n",
       "      <td>신내로 155</td>\n",
       "      <td>NaN</td>\n",
       "      <td>중개거래</td>\n",
       "      <td>서울 송파구, 서울 중랑구</td>\n",
       "    </tr>\n",
       "    <tr>\n",
       "      <th>16944</th>\n",
       "      <td>서울특별시 중랑구 중화동</td>\n",
       "      <td>274-51</td>\n",
       "      <td>274.0</td>\n",
       "      <td>51.0</td>\n",
       "      <td>한영(101)</td>\n",
       "      <td>84.69</td>\n",
       "      <td>202111</td>\n",
       "      <td>4</td>\n",
       "      <td>50000</td>\n",
       "      <td>2</td>\n",
       "      <td>2003.0</td>\n",
       "      <td>동일로144길 74</td>\n",
       "      <td>NaN</td>\n",
       "      <td>중개거래</td>\n",
       "      <td>서울 송파구, 서울 중랑구</td>\n",
       "    </tr>\n",
       "  </tbody>\n",
       "</table>\n",
       "<p>1019 rows × 15 columns</p>\n",
       "</div>"
      ],
      "text/plain": [
       "                 시군구      번지      본번    부번             단지명  전용면적(㎡)    계약년월  \\\n",
       "0      서울특별시 강남구 개포동   658-1   658.0   1.0  개포6차우성아파트1동~8동    79.97  202109   \n",
       "3      서울특별시 강남구 개포동   658-1   658.0   1.0  개포6차우성아파트1동~8동    79.97  202204   \n",
       "4      서울특별시 강남구 개포동   658-1   658.0   1.0  개포6차우성아파트1동~8동    79.97  202205   \n",
       "7      서울특별시 강남구 개포동    1282  1282.0   0.0       개포래미안포레스트    74.66  202109   \n",
       "19     서울특별시 강남구 개포동    12-2    12.0   2.0      개포자이(12-2)   168.42  202202   \n",
       "...              ...     ...     ...   ...             ...      ...     ...   \n",
       "16900  서울특별시 중랑구 신내동     654   654.0   0.0           진로아파트   134.37  202205   \n",
       "16901  서울특별시 중랑구 신내동     654   654.0   0.0           진로아파트   134.37  202206   \n",
       "16907  서울특별시 중랑구 신내동     656   656.0   0.0        화성.두산아파트    66.96  202203   \n",
       "16909  서울특별시 중랑구 신내동     656   656.0   0.0        화성.두산아파트    66.96  202205   \n",
       "16944  서울특별시 중랑구 중화동  274-51   274.0  51.0         한영(101)    84.69  202111   \n",
       "\n",
       "       계약일  거래금액(만원)  층    건축년도         도로명  해제사유발생일  거래유형          중개사소재지  \n",
       "0        2    220000  2  1987.0       언주로 3      NaN     -               -  \n",
       "3       21    220000  2  1987.0       언주로 3      NaN  중개거래          서울 강남구  \n",
       "4       27    216000  2  1987.0       언주로 3      NaN  중개거래          서울 강남구  \n",
       "7       16    253000  2  2020.0     개포로 264      NaN     -               -  \n",
       "19       7    246000  2  2004.0  개포로109길 69      NaN  중개거래          서울 강남구  \n",
       "...    ...       ... ..     ...         ...      ...   ...             ...  \n",
       "16900   30    109000  2  1995.0   신내로17길 41      NaN  중개거래          서울 중랑구  \n",
       "16901    8    110000  2  1995.0   신내로17길 41      NaN  중개거래          서울 중랑구  \n",
       "16907   12     71000  2  1995.0     신내로 155      NaN  중개거래  서울 송파구, 서울 중랑구  \n",
       "16909    9     69000  2  1995.0     신내로 155      NaN  중개거래  서울 송파구, 서울 중랑구  \n",
       "16944    4     50000  2  2003.0  동일로144길 74      NaN  중개거래  서울 송파구, 서울 중랑구  \n",
       "\n",
       "[1019 rows x 15 columns]"
      ]
     },
     "execution_count": 67,
     "metadata": {},
     "output_type": "execute_result"
    }
   ],
   "source": [
    "apt_price[apt_price['층'] == 2] "
   ]
  },
  {
   "cell_type": "code",
   "execution_count": 69,
   "id": "4b5cc954",
   "metadata": {},
   "outputs": [
    {
     "data": {
      "text/plain": [
       "78"
      ]
     },
     "execution_count": 69,
     "metadata": {},
     "output_type": "execute_result"
    }
   ],
   "source": [
    "# 서울시 강동구 암사동 거래정보만 추출\n",
    "bidx = apt_price['시군구'] == '서울특별시 강동구 암사동'\n",
    "sum(bidx) # True -> 1 False -> 0 "
   ]
  },
  {
   "cell_type": "code",
   "execution_count": 72,
   "id": "3735751f",
   "metadata": {},
   "outputs": [
    {
     "data": {
      "text/html": [
       "<div>\n",
       "<style scoped>\n",
       "    .dataframe tbody tr th:only-of-type {\n",
       "        vertical-align: middle;\n",
       "    }\n",
       "\n",
       "    .dataframe tbody tr th {\n",
       "        vertical-align: top;\n",
       "    }\n",
       "\n",
       "    .dataframe thead th {\n",
       "        text-align: right;\n",
       "    }\n",
       "</style>\n",
       "<table border=\"1\" class=\"dataframe\">\n",
       "  <thead>\n",
       "    <tr style=\"text-align: right;\">\n",
       "      <th></th>\n",
       "      <th>시군구</th>\n",
       "      <th>번지</th>\n",
       "      <th>본번</th>\n",
       "      <th>부번</th>\n",
       "      <th>단지명</th>\n",
       "      <th>전용면적(㎡)</th>\n",
       "      <th>계약년월</th>\n",
       "      <th>계약일</th>\n",
       "      <th>거래금액(만원)</th>\n",
       "      <th>층</th>\n",
       "      <th>건축년도</th>\n",
       "      <th>도로명</th>\n",
       "      <th>해제사유발생일</th>\n",
       "      <th>거래유형</th>\n",
       "      <th>중개사소재지</th>\n",
       "    </tr>\n",
       "  </thead>\n",
       "  <tbody>\n",
       "    <tr>\n",
       "      <th>1625</th>\n",
       "      <td>서울특별시 강동구 암사동</td>\n",
       "      <td>466-3</td>\n",
       "      <td>466.0</td>\n",
       "      <td>3.0</td>\n",
       "      <td>내일쎄닛빌</td>\n",
       "      <td>111.4000</td>\n",
       "      <td>202205</td>\n",
       "      <td>11</td>\n",
       "      <td>72000</td>\n",
       "      <td>9</td>\n",
       "      <td>2007.0</td>\n",
       "      <td>고덕로20나길 49</td>\n",
       "      <td>NaN</td>\n",
       "      <td>직거래</td>\n",
       "      <td>-</td>\n",
       "    </tr>\n",
       "    <tr>\n",
       "      <th>1626</th>\n",
       "      <td>서울특별시 강동구 암사동</td>\n",
       "      <td>461</td>\n",
       "      <td>461.0</td>\n",
       "      <td>0.0</td>\n",
       "      <td>대원</td>\n",
       "      <td>59.9000</td>\n",
       "      <td>202201</td>\n",
       "      <td>17</td>\n",
       "      <td>72500</td>\n",
       "      <td>12</td>\n",
       "      <td>1998.0</td>\n",
       "      <td>고덕로 52</td>\n",
       "      <td>NaN</td>\n",
       "      <td>중개거래</td>\n",
       "      <td>서울 강남구, 서울 강동구</td>\n",
       "    </tr>\n",
       "    <tr>\n",
       "      <th>1627</th>\n",
       "      <td>서울특별시 강동구 암사동</td>\n",
       "      <td>501-4</td>\n",
       "      <td>501.0</td>\n",
       "      <td>4.0</td>\n",
       "      <td>동양넥스빌</td>\n",
       "      <td>84.6800</td>\n",
       "      <td>202205</td>\n",
       "      <td>10</td>\n",
       "      <td>80000</td>\n",
       "      <td>10</td>\n",
       "      <td>1999.0</td>\n",
       "      <td>상암로 41</td>\n",
       "      <td>NaN</td>\n",
       "      <td>중개거래</td>\n",
       "      <td>서울 강동구</td>\n",
       "    </tr>\n",
       "    <tr>\n",
       "      <th>1628</th>\n",
       "      <td>서울특별시 강동구 암사동</td>\n",
       "      <td>414-2</td>\n",
       "      <td>414.0</td>\n",
       "      <td>2.0</td>\n",
       "      <td>롯데캐슬퍼스트</td>\n",
       "      <td>59.9900</td>\n",
       "      <td>202109</td>\n",
       "      <td>8</td>\n",
       "      <td>129700</td>\n",
       "      <td>18</td>\n",
       "      <td>2008.0</td>\n",
       "      <td>고덕로 131</td>\n",
       "      <td>NaN</td>\n",
       "      <td>-</td>\n",
       "      <td>-</td>\n",
       "    </tr>\n",
       "    <tr>\n",
       "      <th>1629</th>\n",
       "      <td>서울특별시 강동구 암사동</td>\n",
       "      <td>414-2</td>\n",
       "      <td>414.0</td>\n",
       "      <td>2.0</td>\n",
       "      <td>롯데캐슬퍼스트</td>\n",
       "      <td>59.9900</td>\n",
       "      <td>202109</td>\n",
       "      <td>11</td>\n",
       "      <td>125500</td>\n",
       "      <td>3</td>\n",
       "      <td>2008.0</td>\n",
       "      <td>고덕로 131</td>\n",
       "      <td>NaN</td>\n",
       "      <td>-</td>\n",
       "      <td>-</td>\n",
       "    </tr>\n",
       "    <tr>\n",
       "      <th>...</th>\n",
       "      <td>...</td>\n",
       "      <td>...</td>\n",
       "      <td>...</td>\n",
       "      <td>...</td>\n",
       "      <td>...</td>\n",
       "      <td>...</td>\n",
       "      <td>...</td>\n",
       "      <td>...</td>\n",
       "      <td>...</td>\n",
       "      <td>...</td>\n",
       "      <td>...</td>\n",
       "      <td>...</td>\n",
       "      <td>...</td>\n",
       "      <td>...</td>\n",
       "      <td>...</td>\n",
       "    </tr>\n",
       "    <tr>\n",
       "      <th>1698</th>\n",
       "      <td>서울특별시 강동구 암사동</td>\n",
       "      <td>400</td>\n",
       "      <td>400.0</td>\n",
       "      <td>0.0</td>\n",
       "      <td>현대홈타운</td>\n",
       "      <td>84.9800</td>\n",
       "      <td>202204</td>\n",
       "      <td>20</td>\n",
       "      <td>137500</td>\n",
       "      <td>18</td>\n",
       "      <td>2004.0</td>\n",
       "      <td>고덕로27길 36</td>\n",
       "      <td>NaN</td>\n",
       "      <td>중개거래</td>\n",
       "      <td>서울 강동구</td>\n",
       "    </tr>\n",
       "    <tr>\n",
       "      <th>1699</th>\n",
       "      <td>서울특별시 강동구 암사동</td>\n",
       "      <td>400</td>\n",
       "      <td>400.0</td>\n",
       "      <td>0.0</td>\n",
       "      <td>현대홈타운</td>\n",
       "      <td>114.0700</td>\n",
       "      <td>202205</td>\n",
       "      <td>30</td>\n",
       "      <td>155000</td>\n",
       "      <td>11</td>\n",
       "      <td>2004.0</td>\n",
       "      <td>고덕로27길 36</td>\n",
       "      <td>NaN</td>\n",
       "      <td>중개거래</td>\n",
       "      <td>서울 강동구</td>\n",
       "    </tr>\n",
       "    <tr>\n",
       "      <th>1700</th>\n",
       "      <td>서울특별시 강동구 암사동</td>\n",
       "      <td>675</td>\n",
       "      <td>675.0</td>\n",
       "      <td>0.0</td>\n",
       "      <td>힐스테이트 강동 리버뷰</td>\n",
       "      <td>84.9979</td>\n",
       "      <td>202203</td>\n",
       "      <td>29</td>\n",
       "      <td>130000</td>\n",
       "      <td>4</td>\n",
       "      <td>2019.0</td>\n",
       "      <td>올림픽로91길 30</td>\n",
       "      <td>NaN</td>\n",
       "      <td>중개거래</td>\n",
       "      <td>서울 강동구</td>\n",
       "    </tr>\n",
       "    <tr>\n",
       "      <th>1701</th>\n",
       "      <td>서울특별시 강동구 암사동</td>\n",
       "      <td>675</td>\n",
       "      <td>675.0</td>\n",
       "      <td>0.0</td>\n",
       "      <td>힐스테이트 강동 리버뷰</td>\n",
       "      <td>84.9921</td>\n",
       "      <td>202204</td>\n",
       "      <td>1</td>\n",
       "      <td>164000</td>\n",
       "      <td>23</td>\n",
       "      <td>2019.0</td>\n",
       "      <td>올림픽로91길 30</td>\n",
       "      <td>NaN</td>\n",
       "      <td>중개거래</td>\n",
       "      <td>서울 강동구</td>\n",
       "    </tr>\n",
       "    <tr>\n",
       "      <th>1702</th>\n",
       "      <td>서울특별시 강동구 암사동</td>\n",
       "      <td>675</td>\n",
       "      <td>675.0</td>\n",
       "      <td>0.0</td>\n",
       "      <td>힐스테이트 강동 리버뷰</td>\n",
       "      <td>84.9628</td>\n",
       "      <td>202205</td>\n",
       "      <td>6</td>\n",
       "      <td>152000</td>\n",
       "      <td>7</td>\n",
       "      <td>2019.0</td>\n",
       "      <td>올림픽로91길 30</td>\n",
       "      <td>NaN</td>\n",
       "      <td>중개거래</td>\n",
       "      <td>경기 성남분당구</td>\n",
       "    </tr>\n",
       "  </tbody>\n",
       "</table>\n",
       "<p>78 rows × 15 columns</p>\n",
       "</div>"
      ],
      "text/plain": [
       "                시군구     번지     본번   부번           단지명   전용면적(㎡)    계약년월  계약일  \\\n",
       "1625  서울특별시 강동구 암사동  466-3  466.0  3.0         내일쎄닛빌  111.4000  202205   11   \n",
       "1626  서울특별시 강동구 암사동    461  461.0  0.0            대원   59.9000  202201   17   \n",
       "1627  서울특별시 강동구 암사동  501-4  501.0  4.0         동양넥스빌   84.6800  202205   10   \n",
       "1628  서울특별시 강동구 암사동  414-2  414.0  2.0       롯데캐슬퍼스트   59.9900  202109    8   \n",
       "1629  서울특별시 강동구 암사동  414-2  414.0  2.0       롯데캐슬퍼스트   59.9900  202109   11   \n",
       "...             ...    ...    ...  ...           ...       ...     ...  ...   \n",
       "1698  서울특별시 강동구 암사동    400  400.0  0.0         현대홈타운   84.9800  202204   20   \n",
       "1699  서울특별시 강동구 암사동    400  400.0  0.0         현대홈타운  114.0700  202205   30   \n",
       "1700  서울특별시 강동구 암사동    675  675.0  0.0  힐스테이트 강동 리버뷰   84.9979  202203   29   \n",
       "1701  서울특별시 강동구 암사동    675  675.0  0.0  힐스테이트 강동 리버뷰   84.9921  202204    1   \n",
       "1702  서울특별시 강동구 암사동    675  675.0  0.0  힐스테이트 강동 리버뷰   84.9628  202205    6   \n",
       "\n",
       "      거래금액(만원)   층    건축년도         도로명  해제사유발생일  거래유형          중개사소재지  \n",
       "1625     72000   9  2007.0  고덕로20나길 49      NaN   직거래               -  \n",
       "1626     72500  12  1998.0      고덕로 52      NaN  중개거래  서울 강남구, 서울 강동구  \n",
       "1627     80000  10  1999.0      상암로 41      NaN  중개거래          서울 강동구  \n",
       "1628    129700  18  2008.0     고덕로 131      NaN     -               -  \n",
       "1629    125500   3  2008.0     고덕로 131      NaN     -               -  \n",
       "...        ...  ..     ...         ...      ...   ...             ...  \n",
       "1698    137500  18  2004.0   고덕로27길 36      NaN  중개거래          서울 강동구  \n",
       "1699    155000  11  2004.0   고덕로27길 36      NaN  중개거래          서울 강동구  \n",
       "1700    130000   4  2019.0  올림픽로91길 30      NaN  중개거래          서울 강동구  \n",
       "1701    164000  23  2019.0  올림픽로91길 30      NaN  중개거래          서울 강동구  \n",
       "1702    152000   7  2019.0  올림픽로91길 30      NaN  중개거래        경기 성남분당구  \n",
       "\n",
       "[78 rows x 15 columns]"
      ]
     },
     "execution_count": 72,
     "metadata": {},
     "output_type": "execute_result"
    }
   ],
   "source": [
    "apt_price[bidx]"
   ]
  },
  {
   "cell_type": "markdown",
   "id": "9089d0da",
   "metadata": {},
   "source": [
    "<br/>\n",
    "<br/>\n",
    "<br/>\n",
    "<br/>"
   ]
  },
  {
   "cell_type": "markdown",
   "id": "415c55c8",
   "metadata": {},
   "source": [
    "## Numpy Indexing"
   ]
  },
  {
   "cell_type": "code",
   "execution_count": 61,
   "id": "1650b6b4",
   "metadata": {},
   "outputs": [
    {
     "name": "stdout",
     "output_type": "stream",
     "text": [
      "No variables match your requested type.\n"
     ]
    }
   ],
   "source": [
    "%whos # 변수명 목록과 값을 보여주는 주피터내의 명령어"
   ]
  },
  {
   "cell_type": "markdown",
   "id": "12afe30b",
   "metadata": {},
   "source": [
    "### 정수 인덱싱\n",
    "- 접근하고자 하는 요소의 위치를 이용하여 데이터에 접근\n",
    "- [행 인덱스, 열 인덱스, ...]"
   ]
  },
  {
   "cell_type": "code",
   "execution_count": 7,
   "id": "c22980be",
   "metadata": {},
   "outputs": [
    {
     "data": {
      "text/plain": [
       "(array([[0, 1, 2],\n",
       "        [3, 4, 5],\n",
       "        [6, 7, 8]]),\n",
       " array([0, 1, 2]))"
      ]
     },
     "execution_count": 7,
     "metadata": {},
     "output_type": "execute_result"
    }
   ],
   "source": [
    "arr5 = np.arange(9).reshape(3, 3)\n",
    "arr5, arr5[0]"
   ]
  },
  {
   "cell_type": "code",
   "execution_count": 12,
   "id": "19bb3b5f",
   "metadata": {},
   "outputs": [
    {
     "data": {
      "text/plain": [
       "(4, 4)"
      ]
     },
     "execution_count": 12,
     "metadata": {},
     "output_type": "execute_result"
    }
   ],
   "source": [
    "arr5[1][1], arr5[1, 1]"
   ]
  },
  {
   "cell_type": "markdown",
   "id": "e0bb4b34",
   "metadata": {},
   "source": [
    "### 조건 인덱싱\n",
    "- 배열에 조건 비교를 하는 경우 Broadcast 연산으로 인해 각 요소별 비교 결과 값을 가지게 됨\n",
    "- 결과는 항상 1차원 Array가 옴"
   ]
  },
  {
   "cell_type": "code",
   "execution_count": 14,
   "id": "4713a9fc",
   "metadata": {},
   "outputs": [
    {
     "data": {
      "text/plain": [
       "array([[0, 1, 2],\n",
       "       [3, 4, 5],\n",
       "       [6, 7, 8]])"
      ]
     },
     "execution_count": 14,
     "metadata": {},
     "output_type": "execute_result"
    }
   ],
   "source": [
    "arr5"
   ]
  },
  {
   "cell_type": "code",
   "execution_count": 17,
   "id": "eb25e76c",
   "metadata": {},
   "outputs": [
    {
     "data": {
      "text/plain": [
       "array([[ True, False,  True],\n",
       "       [False,  True, False],\n",
       "       [ True, False,  True]])"
      ]
     },
     "execution_count": 17,
     "metadata": {},
     "output_type": "execute_result"
    }
   ],
   "source": [
    "bidx = arr5 % 2 == 0\n",
    "bidx"
   ]
  },
  {
   "cell_type": "code",
   "execution_count": 19,
   "id": "ccc66118",
   "metadata": {},
   "outputs": [
    {
     "data": {
      "text/plain": [
       "array([0, 2, 4, 6, 8])"
      ]
     },
     "execution_count": 19,
     "metadata": {},
     "output_type": "execute_result"
    }
   ],
   "source": [
    "arr5[bidx] # True에 위치하는 값을 추출, 1차원 반환"
   ]
  },
  {
   "cell_type": "markdown",
   "id": "72e6f73a",
   "metadata": {},
   "source": [
    "### 팬시 인덱싱\n",
    "- 다른 Array를 이용하여 인덱싱하는 방법\n",
    "    - 조건 인덱싱도 Boolean Array를 이용하여 인덱싱 하는 팬시 인덱싱의 일종\n",
    "    - 선택하고자 하는 위치를 Array로 묶어서 데이터에 접근 가능"
   ]
  },
  {
   "cell_type": "code",
   "execution_count": 74,
   "id": "00c432cb",
   "metadata": {},
   "outputs": [
    {
     "data": {
      "text/plain": [
       "(2, 4)"
      ]
     },
     "execution_count": 74,
     "metadata": {},
     "output_type": "execute_result"
    }
   ],
   "source": [
    "arr5[0,2], arr5[1,1]"
   ]
  },
  {
   "cell_type": "code",
   "execution_count": 76,
   "id": "108337c6",
   "metadata": {},
   "outputs": [
    {
     "data": {
      "text/plain": [
       "array([2, 4])"
      ]
     },
     "execution_count": 76,
     "metadata": {},
     "output_type": "execute_result"
    }
   ],
   "source": [
    "arr5[[0,1],[2,1]]"
   ]
  },
  {
   "cell_type": "code",
   "execution_count": 78,
   "id": "01e2ee04",
   "metadata": {},
   "outputs": [
    {
     "data": {
      "text/plain": [
       "(array([0, 1, 2]), array([1, 4, 7]))"
      ]
     },
     "execution_count": 78,
     "metadata": {},
     "output_type": "execute_result"
    }
   ],
   "source": [
    "arr5[0, :], arr5[:, 1] # 1차원"
   ]
  },
  {
   "cell_type": "code",
   "execution_count": 80,
   "id": "b97e29ab",
   "metadata": {},
   "outputs": [
    {
     "data": {
      "text/plain": [
       "(array([[1, 2],\n",
       "        [4, 5]]),\n",
       " array([[7, 8]]))"
      ]
     },
     "execution_count": 80,
     "metadata": {},
     "output_type": "execute_result"
    }
   ],
   "source": [
    "arr5[:2, 1:], arr5[-1:, 1:3] # 2차원"
   ]
  },
  {
   "cell_type": "markdown",
   "id": "4573f853",
   "metadata": {},
   "source": [
    "<br/>\n",
    "<br/>\n",
    "<br/>\n",
    "<br/>"
   ]
  },
  {
   "cell_type": "markdown",
   "id": "136bef9f",
   "metadata": {},
   "source": [
    "# Numpy Slicing\n",
    "- Numpy는 다차원 배열(ndarray)를 염두하고 설계했기 때문에 데이터의 복사를 남발하지 않음\n",
    "- 원본 배열을 슬라이싱하여 새로운 배열을 만든 경우, 새로운 배열은 값이 복사되지 않고 참조됨\n",
    "    * 새로운 배열을 수정하면 원본 배열도 수정됨\n",
    "- 만약 값을 복사하여 저장하고 싶은 경우 copy() 함수를 사용\n",
    "- 또는 팬시 인덱싱 이용"
   ]
  },
  {
   "cell_type": "code",
   "execution_count": 87,
   "id": "91378ecd",
   "metadata": {},
   "outputs": [
    {
     "data": {
      "text/plain": [
       "(array([10,  4,  7]), array([10,  4,  7]))"
      ]
     },
     "execution_count": 87,
     "metadata": {},
     "output_type": "execute_result"
    }
   ],
   "source": [
    "b = arr5[:, 1]\n",
    "b[0] = 10\n",
    "b, arr5[:, 1]"
   ]
  },
  {
   "cell_type": "code",
   "execution_count": 93,
   "id": "7e69a977",
   "metadata": {},
   "outputs": [
    {
     "data": {
      "text/plain": [
       "(array([1, 4, 7]), array([10,  4,  7]))"
      ]
     },
     "execution_count": 93,
     "metadata": {},
     "output_type": "execute_result"
    }
   ],
   "source": [
    "b = arr5[:, 1].copy()\n",
    "b[0] = 1\n",
    "b, arr5[:, 1]"
   ]
  },
  {
   "cell_type": "markdown",
   "id": "3ed219cb",
   "metadata": {},
   "source": [
    "<br/>\n",
    "<br/>\n",
    "<br/>\n",
    "<br/>"
   ]
  },
  {
   "cell_type": "markdown",
   "id": "6c7f6e3a",
   "metadata": {},
   "source": [
    "# Numpy Function"
   ]
  },
  {
   "cell_type": "markdown",
   "id": "4212593b",
   "metadata": {},
   "source": [
    "### np.where(조건, [x,y] => 선택사항)\n",
    "- 조건을 만족하는 요소의 위치를 반환\n",
    "- x와 y를 지정하는 경우 값이 대체된 배열을 반환\n",
    "    - x: 요소의 조건의 True 인 경우 지정할 값\n",
    "    - y: 요소의 조건의 False 인 경우 지정할 값"
   ]
  },
  {
   "cell_type": "code",
   "execution_count": 100,
   "id": "6043c329",
   "metadata": {},
   "outputs": [
    {
     "data": {
      "text/plain": [
       "(array([[ 0, 10,  2],\n",
       "        [ 3,  4,  5],\n",
       "        [ 6,  7,  8]]),\n",
       " (array([0, 0, 0, 1, 2, 2], dtype=int64),\n",
       "  array([0, 1, 2, 1, 0, 2], dtype=int64)))"
      ]
     },
     "execution_count": 100,
     "metadata": {},
     "output_type": "execute_result"
    }
   ],
   "source": [
    "arr5, np.where(arr5 % 2 == 0)\n",
    "# [0,0], [0,1], [0,2], [1,1], [2,0], [2,2]"
   ]
  },
  {
   "cell_type": "code",
   "execution_count": 99,
   "id": "0b861fd3",
   "metadata": {},
   "outputs": [
    {
     "data": {
      "text/plain": [
       "array([['짝수', '짝수', '짝수'],\n",
       "       ['홀수', '짝수', '홀수'],\n",
       "       ['짝수', '홀수', '짝수']], dtype='<U2')"
      ]
     },
     "execution_count": 99,
     "metadata": {},
     "output_type": "execute_result"
    }
   ],
   "source": [
    "np.where(arr5 % 2 == 0, '짝수', '홀수')"
   ]
  },
  {
   "cell_type": "code",
   "execution_count": 101,
   "id": "d9fd1ee4",
   "metadata": {},
   "outputs": [
    {
     "data": {
      "text/plain": [
       "array([['짝수', '짝수', '짝수'],\n",
       "       ['3', '짝수', '5'],\n",
       "       ['짝수', '7', '짝수']], dtype='<U11')"
      ]
     },
     "execution_count": 101,
     "metadata": {},
     "output_type": "execute_result"
    }
   ],
   "source": [
    "# 조건에 맞는 항목은 '짝수', 아니면 원래값 유지\n",
    "np.where(arr5 % 2 == 0, '짝수', arr5)"
   ]
  },
  {
   "cell_type": "markdown",
   "id": "40d10176",
   "metadata": {},
   "source": [
    "### Statistical Functions\n",
    "- 배열의 주어진 요소로부터 최소, 최대, 백분위수, 표준편차, 분산 등을 찾는데 유요한 통계 함수가 존재\n",
    "- 통계 함수는 배열에서 요소별로 작동하며, axis 옵션을 통해 연산 방향을 지정할 수 있음\n",
    "    - axis 지정 안된 경우 모든 요소의 연산 결과가 반환\n",
    "    - axis 0 지정된 경우 행과 행의 연산 결과가 반환  (행별 데이터를 읽어서 열별 연산)\n",
    "    - axis 1 지정된 경우 열과 열의 연산 결과가 반환  (열별 데이터를 읽어서 행별 연산)\n",
    "    \n",
    "min, max, mean(평균), median(중앙값), quantile, std, var, corrcodf, argmin, argmax, cumsum, cumprod 등"
   ]
  },
  {
   "cell_type": "code",
   "execution_count": 104,
   "id": "82f15596",
   "metadata": {},
   "outputs": [
    {
     "data": {
      "text/plain": [
       "array([[ 0, 10,  2],\n",
       "       [ 3,  4,  5],\n",
       "       [ 6,  7,  8]])"
      ]
     },
     "execution_count": 104,
     "metadata": {},
     "output_type": "execute_result"
    }
   ],
   "source": [
    "arr5"
   ]
  },
  {
   "cell_type": "code",
   "execution_count": 105,
   "id": "3565b359",
   "metadata": {},
   "outputs": [
    {
     "data": {
      "text/plain": [
       "45"
      ]
     },
     "execution_count": 105,
     "metadata": {},
     "output_type": "execute_result"
    }
   ],
   "source": [
    "arr5.sum()"
   ]
  },
  {
   "cell_type": "code",
   "execution_count": 107,
   "id": "be10478f",
   "metadata": {},
   "outputs": [
    {
     "data": {
      "text/plain": [
       "(array([ 9, 21, 15]), array([12, 12, 21]))"
      ]
     },
     "execution_count": 107,
     "metadata": {},
     "output_type": "execute_result"
    }
   ],
   "source": [
    "arr5.sum(axis = 0), arr5.sum(axis = 1) "
   ]
  }
 ],
 "metadata": {
  "kernelspec": {
   "display_name": "Python 3 (ipykernel)",
   "language": "python",
   "name": "python3"
  },
  "language_info": {
   "codemirror_mode": {
    "name": "ipython",
    "version": 3
   },
   "file_extension": ".py",
   "mimetype": "text/x-python",
   "name": "python",
   "nbconvert_exporter": "python",
   "pygments_lexer": "ipython3",
   "version": "3.9.12"
  },
  "toc": {
   "base_numbering": 1,
   "nav_menu": {},
   "number_sections": true,
   "sideBar": true,
   "skip_h1_title": false,
   "title_cell": "Table of Contents",
   "title_sidebar": "Contents",
   "toc_cell": false,
   "toc_position": {},
   "toc_section_display": true,
   "toc_window_display": false
  },
  "vscode": {
   "interpreter": {
    "hash": "2043299c89c8cd0b4d1a6f5cf4529bd58e6a4e0fe3181a25e0d328c821cdc5c5"
   }
  }
 },
 "nbformat": 4,
 "nbformat_minor": 5
}
