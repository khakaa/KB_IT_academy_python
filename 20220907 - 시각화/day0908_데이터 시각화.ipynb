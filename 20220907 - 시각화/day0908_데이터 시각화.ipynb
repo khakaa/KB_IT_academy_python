{
 "cells": [
  {
   "cell_type": "code",
   "execution_count": 10,
   "id": "b029c758",
   "metadata": {},
   "outputs": [
    {
     "data": {
      "text/plain": [
       "Text(0.5, 1.0, '헬로')"
      ]
     },
     "execution_count": 10,
     "metadata": {},
     "output_type": "execute_result"
    },
    {
     "data": {
      "image/png": "[encoded data removed]",
      "text/plain": [
       "<Figure size 432x288 with 1 Axes>"
      ]
     },
     "metadata": {
      "needs_background": "light"
     },
     "output_type": "display_data"
    }
   ],
   "source": [
    "import numpy as np\n",
    "import pandas as pd\n",
    "import matplotlib.pyplot as plt\n",
    "\n",
    "# 시각화 한글처리\n",
    "plt.rc('font', family='Malgun Gothic')\n",
    "\n",
    "x = np.arange(10)\n",
    "y = x**2\n",
    "\n",
    "plt.xlim(0, 90)\n",
    "plt.ylim(0,90)\n",
    "\n",
    "plt.plot(x, x*2, 'ro')\n",
    "plt.plot(x, x**2, 'b-')\n",
    "plt.plot(x, x**3, 'g^')\n",
    "\n",
    "\n",
    "plt.title('헬로')\n",
    "# x축 : x의 index\n",
    "# y축 : x의 요소 값"
   ]
  },
  {
   "cell_type": "markdown",
   "id": "fde66b2c",
   "metadata": {},
   "source": [
    "<br/>\n",
    "<br/>"
   ]
  },
  {
   "cell_type": "code",
   "execution_count": null,
   "id": "ade808b2",
   "metadata": {},
   "outputs": [],
   "source": []
  }
 ],
 "metadata": {
  "kernelspec": {
   "display_name": "Python 3 (ipykernel)",
   "language": "python",
   "name": "python3"
  },
  "language_info": {
   "codemirror_mode": {
    "name": "ipython",
    "version": 3
   },
   "file_extension": ".py",
   "mimetype": "text/x-python",
   "name": "python",
   "nbconvert_exporter": "python",
   "pygments_lexer": "ipython3",
   "version": "3.9.12"
  }
 },
 "nbformat": 4,
 "nbformat_minor": 5
}
