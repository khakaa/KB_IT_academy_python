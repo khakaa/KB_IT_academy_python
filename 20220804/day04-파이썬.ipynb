{
 "cells": [
  {
   "cell_type": "code",
   "execution_count": 4,
   "id": "94d3d38c",
   "metadata": {},
   "outputs": [
    {
     "name": "stdout",
     "output_type": "stream",
     "text": [
      "a = 100\n"
     ]
    }
   ],
   "source": [
    "# 변수\n",
    "a = 100\n",
    "# 함수\n",
    "def print_info():\n",
    "    print(\"a =\",a)\n",
    "    \n",
    "print_info()"
   ]
  },
  {
   "cell_type": "code",
   "execution_count": 3,
   "id": "59a9362d",
   "metadata": {},
   "outputs": [],
   "source": [
    "# 데이터 관리\n",
    "# 데이터 - 정보(단일, 복합 - ex.개인정보, 상품정보)\n",
    "# 관리 - 등록, 검색(목록, 상세), 수정, 삭제"
   ]
  },
  {
   "cell_type": "code",
   "execution_count": 2,
   "id": "3d00a7e3",
   "metadata": {},
   "outputs": [],
   "source": [
    "# int, float, str -> 단일 정보 관리\n",
    "# list, set, dict -> 복합 정보 관리\n",
    "\n",
    "# 이름 : 값 상품정보 -> 이름:\"냉장고\", 크기:200L, 공장도가격 :1000000,\n",
    "#                    가격:1500000, 제조사:\"LG\", 제품명:\"냉장고\",\n",
    "#                    상품코드:\"abc\" "
   ]
  },
  {
   "cell_type": "code",
   "execution_count": 24,
   "id": "83279109",
   "metadata": {},
   "outputs": [
    {
     "name": "stdout",
     "output_type": "stream",
     "text": [
      "type : 냉장고, 제조사 : LG, 크기 : 200, 가격 : 1500000\n",
      "type : 세탁기, 제조사 : 삼성, 크기 : 10, 가격 : 500000\n"
     ]
    }
   ],
   "source": [
    "# 상품정보 전용 데이터 타입\n",
    "class Product:\n",
    "    count = 0\n",
    "    \n",
    "    def __init__(self, type, 제조사, 크기, 가격):\n",
    "        self.type = type # 객체당 하나 존재\n",
    "        self.제조사 = 제조사\n",
    "        self.크기 = 크기\n",
    "        self.가격 = 가격\n",
    "        Product.count += 1 # 클래스당 하나 존재\n",
    "        \n",
    "    def __del__(self):\n",
    "        print(\"instacne is removed\")\n",
    "        \n",
    "    def print_info(self):\n",
    "        print(f\"type : {self.type}, 제조사 : {self.제조사}, 크기 : {self.크기}, 가격 : {self.가격}\")\n",
    "        \n",
    "p1 = Product(type=\"냉장고\",제조사=\"LG\",크기=200,가격=1500000)\n",
    "p1.print_info() # 내용 확인\n",
    "\n",
    "p2 = Product(type=\"세탁기\",제조사=\"삼성\",크기=10,가격=500000)\n",
    "p2.print_info()"
   ]
  },
  {
   "cell_type": "code",
   "execution_count": 25,
   "id": "a6ed015e",
   "metadata": {},
   "outputs": [
    {
     "data": {
      "text/plain": [
       "(2, 2, 2)"
      ]
     },
     "execution_count": 25,
     "metadata": {},
     "output_type": "execute_result"
    }
   ],
   "source": [
    "p1.count, p2.count, Product.count"
   ]
  },
  {
   "cell_type": "code",
   "execution_count": 26,
   "id": "7eee0ae9",
   "metadata": {},
   "outputs": [
    {
     "name": "stdout",
     "output_type": "stream",
     "text": [
      "instacne is removed\n"
     ]
    }
   ],
   "source": [
    "del p1"
   ]
  },
  {
   "cell_type": "code",
   "execution_count": 27,
   "id": "0eed175e",
   "metadata": {},
   "outputs": [
    {
     "name": "stdout",
     "output_type": "stream",
     "text": [
      "instacne is removed\n",
      "<__main__.Product object at 0x000002709199CC70> <__main__.Product object at 0x000002709199CC70>\n"
     ]
    }
   ],
   "source": [
    "p3 = p2 # 주소가 복사된다\n",
    "print(p2, p3)e\n",
    "del p2"
   ]
  },
  {
   "cell_type": "code",
   "execution_count": 37,
   "id": "0d25c14a",
   "metadata": {},
   "outputs": [
    {
     "name": "stdout",
     "output_type": "stream",
     "text": [
      "name : 홍길동\n",
      "name : 김길동\n",
      "학과 : 소프트웨어공학, 학번 : 1011\n"
     ]
    }
   ],
   "source": [
    "class Person:\n",
    "    def __init__(self, name):\n",
    "        self.name = name\n",
    "    \n",
    "    def __str__(self):\n",
    "        return self.name\n",
    "    \n",
    "    def __repr__(self):\n",
    "        return f'Person(\"{self.name}\")'\n",
    "    \n",
    "    def print_info(self):\n",
    "        print(f\"name : {self.name}\")\n",
    "    \n",
    "    \n",
    "class Student(Person):\n",
    "    def __init__(self, name, major, id_num):\n",
    "        super().__init__(name)\n",
    "        self.major = major\n",
    "        self.id_num = id_num\n",
    "        \n",
    "    def __str__(self):\n",
    "        return f\"{super().__str__()}, {self.major}, {self.id_num}\"\n",
    "    def print_info(self): # overriding\n",
    "        super().print_info()\n",
    "        print(f\"학과 : {self.major}, 학번 : {self.id_num}\")\n",
    "        \n",
    "# class Emp(Person):\n",
    "#     def __init__(self, name, team, id_num):\n",
    "#         super().__init__(name)\n",
    "#         self.team = team\n",
    "#         self.id_num = id_num\n",
    "        \n",
    "# class Teacher(Person):\n",
    "#     def __init__(self, name, major, id_num):\n",
    "#         super().__init__(name)\n",
    "#         self.major = major\n",
    "#         self.id_num = id_num\n",
    "    \n",
    "    \n",
    "p1 = Person(\"홍길동\")\n",
    "p1.print_info()\n",
    "\n",
    "s1 = Student(\"김길동\", \"소프트웨어공학\", id_num=1011)\n",
    "s1.print_info()\n",
    "\n",
    "e1 = Emp(\"김대리\", \"개발1팀\", id_num=95011)\n",
    "t1 = Teacher(\"박교수\", \"컴공\", id_num=2011)"
   ]
  },
  {
   "cell_type": "code",
   "execution_count": 38,
   "id": "be2df5d1",
   "metadata": {},
   "outputs": [
    {
     "name": "stdout",
     "output_type": "stream",
     "text": [
      "홍길동\n",
      "김길동, 소프트웨어공학, 1011\n"
     ]
    }
   ],
   "source": [
    "print(p1)\n",
    "print(s1)"
   ]
  },
  {
   "cell_type": "code",
   "execution_count": 40,
   "id": "b695a85d",
   "metadata": {},
   "outputs": [
    {
     "name": "stdout",
     "output_type": "stream",
     "text": [
      "2\n",
      "2\n",
      "3\n",
      "1\n"
     ]
    }
   ],
   "source": [
    "import random\n",
    "print(random.randint(1,3))\n",
    "\n",
    "import random as rd\n",
    "print(rd.randint(1,3))\n",
    "\n",
    "from random import randint\n",
    "print(randint(1,3))\n",
    "\n",
    "from random import randint as rd\n",
    "print(rd(1,3))"
   ]
  },
  {
   "cell_type": "code",
   "execution_count": 48,
   "id": "396f152f",
   "metadata": {},
   "outputs": [
    {
     "name": "stdout",
     "output_type": "stream",
     "text": [
      "Overwriting my_calc.py\n"
     ]
    }
   ],
   "source": [
    "%%writefile my_calc.py\n",
    "myname = \"홍길동\"\n",
    "\n",
    "def plus(a,b):\n",
    "    return a+b\n",
    "\n",
    "def minus(a,b):\n",
    "    return a-b"
   ]
  },
  {
   "cell_type": "code",
   "execution_count": 4,
   "id": "0899bc04",
   "metadata": {},
   "outputs": [
    {
     "name": "stdout",
     "output_type": "stream",
     "text": [
      "Hello\n"
     ]
    }
   ],
   "source": [
    "import my_calc\n",
    "\n",
    "my_calc.hello()"
   ]
  },
  {
   "cell_type": "code",
   "execution_count": 1,
   "id": "e1f41daa",
   "metadata": {},
   "outputs": [
    {
     "name": "stdout",
     "output_type": "stream",
     "text": [
      "랜덤숫자 : 68\n",
      "56\n",
      "시도 횟수 : 1\n",
      "높여주세요\n",
      "\n",
      "\n",
      "랜덤숫자 : 68\n",
      "68\n",
      "시도 횟수 : 2\n",
      "정답입니다\n"
     ]
    }
   ],
   "source": [
    "import find_number\n",
    "find_number.start_game()"
   ]
  },
  {
   "cell_type": "code",
   "execution_count": 51,
   "id": "fffa69be",
   "metadata": {},
   "outputs": [],
   "source": [
    "# import game\n",
    "# game.start_game()"
   ]
  },
  {
   "cell_type": "code",
   "execution_count": 16,
   "id": "21ae5a78",
   "metadata": {},
   "outputs": [
    {
     "name": "stdout",
     "output_type": "stream",
     "text": [
      "Overwriting mypoem.txt\n"
     ]
    }
   ],
   "source": [
    "%%writefile mypoem.txt\n",
    "구름에\n",
    "달 가듯이\n",
    "가는 \n",
    "나그네"
   ]
  },
  {
   "cell_type": "code",
   "execution_count": null,
   "id": "0189946e",
   "metadata": {},
   "outputs": [],
   "source": [
    "# f=None\n",
    "\n",
    "try:\n",
    "    f = open(\"mypoem..txt\",\"r\",encoding=\"utf-8\")\n",
    "    lines = f.readlines()\n",
    "    print(\"lines\",lines)\n",
    "    f.close()\n",
    "except FileNotFoundError as e:\n",
    "    print(e)\n",
    "except UnicodeDecodeError:\n",
    "    print(\"encoding 파라미터를 지정하세요\")\n",
    "else:\n",
    "    print(\"종료\")\n",
    "finally:\n",
    "    if f != None: # 파일을 읽은 경우 자원 반납\n",
    "        f.close()\n",
    "# else:\n",
    "#     lines = f.readlines()\n",
    "#     print(\"lines\",lines)\n",
    "#     f.close() \n",
    "# -> 이경우에 unicode 오류를 잡을 수 없다."
   ]
  },
  {
   "cell_type": "code",
   "execution_count": 21,
   "id": "2c45a20a",
   "metadata": {},
   "outputs": [],
   "source": [
    "open?"
   ]
  },
  {
   "cell_type": "code",
   "execution_count": 5,
   "id": "9a5416fb",
   "metadata": {},
   "outputs": [
    {
     "name": "stdout",
     "output_type": "stream",
     "text": [
      "*** 구구단 시작 ***\n",
      "구구단 오류: error msg : 2~9단만 가능\n"
     ]
    }
   ],
   "source": [
    "class OperException(Exception):\n",
    "    def __init__(self,msg):\n",
    "        self.msg = msg\n",
    "    def __str__(self):\n",
    "        return \"error msg : {}\".format(self.msg)\n",
    "    \n",
    "def printGugudan(dan):\n",
    "    if dan < 2 or dan > 9:\n",
    "        raise OperException(\"2~9단만 가능\")\n",
    "    for i in range(1,10):\n",
    "        print(\"{0}*{1}={2}\".format(dan,i,dan*i))\n",
    "        \n",
    "try:\n",
    "    print(\"*** 구구단 시작 ***\")\n",
    "    printGugudan(1)\n",
    "    print(\"*** 구구단 끝 ***\")\n",
    "except OperException as e:\n",
    "    print(\"구구단 오류:\",e)"
   ]
  },
  {
   "cell_type": "code",
   "execution_count": 57,
   "id": "f7b213ad",
   "metadata": {},
   "outputs": [
    {
     "name": "stdout",
     "output_type": "stream",
     "text": [
      "['구름에\\n', '달 가듯이\\n', '가는 \\n', '나그네\\n']\n",
      "['구름에', '달 가듯이', '가는', '나그네']\n",
      "구름에\n",
      "달 가듯이\n",
      "가는\n",
      "나그네\n"
     ]
    }
   ],
   "source": [
    "f = open(\"mypoem.txt\",\"r\",encoding=\"utf-8\")\n",
    "lines = f.readlines()\n",
    "f.close()\n",
    "\n",
    "print(lines)\n",
    "\n",
    "lines = [s.strip() for s in lines]\n",
    "print(lines)\n",
    "\n",
    "for s in lines:\n",
    "    print(s)\n"
   ]
  },
  {
   "cell_type": "code",
   "execution_count": 61,
   "id": "e65bee91",
   "metadata": {},
   "outputs": [
    {
     "name": "stdout",
     "output_type": "stream",
     "text": [
      "['구름에\\n', '달 가듯이\\n', '가는 \\n', '나그네\\n']\n"
     ]
    }
   ],
   "source": [
    "with open(\"mypoem.txt\",\"r\",encoding=\"utf-8\") as f:\n",
    "    print(f.readlines())"
   ]
  }
 ],
 "metadata": {
  "kernelspec": {
   "display_name": "Python 3.9.12 ('base')",
   "language": "python",
   "name": "python3"
  },
  "language_info": {
   "codemirror_mode": {
    "name": "ipython",
    "version": 3
   },
   "file_extension": ".py",
   "mimetype": "text/x-python",
   "name": "python",
   "nbconvert_exporter": "python",
   "pygments_lexer": "ipython3",
   "version": "3.9.12"
  },
  "vscode": {
   "interpreter": {
    "hash": "2043299c89c8cd0b4d1a6f5cf4529bd58e6a4e0fe3181a25e0d328c821cdc5c5"
   }
  }
 },
 "nbformat": 4,
 "nbformat_minor": 5
}
