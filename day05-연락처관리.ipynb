{
 "cells": [
  {
   "cell_type": "code",
   "execution_count": 1,
   "id": "9d1a53d8",
   "metadata": {},
   "outputs": [
    {
     "data": {
      "text/plain": [
       "'\\n프로그래밍시 개발 요령\\n\\n1. 기능분할\\n    - 데이터 관리 모듈\\n        - 데이터 정의\\n        - 데이터 관리 객체 (CRUD)\\n    - UI 모듈\\n    - IO 모듈\\n        - 네트워크\\n        - 파일\\n'"
      ]
     },
     "execution_count": 1,
     "metadata": {},
     "output_type": "execute_result"
    }
   ],
   "source": [
    "\"\"\"\n",
    "프로그래밍시 개발 요령\n",
    "\n",
    "1. 기능분할\n",
    "    - 데이터 관리 모듈\n",
    "        - 데이터 정의\n",
    "        - 데이터 관리 객체 (CRUD)\n",
    "    - UI 모듈\n",
    "    - IO 모듈\n",
    "        - 네트워크\n",
    "        - 파일\n",
    "\"\"\""
   ]
  },
  {
   "cell_type": "code",
   "execution_count": 17,
   "id": "5b70919e",
   "metadata": {},
   "outputs": [
    {
     "name": "stdout",
     "output_type": "stream",
     "text": [
      "홍길동, 010-1111-2222\n",
      "2536629038000\n",
      "홍, 010-1111-2222, hong@a.com, 친구\n",
      "2536629037760\n"
     ]
    }
   ],
   "source": [
    "# 데이터 정의\n",
    "# 관리할 대상 - 연락처\n",
    "# 연락처 속성 \n",
    "#     - 이름 : 문자열(필), \n",
    "#       전화번호 : 문자열(필), \n",
    "#       이메일 : 문자열(선), \n",
    "#       설명 : 문자열(선)\n",
    "\n",
    "class Contact:\n",
    "    def __init__(self, name, tel, email=None, note=None):\n",
    "        self.name = name\n",
    "        self.tel = tel\n",
    "        self.email = email\n",
    "        self.note = note\n",
    "        \n",
    "    def __str__(self):\n",
    "        if self.email == None or self.note == None:\n",
    "            return f\"{self.name}, {self.tel}\"\n",
    "        return f\"{self.name}, {self.tel}, {self.email}, {self.note}\"\n",
    "\n",
    "c = Contact(\"홍길동\", \"010-1111-2222\")\n",
    "print(c)\n",
    "\n",
    "c = Contact(\"홍\", \"010-1111-2222\", \"hong@a.com\", \"친구\")\n",
    "print(c)"
   ]
  },
  {
   "cell_type": "code",
   "execution_count": 76,
   "id": "d7b050d6",
   "metadata": {},
   "outputs": [
    {
     "name": "stdout",
     "output_type": "stream",
     "text": [
      "2\n",
      "['홍길동', '박']\n",
      "[]\n"
     ]
    }
   ],
   "source": [
    "# 데이터 관리자 객체 (Manager)\n",
    "class ContactManager:\n",
    "    def __init__(self):\n",
    "        self.contacts = []\n",
    "    \n",
    "    def add(self, c):\n",
    "        self.contacts.append(c)\n",
    "        \n",
    "    def count(self):\n",
    "        return len(self.contacts)\n",
    "    \n",
    "    def list(self, target=\"name\"):\n",
    "        ans = []\n",
    "        for c in self.contacts:\n",
    "            if target ==\"name\":\n",
    "                ans.append(c.name)\n",
    "            elif target == \"tel\":\n",
    "                ans.append(c.tel)\n",
    "        return ans\n",
    "        \n",
    "    def search(self, target=\"name\", keyword=None):\n",
    "        ans = []\n",
    "        for c in self.contacts:\n",
    "            if target == \"name\":\n",
    "                if keyword in c.name:\n",
    "                    print(\"aa\")\n",
    "                    ans.append(c.name)\n",
    "            elif target == \"tel\":\n",
    "                if keyword in c.tel:\n",
    "                    ans.append(c.tel)\n",
    "        return ans\n",
    "    \n",
    "    def delete(self, target=\"name\", keyword=None):\n",
    "        for c in self.contacts:\n",
    "            if target == \"name\":\n",
    "                if keyword in c.name:\n",
    "                    self.contacts.remove(c)\n",
    "            elif target == \"tel\":\n",
    "                if keyword in c.tel:\n",
    "                    self.contacts.remove(c)\n",
    "        \n",
    "        \n",
    "    \n",
    "mgr = ContactManager()\n",
    "c = Contact(\"홍길동\", \"010-1111-2222\")\n",
    "mgr.add(c) #등록\n",
    "\n",
    "c = Contact(\"박\", \"010-1111-2222\", \"hong@a.com\", \"친구\")\n",
    "mgr.add(c) #등록\n",
    "\n",
    "print(mgr.count())\n",
    "\n",
    "ans = mgr.list(target=\"name\")\n",
    "print(ans)\n",
    "\n",
    "res = mgr.search(\"홍길동\")\n",
    "print(res)"
   ]
  },
  {
   "cell_type": "code",
   "execution_count": 77,
   "id": "566d8725",
   "metadata": {},
   "outputs": [
    {
     "name": "stdout",
     "output_type": "stream",
     "text": [
      "4\n",
      "False\n"
     ]
    }
   ],
   "source": [
    "\"010-111-2222\".index(\"11\")\n",
    "print(\"010-111-2222\".find(\"11\"))\n",
    "print(\"911\" in \"010-111-2222\")"
   ]
  },
  {
   "cell_type": "code",
   "execution_count": null,
   "id": "2f771191",
   "metadata": {},
   "outputs": [
    {
     "name": "stdout",
     "output_type": "stream",
     "text": [
      "* 연락처 관리 *\n",
      "등록갯수 : 0개\n",
      "(1) 등록 (2) 목록 (3) 검색 (9) 종료\n",
      "메뉴 번호를 입력: 7\n",
      "* 연락처 관리 *\n",
      "등록갯수 : 0개\n",
      "(1) 등록 (2) 목록 (3) 검색 (9) 종료\n",
      "메뉴 번호를 입력: ddd\n",
      "* 연락처 관리 *\n",
      "등록갯수 : 0개\n",
      "(1) 등록 (2) 목록 (3) 검색 (9) 종료\n"
     ]
    }
   ],
   "source": [
    "\"\"\"\n",
    "입출력 설계\n",
    "* 연락처 관리 *\n",
    "등록갯수 : xx개\n",
    "(1)등록 (2)목록 (3)검색 (4)종료\n",
    "\"\"\"\n",
    "\n",
    "# 클래스 내의 함수부를때 앞에 self 붙여준다\n",
    "\n",
    "class ContactUi:\n",
    "    def __init__(self):\n",
    "        self.mgr = ContactManager()\n",
    "        \n",
    "    def start(self):\n",
    "        while True:\n",
    "            self.show_main_menu()\n",
    "            try:\n",
    "                ans = int(input(\"메뉴 번호를 입력: \"))\n",
    "            except:\n",
    "                continue\n",
    "                \n",
    "            if ans == 9: \n",
    "                print(\"*** 프로그램 종료 ***\")\n",
    "                break\n",
    "            if ans == 1:\n",
    "                self.ui_regist()\n",
    "                \n",
    "#             elif ans == 2:\n",
    "#                 ui_show_list()\n",
    "#             elif ans == 3:\n",
    "#                 ui_find_contact()\n",
    "\n",
    "\n",
    "    def ui_regist(self):\n",
    "        print(\"** 연락처 등록 **\")\n",
    "        name = input(\"등록할 이름 입력: \")\n",
    "        tel = input(\"등록할 전화번호 입력: \")\n",
    "        email = input(\"등록할 이메일 입력: \")\n",
    "        note = input(\"등록할 설명 입력: \")\n",
    "        c = Contact(name, tel, email, note)\n",
    "        self.mgr.add(c)\n",
    "            \n",
    "    def show_main_menu(self):\n",
    "        print(\"* 연락처 관리 *\")\n",
    "        print(f\"등록갯수 : {self.mgr.count()}개\")\n",
    "        print(\"(1) 등록 (2) 목록 (3) 검색 (9) 종료\")\n",
    "\n",
    "ui = ContactUi()\n",
    "ui.start()"
   ]
  }
 ],
 "metadata": {
  "kernelspec": {
   "display_name": "Python 3 (ipykernel)",
   "language": "python",
   "name": "python3"
  },
  "language_info": {
   "codemirror_mode": {
    "name": "ipython",
    "version": 3
   },
   "file_extension": ".py",
   "mimetype": "text/x-python",
   "name": "python",
   "nbconvert_exporter": "python",
   "pygments_lexer": "ipython3",
   "version": "3.9.12"
  }
 },
 "nbformat": 4,
 "nbformat_minor": 5
}
