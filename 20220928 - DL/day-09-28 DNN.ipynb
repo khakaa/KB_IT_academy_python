{
 "cells": [
  {
   "cell_type": "code",
   "execution_count": null,
   "metadata": {
    "id": "7Gpoy8a6IvPm"
   },
   "outputs": [],
   "source": [
    "# 타이타닉 생존율 예측\n",
    "# 데이터 로딩\n",
    "import seaborn as sns\n",
    "ti = sns.load_dataset('titanic')\n",
    "\n",
    "# X, y 정의\n",
    "# X의 결측치 처리\n",
    "ti['age'] = ti['age'].fillna(ti['age'].mean())\n",
    "ti['sex'] = ti['sex'].replace({'female' : 1, 'male' : 0})\n",
    "ti['embarked'] = ti['embarked'].fillna(0)\n",
    "ti['embarked'] = ti['embarked'].replace({'S' : 1, 'C' : 2, 'Q' : 3})\n",
    "\n",
    "X = ti[['sex','sibsp', 'parch', 'embarked']]\n",
    "y = ti['survived']\n",
    "\n",
    "# 훈련, 테스트데이터 분리\n",
    "from sklearn.model_selection import train_test_split\n",
    "\n",
    "X_train, X_test, y_train, y_test = train_test_split(\n",
    "    X,\n",
    "    y,\n",
    "    random_state=100, # 난수생성 기준값 \n",
    "    stratify = y      # 종별 비율의 기준 데이터\n",
    "    # y데이터를 기준으로 비율을 맞춤\n",
    ")\n",
    "\n",
    "# 모델 생성\n",
    "from tensorflow.keras import models, layers\n",
    "model = models.Sequential()\n",
    "model.add(layers.Dense(4, activation='relu', input_shape=(X_train.shape[1],)))\n",
    "model.add(layers.Dense(4, activation='relu'))\n",
    "model.add(layers.Dense(1, activation='sigmod')) # 회귀는 출력이 1 (값이 하나여야하기 때문)\n",
    "model.compile(loss='binary_crossentropy', optimizer='Adam', metrics=['accuracy'])\n",
    "\n",
    "# batch_size : 한번에 처리하는 데이터 갯수\n",
    "# 각 단계의 loss, metrics 값을 저장\n",
    "history = model.fit(X_train, y_train ,epochs =5000, verbose=0)\n",
    "\n",
    "# test데이터로 성능 검사 (머신러닝의 score와 같은 기능)\n",
    "model.evaluate(X_test, y_test)\n",
    "# 모델 훈련"
   ]
  },
  {
   "cell_type": "code",
   "execution_count": 1,
   "metadata": {
    "colab": {
     "base_uri": "https://localhost:8080/"
    },
    "executionInfo": {
     "elapsed": 133557,
     "status": "ok",
     "timestamp": 1664338252007,
     "user": {
      "displayName": "박하린",
      "userId": "16200814558012668494"
     },
     "user_tz": -540
    },
    "id": "tWWE6-rVJdrf",
    "outputId": "fc0bab10-9e2f-4955-f67d-5655c743502c"
   },
   "outputs": [
    {
     "metadata": {
      "tags": null
     },
     "name": "stdout",
     "output_type": "stream",
     "text": [
      "Index(['survived', 'pclass', 'sex', 'age', 'sibsp', 'parch', 'fare',\n",
      "       'embarked', 'class', 'who', 'adult_male', 'deck', 'embark_town',\n",
      "       'alive', 'alone'],\n",
      "      dtype='object')\n"
     ]
    },
    {
     "metadata": {
      "tags": null
     },
     "name": "stderr",
     "output_type": "stream",
     "text": [
      "/usr/local/lib/python3.7/dist-packages/ipykernel_launcher.py:10: SettingWithCopyWarning: \n",
      "A value is trying to be set on a copy of a slice from a DataFrame.\n",
      "Try using .loc[row_indexer,col_indexer] = value instead\n",
      "\n",
      "See the caveats in the documentation: https://pandas.pydata.org/pandas-docs/stable/user_guide/indexing.html#returning-a-view-versus-a-copy\n",
      "  # Remove the CWD from sys.path while we load stuff.\n"
     ]
    },
    {
     "name": "stdout",
     "output_type": "stream",
     "text": [
      "7/7 [==============================] - 0s 3ms/step - loss: 0.5904 - accuracy: 0.6951\n"
     ]
    },
    {
     "data": {
      "text/plain": [
       "[0.5904212594032288, 0.695067286491394]"
      ]
     },
     "execution_count": 1,
     "metadata": {},
     "output_type": "execute_result"
    }
   ],
   "source": [
    "# 타이타닉 생존율 예측\n",
    "# 데이터로딩\n",
    "import seaborn as sns\n",
    "ti = sns.load_dataset(\"titanic\")\n",
    "print(ti.columns)\n",
    "# X,y 정의\n",
    "y = ti[\"survived\"]\n",
    "X = ti[[\"pclass\",\"age\",\"sibsp\",\"parch\"]]\n",
    "# X의 결측치 처리\n",
    "X[\"age\"] = X[\"age\"].fillna(X[\"age\"].mean())\n",
    "# X의 표준화(평균을 0) / 정규화 (0~1)\n",
    "# 표준화 : 각 칼럼들이 독립적인 경우\n",
    "# 정규화 : 모든 칼럼이 동일한 의미의 정보를 가지는 경우 (픽셀정보)\n",
    "# 훈련, 테스트데이터 분리\n",
    "from sklearn.model_selection import train_test_split\n",
    "x_tr, x_te, y_tr, y_te = train_test_split(\n",
    "    X, y, random_state=100, stratify=y\n",
    ")\n",
    "# 모델 생성\n",
    "import tensorflow as tf\n",
    "model = tf.keras.Sequential([\n",
    "    tf.keras.layers.Dense(4, activation='relu', input_shape=(x_tr.shape[1],)),\n",
    "    tf.keras.layers.Dense(4, activation='relu'),\n",
    "    tf.keras.layers.Dense(1, activation='sigmoid')\n",
    "])\n",
    "# model.summary()\n",
    "model.compile(loss='binary_crossentropy', optimizer='Adam', metrics=['accuracy'])\n",
    "# 모델 훈련\n",
    "model.fit(x_tr, y_tr, epochs=5000, verbose=0)\n",
    "model.evaluate(x_te, y_te)\n",
    "# "
   ]
  },
  {
   "cell_type": "code",
   "execution_count": null,
   "metadata": {
    "id": "2LBARJVuNmvW"
   },
   "outputs": [],
   "source": []
  }
 ],
 "metadata": {
  "accelerator": "GPU",
  "colab": {
   "authorship_tag": "ABX9TyO3QCFfLnnphvP/4CI3nQVC",
   "collapsed_sections": [],
   "provenance": []
  },
  "kernelspec": {
   "display_name": "Python 3 (ipykernel)",
   "language": "python",
   "name": "python3"
  },
  "language_info": {
   "codemirror_mode": {
    "name": "ipython",
    "version": 3
   },
   "file_extension": ".py",
   "mimetype": "text/x-python",
   "name": "python",
   "nbconvert_exporter": "python",
   "pygments_lexer": "ipython3",
   "version": "3.9.7"
  }
 },
 "nbformat": 4,
 "nbformat_minor": 1
}
