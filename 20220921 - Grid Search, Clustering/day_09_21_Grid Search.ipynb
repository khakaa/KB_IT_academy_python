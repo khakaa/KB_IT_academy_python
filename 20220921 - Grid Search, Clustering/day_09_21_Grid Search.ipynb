{
 "cells": [
  {
   "cell_type": "markdown",
   "id": "215b8119",
   "metadata": {},
   "source": [
    "# Grid Search\n",
    "- 모델에 가장 적합한 하이퍼 파라미터를 찾기 위해서 **반드시** 사용\n",
    "- Hyper Parameter : 모델의 외적인 요소로 사용자에 의해 결정되는 값\n",
    "- Parameter : 모델의 내적인 요소로 학습을 통해 결정되는 값\n",
    "\n",
    "<br/>\n",
    "\n",
    "- 최적의 Hyper Paramter 튜닝을 위해 실험 가능한 모든 조합을 학습하고 평가 필요\n",
    "    - n_estimators : 트리모델의 트리 갯수\n",
    "    - learning_rate : 경사하강법에서 데이터들의 최적의 선을 얼마만큼 단위로 할것이냐 \n",
    "        - 기울기의 변화량\n",
    "        - 0.1 ~ 0.01 정도로 아주 작게준다. \n",
    "    - min_samples_leaf, max_features\n",
    "- max_depth : 트리 구조에서 성능에 가장 영향을 줌"
   ]
  },
  {
   "cell_type": "markdown",
   "id": "2bca2c49",
   "metadata": {},
   "source": [
    "# 교차 검증(Cross Validation)\n",
    "- 고정적인 학습 데이터 세트로 모델을 만드는 경우 과대적합이 발생할 수 있음\n",
    "\n",
    "# K-겹 교차 검증(K-Fold Cross Validation)\n",
    "- 데이터를 동일한 개수인 K개의 Fold로 분할\n",
    "    - K번 학습을 진행하며 매 학습마다 사용되는 Fold를 변경하면서 학습 및 평가\n",
    "    - scikit-learn의 model_Selection.KFold를 이용(K - 여러번, Fold - 접어서, 여러번 나눠서라는 뜻)\n",
    "- 교차 검증 분할 방법\n",
    "    - model은 테스트 하고싶은 모델 객체를 만들어서\n",
    "    - cv는 몇개로 쪼갤것인지 정해준다.\n",
    "    - cross_val_score함수를 이용하면 교차 검증으로 점수 평가\n",
    "    - cross_val_predict함수를 이용하면 교차 검증된 예측값 생성"
   ]
  },
  {
   "cell_type": "code",
   "execution_count": 1,
   "id": "2f948e24",
   "metadata": {},
   "outputs": [],
   "source": [
    "from sklearn.datasets import load_digits\n",
    "digits = load_digits()\n",
    "\n",
    "y = digits['target']\n",
    "x = digits['data']"
   ]
  },
  {
   "cell_type": "code",
   "execution_count": 2,
   "id": "9ff33fbe",
   "metadata": {},
   "outputs": [
    {
     "data": {
      "text/plain": [
       "array([0.94722222, 0.95555556, 0.96657382, 0.98050139, 0.9637883 ])"
      ]
     },
     "execution_count": 2,
     "metadata": {},
     "output_type": "execute_result"
    }
   ],
   "source": [
    "# KNN 모델링\n",
    "from sklearn.neighbors import KNeighborsClassifier\n",
    "model = KNeighborsClassifier()\n",
    "\n",
    "# 데이터 분할 하지 않아도 Cross Validation이 쪼개준다.\n",
    "from sklearn.model_selection import cross_val_score\n",
    "cross_val_score(model, x, y, cv=5)"
   ]
  },
  {
   "cell_type": "code",
   "execution_count": 3,
   "id": "1eaa9c57",
   "metadata": {},
   "outputs": [],
   "source": [
    "# Grid Search\n",
    "from sklearn.model_selection import GridSearchCV\n",
    "\n",
    "params = {\n",
    "    'n_neighbors' : range(1, 10)\n",
    "}\n",
    "\n",
    "gs = GridSearchCV(model, params).fit(x, y)"
   ]
  },
  {
   "cell_type": "code",
   "execution_count": 7,
   "id": "0d2d93e1",
   "metadata": {},
   "outputs": [
    {
     "data": {
      "text/html": [
       "<div>\n",
       "<style scoped>\n",
       "    .dataframe tbody tr th:only-of-type {\n",
       "        vertical-align: middle;\n",
       "    }\n",
       "\n",
       "    .dataframe tbody tr th {\n",
       "        vertical-align: top;\n",
       "    }\n",
       "\n",
       "    .dataframe thead th {\n",
       "        text-align: right;\n",
       "    }\n",
       "</style>\n",
       "<table border=\"1\" class=\"dataframe\">\n",
       "  <thead>\n",
       "    <tr style=\"text-align: right;\">\n",
       "      <th></th>\n",
       "      <th>mean_fit_time</th>\n",
       "      <th>std_fit_time</th>\n",
       "      <th>mean_score_time</th>\n",
       "      <th>std_score_time</th>\n",
       "      <th>param_n_neighbors</th>\n",
       "      <th>params</th>\n",
       "      <th>split0_test_score</th>\n",
       "      <th>split1_test_score</th>\n",
       "      <th>split2_test_score</th>\n",
       "      <th>split3_test_score</th>\n",
       "      <th>split4_test_score</th>\n",
       "      <th>mean_test_score</th>\n",
       "      <th>std_test_score</th>\n",
       "      <th>rank_test_score</th>\n",
       "    </tr>\n",
       "  </thead>\n",
       "  <tbody>\n",
       "    <tr>\n",
       "      <th>0</th>\n",
       "      <td>0.000876</td>\n",
       "      <td>0.000379</td>\n",
       "      <td>0.017084</td>\n",
       "      <td>0.005656</td>\n",
       "      <td>1</td>\n",
       "      <td>{'n_neighbors': 1}</td>\n",
       "      <td>0.961111</td>\n",
       "      <td>0.952778</td>\n",
       "      <td>0.966574</td>\n",
       "      <td>0.986072</td>\n",
       "      <td>0.955432</td>\n",
       "      <td>0.964393</td>\n",
       "      <td>0.011838</td>\n",
       "      <td>3</td>\n",
       "    </tr>\n",
       "    <tr>\n",
       "      <th>1</th>\n",
       "      <td>0.000413</td>\n",
       "      <td>0.000094</td>\n",
       "      <td>0.012427</td>\n",
       "      <td>0.002052</td>\n",
       "      <td>2</td>\n",
       "      <td>{'n_neighbors': 2}</td>\n",
       "      <td>0.961111</td>\n",
       "      <td>0.966667</td>\n",
       "      <td>0.969359</td>\n",
       "      <td>0.977716</td>\n",
       "      <td>0.961003</td>\n",
       "      <td>0.967171</td>\n",
       "      <td>0.006181</td>\n",
       "      <td>1</td>\n",
       "    </tr>\n",
       "    <tr>\n",
       "      <th>2</th>\n",
       "      <td>0.000356</td>\n",
       "      <td>0.000008</td>\n",
       "      <td>0.012341</td>\n",
       "      <td>0.000419</td>\n",
       "      <td>3</td>\n",
       "      <td>{'n_neighbors': 3}</td>\n",
       "      <td>0.955556</td>\n",
       "      <td>0.958333</td>\n",
       "      <td>0.966574</td>\n",
       "      <td>0.986072</td>\n",
       "      <td>0.966574</td>\n",
       "      <td>0.966622</td>\n",
       "      <td>0.010672</td>\n",
       "      <td>2</td>\n",
       "    </tr>\n",
       "    <tr>\n",
       "      <th>3</th>\n",
       "      <td>0.000366</td>\n",
       "      <td>0.000008</td>\n",
       "      <td>0.014077</td>\n",
       "      <td>0.000358</td>\n",
       "      <td>4</td>\n",
       "      <td>{'n_neighbors': 4}</td>\n",
       "      <td>0.947222</td>\n",
       "      <td>0.958333</td>\n",
       "      <td>0.966574</td>\n",
       "      <td>0.980501</td>\n",
       "      <td>0.966574</td>\n",
       "      <td>0.963841</td>\n",
       "      <td>0.010946</td>\n",
       "      <td>4</td>\n",
       "    </tr>\n",
       "    <tr>\n",
       "      <th>4</th>\n",
       "      <td>0.000365</td>\n",
       "      <td>0.000012</td>\n",
       "      <td>0.013697</td>\n",
       "      <td>0.000645</td>\n",
       "      <td>5</td>\n",
       "      <td>{'n_neighbors': 5}</td>\n",
       "      <td>0.947222</td>\n",
       "      <td>0.955556</td>\n",
       "      <td>0.966574</td>\n",
       "      <td>0.980501</td>\n",
       "      <td>0.963788</td>\n",
       "      <td>0.962728</td>\n",
       "      <td>0.011169</td>\n",
       "      <td>5</td>\n",
       "    </tr>\n",
       "    <tr>\n",
       "      <th>5</th>\n",
       "      <td>0.000366</td>\n",
       "      <td>0.000007</td>\n",
       "      <td>0.014107</td>\n",
       "      <td>0.000240</td>\n",
       "      <td>6</td>\n",
       "      <td>{'n_neighbors': 6}</td>\n",
       "      <td>0.944444</td>\n",
       "      <td>0.958333</td>\n",
       "      <td>0.966574</td>\n",
       "      <td>0.974930</td>\n",
       "      <td>0.952646</td>\n",
       "      <td>0.959386</td>\n",
       "      <td>0.010612</td>\n",
       "      <td>7</td>\n",
       "    </tr>\n",
       "    <tr>\n",
       "      <th>6</th>\n",
       "      <td>0.000384</td>\n",
       "      <td>0.000023</td>\n",
       "      <td>0.013606</td>\n",
       "      <td>0.000174</td>\n",
       "      <td>7</td>\n",
       "      <td>{'n_neighbors': 7}</td>\n",
       "      <td>0.936111</td>\n",
       "      <td>0.961111</td>\n",
       "      <td>0.969359</td>\n",
       "      <td>0.980501</td>\n",
       "      <td>0.952646</td>\n",
       "      <td>0.959946</td>\n",
       "      <td>0.015059</td>\n",
       "      <td>6</td>\n",
       "    </tr>\n",
       "    <tr>\n",
       "      <th>7</th>\n",
       "      <td>0.000387</td>\n",
       "      <td>0.000033</td>\n",
       "      <td>0.013810</td>\n",
       "      <td>0.000531</td>\n",
       "      <td>8</td>\n",
       "      <td>{'n_neighbors': 8}</td>\n",
       "      <td>0.936111</td>\n",
       "      <td>0.958333</td>\n",
       "      <td>0.969359</td>\n",
       "      <td>0.977716</td>\n",
       "      <td>0.949861</td>\n",
       "      <td>0.958276</td>\n",
       "      <td>0.014580</td>\n",
       "      <td>8</td>\n",
       "    </tr>\n",
       "    <tr>\n",
       "      <th>8</th>\n",
       "      <td>0.000378</td>\n",
       "      <td>0.000004</td>\n",
       "      <td>0.013885</td>\n",
       "      <td>0.000617</td>\n",
       "      <td>9</td>\n",
       "      <td>{'n_neighbors': 9}</td>\n",
       "      <td>0.930556</td>\n",
       "      <td>0.952778</td>\n",
       "      <td>0.972145</td>\n",
       "      <td>0.977716</td>\n",
       "      <td>0.949861</td>\n",
       "      <td>0.956611</td>\n",
       "      <td>0.016887</td>\n",
       "      <td>9</td>\n",
       "    </tr>\n",
       "  </tbody>\n",
       "</table>\n",
       "</div>"
      ],
      "text/plain": [
       "   mean_fit_time  std_fit_time  mean_score_time  std_score_time  \\\n",
       "0       0.000876      0.000379         0.017084        0.005656   \n",
       "1       0.000413      0.000094         0.012427        0.002052   \n",
       "2       0.000356      0.000008         0.012341        0.000419   \n",
       "3       0.000366      0.000008         0.014077        0.000358   \n",
       "4       0.000365      0.000012         0.013697        0.000645   \n",
       "5       0.000366      0.000007         0.014107        0.000240   \n",
       "6       0.000384      0.000023         0.013606        0.000174   \n",
       "7       0.000387      0.000033         0.013810        0.000531   \n",
       "8       0.000378      0.000004         0.013885        0.000617   \n",
       "\n",
       "  param_n_neighbors              params  split0_test_score  split1_test_score  \\\n",
       "0                 1  {'n_neighbors': 1}           0.961111           0.952778   \n",
       "1                 2  {'n_neighbors': 2}           0.961111           0.966667   \n",
       "2                 3  {'n_neighbors': 3}           0.955556           0.958333   \n",
       "3                 4  {'n_neighbors': 4}           0.947222           0.958333   \n",
       "4                 5  {'n_neighbors': 5}           0.947222           0.955556   \n",
       "5                 6  {'n_neighbors': 6}           0.944444           0.958333   \n",
       "6                 7  {'n_neighbors': 7}           0.936111           0.961111   \n",
       "7                 8  {'n_neighbors': 8}           0.936111           0.958333   \n",
       "8                 9  {'n_neighbors': 9}           0.930556           0.952778   \n",
       "\n",
       "   split2_test_score  split3_test_score  split4_test_score  mean_test_score  \\\n",
       "0           0.966574           0.986072           0.955432         0.964393   \n",
       "1           0.969359           0.977716           0.961003         0.967171   \n",
       "2           0.966574           0.986072           0.966574         0.966622   \n",
       "3           0.966574           0.980501           0.966574         0.963841   \n",
       "4           0.966574           0.980501           0.963788         0.962728   \n",
       "5           0.966574           0.974930           0.952646         0.959386   \n",
       "6           0.969359           0.980501           0.952646         0.959946   \n",
       "7           0.969359           0.977716           0.949861         0.958276   \n",
       "8           0.972145           0.977716           0.949861         0.956611   \n",
       "\n",
       "   std_test_score  rank_test_score  \n",
       "0        0.011838                3  \n",
       "1        0.006181                1  \n",
       "2        0.010672                2  \n",
       "3        0.010946                4  \n",
       "4        0.011169                5  \n",
       "5        0.010612                7  \n",
       "6        0.015059                6  \n",
       "7        0.014580                8  \n",
       "8        0.016887                9  "
      ]
     },
     "execution_count": 7,
     "metadata": {},
     "output_type": "execute_result"
    }
   ],
   "source": [
    "# 10번 돌린 결과\n",
    "import pandas as pd\n",
    "\n",
    "pd.DataFrame(gs.cv_results_)"
   ]
  },
  {
   "cell_type": "code",
   "execution_count": 8,
   "id": "cb813efe",
   "metadata": {},
   "outputs": [
    {
     "data": {
      "text/plain": [
       "0.9671711544413494"
      ]
     },
     "execution_count": 8,
     "metadata": {},
     "output_type": "execute_result"
    }
   ],
   "source": [
    "gs.best_score_"
   ]
  },
  {
   "cell_type": "code",
   "execution_count": 9,
   "id": "bfa9f6d6",
   "metadata": {},
   "outputs": [
    {
     "data": {
      "text/plain": [
       "{'n_neighbors': 2}"
      ]
     },
     "execution_count": 9,
     "metadata": {},
     "output_type": "execute_result"
    }
   ],
   "source": [
    "gs.best_params_"
   ]
  },
  {
   "cell_type": "code",
   "execution_count": 10,
   "id": "5acac8a7",
   "metadata": {},
   "outputs": [
    {
     "data": {
      "text/plain": [
       "KNeighborsClassifier(n_neighbors=2)"
      ]
     },
     "execution_count": 10,
     "metadata": {},
     "output_type": "execute_result"
    }
   ],
   "source": [
    "gs.best_estimator_"
   ]
  },
  {
   "cell_type": "markdown",
   "id": "d0c95d64",
   "metadata": {},
   "source": [
    "# XGBOOST\n",
    "- Decision Tree 기반 앙상블 머신 러닝 알고리즘"
   ]
  },
  {
   "cell_type": "code",
   "execution_count": 26,
   "id": "99f5f9e8",
   "metadata": {},
   "outputs": [
    {
     "name": "stdout",
     "output_type": "stream",
     "text": [
      "Collecting package metadata (current_repodata.json): done\n",
      "Solving environment: done\n",
      "\n",
      "## Package Plan ##\n",
      "\n",
      "  environment location: /Users/harin/opt/anaconda3\n",
      "\n",
      "  added / updated specs:\n",
      "    - py-xgboost\n",
      "\n",
      "\n",
      "The following packages will be downloaded:\n",
      "\n",
      "    package                    |            build\n",
      "    ---------------------------|-----------------\n",
      "    _py-xgboost-mutex-2.0      |            cpu_0           8 KB\n",
      "    conda-4.14.0               |   py39hecd8cb5_0         925 KB\n",
      "    libxgboost-1.5.0           |       he9d5cce_2         1.2 MB\n",
      "    py-xgboost-1.5.0           |   py39hecd8cb5_2         154 KB\n",
      "    ------------------------------------------------------------\n",
      "                                           Total:         2.3 MB\n",
      "\n",
      "The following NEW packages will be INSTALLED:\n",
      "\n",
      "  _py-xgboost-mutex  pkgs/main/osx-64::_py-xgboost-mutex-2.0-cpu_0\n",
      "  libxgboost         pkgs/main/osx-64::libxgboost-1.5.0-he9d5cce_2\n",
      "  py-xgboost         pkgs/main/osx-64::py-xgboost-1.5.0-py39hecd8cb5_2\n",
      "\n",
      "The following packages will be UPDATED:\n",
      "\n",
      "  conda                               4.10.3-py39hecd8cb5_0 --> 4.14.0-py39hecd8cb5_0\n",
      "\n",
      "\n",
      "\n",
      "Downloading and Extracting Packages\n",
      "py-xgboost-1.5.0     | 154 KB    | ##################################### | 100% \n",
      "_py-xgboost-mutex-2. | 8 KB      | ##################################### | 100% \n",
      "conda-4.14.0         | 925 KB    | ##################################### | 100% \n",
      "libxgboost-1.5.0     | 1.2 MB    | ##################################### | 100% \n",
      "Preparing transaction: done\n",
      "Verifying transaction: done\n",
      "Executing transaction: done\n",
      "\n",
      "Note: you may need to restart the kernel to use updated packages.\n"
     ]
    }
   ],
   "source": [
    "conda install py-xgboost"
   ]
  },
  {
   "cell_type": "code",
   "execution_count": 29,
   "id": "df07a602",
   "metadata": {},
   "outputs": [
    {
     "data": {
      "text/plain": [
       "(0.999999003030776, 0.7476326752660457)"
      ]
     },
     "execution_count": 29,
     "metadata": {},
     "output_type": "execute_result"
    }
   ],
   "source": [
    "import warnings\n",
    "warnings.filterwarnings('ignore')\n",
    "\n",
    "import xgboost as xgb\n",
    "from sklearn.datasets import load_boston\n",
    "\n",
    "boston = load_boston()\n",
    "\n",
    "x = boston['data']\n",
    "y = boston['target']\n",
    "\n",
    "from sklearn.neighbors import KNeighborsClassifier\n",
    "model = KNeighborsClassifier()\n",
    "\n",
    "from sklearn.model_selection import train_test_split\n",
    "x_tr, x_te, y_tr, y_te = train_test_split(\n",
    "        x,y,random_state=0\n",
    "    )\n",
    "\n",
    "model = xgb.XGBRegressor()\n",
    "model.fit(x_tr, y_tr)\n",
    "model.score(x_tr, y_tr), model.score(x_te, y_te)\n"
   ]
  },
  {
   "cell_type": "code",
   "execution_count": 31,
   "id": "e27da9a8",
   "metadata": {},
   "outputs": [
    {
     "data": {
      "text/plain": [
       "(0.9838691924682718, 0.8140666424127151)"
      ]
     },
     "execution_count": 31,
     "metadata": {},
     "output_type": "execute_result"
    }
   ],
   "source": [
    "from sklearn.ensemble import RandomForestRegressor\n",
    "model = RandomForestRegressor()\n",
    "\n",
    "model.fit(x_tr, y_tr)\n",
    "model.score(x_tr, y_tr), model.score(x_te, y_te)"
   ]
  },
  {
   "cell_type": "code",
   "execution_count": null,
   "id": "c6ba5f50",
   "metadata": {},
   "outputs": [],
   "source": [
    "# LightGBM\n",
    "- Gradient Boosting Tree기반 학습 알고리즘\n",
    "    - 트리가 수직적으로 확장되지만 (깊이 우선), 한쪽으로 깊게 확장되기 때문에 다른쪽에 의해 상쇄된다. \n",
    "    - 기본적으로 트리를 100개 만듬\n",
    "- 속도가 빠름\n",
    "- 트리의 깊이가 깊어지면 과대적합 발생, tr 높고 te 낮다."
   ]
  },
  {
   "cell_type": "markdown",
   "id": "dea7b486",
   "metadata": {},
   "source": [
    "# LightBGM"
   ]
  },
  {
   "cell_type": "code",
   "execution_count": 33,
   "id": "f35233c3",
   "metadata": {},
   "outputs": [
    {
     "name": "stdout",
     "output_type": "stream",
     "text": [
      "Collecting package metadata (current_repodata.json): done\n",
      "Solving environment: done\n",
      "\n",
      "## Package Plan ##\n",
      "\n",
      "  environment location: /Users/harin/opt/anaconda3\n",
      "\n",
      "  added / updated specs:\n",
      "    - lightgbm\n",
      "\n",
      "\n",
      "The following packages will be downloaded:\n",
      "\n",
      "    package                    |            build\n",
      "    ---------------------------|-----------------\n",
      "    lightgbm-3.2.1             |   py39h23ab428_0         996 KB\n",
      "    ------------------------------------------------------------\n",
      "                                           Total:         996 KB\n",
      "\n",
      "The following NEW packages will be INSTALLED:\n",
      "\n",
      "  lightgbm           pkgs/main/osx-64::lightgbm-3.2.1-py39h23ab428_0\n",
      "\n",
      "\n",
      "\n",
      "Downloading and Extracting Packages\n",
      "lightgbm-3.2.1       | 996 KB    | ##################################### | 100% \n",
      "Preparing transaction: done\n",
      "Verifying transaction: done\n",
      "Executing transaction: done\n",
      "Retrieving notices: ...working... done\n",
      "\n",
      "Note: you may need to restart the kernel to use updated packages.\n"
     ]
    }
   ],
   "source": [
    "conda install lightgbm"
   ]
  },
  {
   "cell_type": "code",
   "execution_count": 35,
   "id": "e9522edc",
   "metadata": {},
   "outputs": [
    {
     "data": {
      "text/plain": [
       "(0.9758903113309795, 0.7410313895708159)"
      ]
     },
     "execution_count": 35,
     "metadata": {},
     "output_type": "execute_result"
    }
   ],
   "source": [
    "from lightgbm import LGBMRegressor\n",
    "\n",
    "model = LGBMRegressor()\n",
    "model.fit(x_tr, y_tr)\n",
    "model.score(x_tr, y_tr), model.score(x_te, y_te)"
   ]
  },
  {
   "cell_type": "code",
   "execution_count": null,
   "id": "61279c70",
   "metadata": {},
   "outputs": [],
   "source": []
  }
 ],
 "metadata": {
  "kernelspec": {
   "display_name": "Python 3 (ipykernel)",
   "language": "python",
   "name": "python3"
  },
  "language_info": {
   "codemirror_mode": {
    "name": "ipython",
    "version": 3
   },
   "file_extension": ".py",
   "mimetype": "text/x-python",
   "name": "python",
   "nbconvert_exporter": "python",
   "pygments_lexer": "ipython3",
   "version": "3.9.7"
  }
 },
 "nbformat": 4,
 "nbformat_minor": 5
}
