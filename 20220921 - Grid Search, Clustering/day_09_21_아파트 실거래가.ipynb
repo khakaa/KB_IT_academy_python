{
 "cells": [
  {
   "cell_type": "markdown",
   "id": "2c4dd6c7",
   "metadata": {},
   "source": [
    "# 아파트 실거래가 로딩\n",
    "- 시군구를 구, 동으로 분리\n",
    "- 전용면적 -> 평 -> 평형\n",
    "- 계약년월 -> 계약년, 계약월 분리\n",
    "- 계약년월 + 계약일 -> datetime 변환 -> 계약요일 추출\n",
    "- 칼럼 삭제 (본번, 부번)\n",
    "- 결측치 처리\n",
    "- EDA실시 (통계, 시각화)\n",
    "- 실거래가 회귀분석"
   ]
  },
  {
   "cell_type": "code",
   "execution_count": 1,
   "id": "9f1817e5",
   "metadata": {},
   "outputs": [
    {
     "data": {
      "text/html": [
       "<div>\n",
       "<style scoped>\n",
       "    .dataframe tbody tr th:only-of-type {\n",
       "        vertical-align: middle;\n",
       "    }\n",
       "\n",
       "    .dataframe tbody tr th {\n",
       "        vertical-align: top;\n",
       "    }\n",
       "\n",
       "    .dataframe thead th {\n",
       "        text-align: right;\n",
       "    }\n",
       "</style>\n",
       "<table border=\"1\" class=\"dataframe\">\n",
       "  <thead>\n",
       "    <tr style=\"text-align: right;\">\n",
       "      <th></th>\n",
       "      <th>시군구</th>\n",
       "      <th>번지</th>\n",
       "      <th>본번</th>\n",
       "      <th>부번</th>\n",
       "      <th>단지명</th>\n",
       "      <th>전용면적(㎡)</th>\n",
       "      <th>계약년월</th>\n",
       "      <th>계약일</th>\n",
       "      <th>거래금액(만원)</th>\n",
       "      <th>층</th>\n",
       "      <th>건축년도</th>\n",
       "      <th>도로명</th>\n",
       "      <th>해제사유발생일</th>\n",
       "      <th>거래유형</th>\n",
       "      <th>중개사소재지</th>\n",
       "    </tr>\n",
       "  </thead>\n",
       "  <tbody>\n",
       "    <tr>\n",
       "      <th>0</th>\n",
       "      <td>서울특별시 강남구 개포동</td>\n",
       "      <td>658-1</td>\n",
       "      <td>658.0</td>\n",
       "      <td>1.0</td>\n",
       "      <td>개포6차우성아파트1동~8동</td>\n",
       "      <td>79.97</td>\n",
       "      <td>202109</td>\n",
       "      <td>2</td>\n",
       "      <td>220000</td>\n",
       "      <td>2</td>\n",
       "      <td>1987.0</td>\n",
       "      <td>언주로 3</td>\n",
       "      <td>NaN</td>\n",
       "      <td>-</td>\n",
       "      <td>-</td>\n",
       "    </tr>\n",
       "    <tr>\n",
       "      <th>1</th>\n",
       "      <td>서울특별시 강남구 개포동</td>\n",
       "      <td>658-1</td>\n",
       "      <td>658.0</td>\n",
       "      <td>1.0</td>\n",
       "      <td>개포6차우성아파트1동~8동</td>\n",
       "      <td>79.97</td>\n",
       "      <td>202112</td>\n",
       "      <td>4</td>\n",
       "      <td>215000</td>\n",
       "      <td>3</td>\n",
       "      <td>1987.0</td>\n",
       "      <td>언주로 3</td>\n",
       "      <td>NaN</td>\n",
       "      <td>중개거래</td>\n",
       "      <td>서울 강남구</td>\n",
       "    </tr>\n",
       "    <tr>\n",
       "      <th>2</th>\n",
       "      <td>서울특별시 강남구 개포동</td>\n",
       "      <td>658-1</td>\n",
       "      <td>658.0</td>\n",
       "      <td>1.0</td>\n",
       "      <td>개포6차우성아파트1동~8동</td>\n",
       "      <td>79.97</td>\n",
       "      <td>202204</td>\n",
       "      <td>12</td>\n",
       "      <td>220000</td>\n",
       "      <td>4</td>\n",
       "      <td>1987.0</td>\n",
       "      <td>언주로 3</td>\n",
       "      <td>NaN</td>\n",
       "      <td>중개거래</td>\n",
       "      <td>서울 강남구</td>\n",
       "    </tr>\n",
       "    <tr>\n",
       "      <th>3</th>\n",
       "      <td>서울특별시 강남구 개포동</td>\n",
       "      <td>658-1</td>\n",
       "      <td>658.0</td>\n",
       "      <td>1.0</td>\n",
       "      <td>개포6차우성아파트1동~8동</td>\n",
       "      <td>79.97</td>\n",
       "      <td>202204</td>\n",
       "      <td>21</td>\n",
       "      <td>220000</td>\n",
       "      <td>2</td>\n",
       "      <td>1987.0</td>\n",
       "      <td>언주로 3</td>\n",
       "      <td>NaN</td>\n",
       "      <td>중개거래</td>\n",
       "      <td>서울 강남구</td>\n",
       "    </tr>\n",
       "    <tr>\n",
       "      <th>4</th>\n",
       "      <td>서울특별시 강남구 개포동</td>\n",
       "      <td>658-1</td>\n",
       "      <td>658.0</td>\n",
       "      <td>1.0</td>\n",
       "      <td>개포6차우성아파트1동~8동</td>\n",
       "      <td>79.97</td>\n",
       "      <td>202205</td>\n",
       "      <td>27</td>\n",
       "      <td>216000</td>\n",
       "      <td>2</td>\n",
       "      <td>1987.0</td>\n",
       "      <td>언주로 3</td>\n",
       "      <td>NaN</td>\n",
       "      <td>중개거래</td>\n",
       "      <td>서울 강남구</td>\n",
       "    </tr>\n",
       "    <tr>\n",
       "      <th>...</th>\n",
       "      <td>...</td>\n",
       "      <td>...</td>\n",
       "      <td>...</td>\n",
       "      <td>...</td>\n",
       "      <td>...</td>\n",
       "      <td>...</td>\n",
       "      <td>...</td>\n",
       "      <td>...</td>\n",
       "      <td>...</td>\n",
       "      <td>...</td>\n",
       "      <td>...</td>\n",
       "      <td>...</td>\n",
       "      <td>...</td>\n",
       "      <td>...</td>\n",
       "      <td>...</td>\n",
       "    </tr>\n",
       "    <tr>\n",
       "      <th>16994</th>\n",
       "      <td>서울특별시 중랑구 중화동</td>\n",
       "      <td>450</td>\n",
       "      <td>450.0</td>\n",
       "      <td>0.0</td>\n",
       "      <td>한신아파트(103~109)</td>\n",
       "      <td>59.76</td>\n",
       "      <td>202207</td>\n",
       "      <td>20</td>\n",
       "      <td>74000</td>\n",
       "      <td>3</td>\n",
       "      <td>1997.0</td>\n",
       "      <td>동일로 752</td>\n",
       "      <td>NaN</td>\n",
       "      <td>중개거래</td>\n",
       "      <td>서울 중랑구</td>\n",
       "    </tr>\n",
       "    <tr>\n",
       "      <th>16995</th>\n",
       "      <td>서울특별시 중랑구 중화동</td>\n",
       "      <td>450</td>\n",
       "      <td>450.0</td>\n",
       "      <td>0.0</td>\n",
       "      <td>한신아파트(103~109)</td>\n",
       "      <td>84.03</td>\n",
       "      <td>202207</td>\n",
       "      <td>27</td>\n",
       "      <td>91500</td>\n",
       "      <td>12</td>\n",
       "      <td>1997.0</td>\n",
       "      <td>동일로 752</td>\n",
       "      <td>NaN</td>\n",
       "      <td>중개거래</td>\n",
       "      <td>서울 중랑구</td>\n",
       "    </tr>\n",
       "    <tr>\n",
       "      <th>16996</th>\n",
       "      <td>서울특별시 중랑구 중화동</td>\n",
       "      <td>274-51</td>\n",
       "      <td>274.0</td>\n",
       "      <td>51.0</td>\n",
       "      <td>한영(101)</td>\n",
       "      <td>84.69</td>\n",
       "      <td>202111</td>\n",
       "      <td>4</td>\n",
       "      <td>50000</td>\n",
       "      <td>2</td>\n",
       "      <td>2003.0</td>\n",
       "      <td>동일로144길 74</td>\n",
       "      <td>NaN</td>\n",
       "      <td>중개거래</td>\n",
       "      <td>서울 송파구, 서울 중랑구</td>\n",
       "    </tr>\n",
       "    <tr>\n",
       "      <th>16997</th>\n",
       "      <td>서울특별시 중랑구 중화동</td>\n",
       "      <td>274-51</td>\n",
       "      <td>274.0</td>\n",
       "      <td>51.0</td>\n",
       "      <td>한영(101)</td>\n",
       "      <td>84.69</td>\n",
       "      <td>202204</td>\n",
       "      <td>9</td>\n",
       "      <td>49900</td>\n",
       "      <td>7</td>\n",
       "      <td>2003.0</td>\n",
       "      <td>동일로144길 74</td>\n",
       "      <td>NaN</td>\n",
       "      <td>중개거래</td>\n",
       "      <td>서울 중랑구</td>\n",
       "    </tr>\n",
       "    <tr>\n",
       "      <th>16998</th>\n",
       "      <td>서울특별시 중랑구 중화동</td>\n",
       "      <td>11-7</td>\n",
       "      <td>11.0</td>\n",
       "      <td>7.0</td>\n",
       "      <td>현대휴앤미(102동)</td>\n",
       "      <td>76.43</td>\n",
       "      <td>202204</td>\n",
       "      <td>23</td>\n",
       "      <td>53000</td>\n",
       "      <td>6</td>\n",
       "      <td>2007.0</td>\n",
       "      <td>봉화산로27가길 19</td>\n",
       "      <td>NaN</td>\n",
       "      <td>중개거래</td>\n",
       "      <td>서울 중랑구</td>\n",
       "    </tr>\n",
       "  </tbody>\n",
       "</table>\n",
       "<p>16999 rows × 15 columns</p>\n",
       "</div>"
      ],
      "text/plain": [
       "                 시군구      번지     본번    부번             단지명  전용면적(㎡)    계약년월  \\\n",
       "0      서울특별시 강남구 개포동   658-1  658.0   1.0  개포6차우성아파트1동~8동    79.97  202109   \n",
       "1      서울특별시 강남구 개포동   658-1  658.0   1.0  개포6차우성아파트1동~8동    79.97  202112   \n",
       "2      서울특별시 강남구 개포동   658-1  658.0   1.0  개포6차우성아파트1동~8동    79.97  202204   \n",
       "3      서울특별시 강남구 개포동   658-1  658.0   1.0  개포6차우성아파트1동~8동    79.97  202204   \n",
       "4      서울특별시 강남구 개포동   658-1  658.0   1.0  개포6차우성아파트1동~8동    79.97  202205   \n",
       "...              ...     ...    ...   ...             ...      ...     ...   \n",
       "16994  서울특별시 중랑구 중화동     450  450.0   0.0  한신아파트(103~109)    59.76  202207   \n",
       "16995  서울특별시 중랑구 중화동     450  450.0   0.0  한신아파트(103~109)    84.03  202207   \n",
       "16996  서울특별시 중랑구 중화동  274-51  274.0  51.0         한영(101)    84.69  202111   \n",
       "16997  서울특별시 중랑구 중화동  274-51  274.0  51.0         한영(101)    84.69  202204   \n",
       "16998  서울특별시 중랑구 중화동    11-7   11.0   7.0     현대휴앤미(102동)    76.43  202204   \n",
       "\n",
       "       계약일  거래금액(만원)   층    건축년도          도로명  해제사유발생일  거래유형          중개사소재지  \n",
       "0        2    220000   2  1987.0        언주로 3      NaN     -               -  \n",
       "1        4    215000   3  1987.0        언주로 3      NaN  중개거래          서울 강남구  \n",
       "2       12    220000   4  1987.0        언주로 3      NaN  중개거래          서울 강남구  \n",
       "3       21    220000   2  1987.0        언주로 3      NaN  중개거래          서울 강남구  \n",
       "4       27    216000   2  1987.0        언주로 3      NaN  중개거래          서울 강남구  \n",
       "...    ...       ...  ..     ...          ...      ...   ...             ...  \n",
       "16994   20     74000   3  1997.0      동일로 752      NaN  중개거래          서울 중랑구  \n",
       "16995   27     91500  12  1997.0      동일로 752      NaN  중개거래          서울 중랑구  \n",
       "16996    4     50000   2  2003.0   동일로144길 74      NaN  중개거래  서울 송파구, 서울 중랑구  \n",
       "16997    9     49900   7  2003.0   동일로144길 74      NaN  중개거래          서울 중랑구  \n",
       "16998   23     53000   6  2007.0  봉화산로27가길 19      NaN  중개거래          서울 중랑구  \n",
       "\n",
       "[16999 rows x 15 columns]"
      ]
     },
     "execution_count": 1,
     "metadata": {},
     "output_type": "execute_result"
    }
   ],
   "source": [
    "import matplotlib.pyplot as plt\n",
    "plt.rc('font', family='AppleGothic')\n",
    "\n",
    "import pandas as pd\n",
    "\n",
    "apt_price = pd.read_csv(\n",
    "    '../20220906 - 기술통계, 결측치 처리, 그룹핑/apt_price_2022.csv',\n",
    "    encoding='cp949',\n",
    "    skiprows=15,\n",
    "    thousands=','\n",
    ")\n",
    "\n",
    "apt_price"
   ]
  },
  {
   "cell_type": "code",
   "execution_count": 2,
   "id": "2bb08fd1",
   "metadata": {},
   "outputs": [
    {
     "data": {
      "text/html": [
       "<div>\n",
       "<style scoped>\n",
       "    .dataframe tbody tr th:only-of-type {\n",
       "        vertical-align: middle;\n",
       "    }\n",
       "\n",
       "    .dataframe tbody tr th {\n",
       "        vertical-align: top;\n",
       "    }\n",
       "\n",
       "    .dataframe thead th {\n",
       "        text-align: right;\n",
       "    }\n",
       "</style>\n",
       "<table border=\"1\" class=\"dataframe\">\n",
       "  <thead>\n",
       "    <tr style=\"text-align: right;\">\n",
       "      <th></th>\n",
       "      <th>시군구</th>\n",
       "      <th>번지</th>\n",
       "      <th>본번</th>\n",
       "      <th>부번</th>\n",
       "      <th>단지명</th>\n",
       "      <th>전용면적(㎡)</th>\n",
       "      <th>계약년월</th>\n",
       "      <th>계약일</th>\n",
       "      <th>거래금액(만원)</th>\n",
       "      <th>층</th>\n",
       "      <th>...</th>\n",
       "      <th>거래유형</th>\n",
       "      <th>중개사소재지</th>\n",
       "      <th>구</th>\n",
       "      <th>동</th>\n",
       "      <th>평</th>\n",
       "      <th>평형</th>\n",
       "      <th>거래금액_억원</th>\n",
       "      <th>계약년</th>\n",
       "      <th>계약월</th>\n",
       "      <th>계약요일</th>\n",
       "    </tr>\n",
       "  </thead>\n",
       "  <tbody>\n",
       "    <tr>\n",
       "      <th>0</th>\n",
       "      <td>서울특별시 강남구 개포동</td>\n",
       "      <td>658-1</td>\n",
       "      <td>658.0</td>\n",
       "      <td>1.0</td>\n",
       "      <td>개포6차우성아파트1동~8동</td>\n",
       "      <td>79.97</td>\n",
       "      <td>202109</td>\n",
       "      <td>2</td>\n",
       "      <td>220000</td>\n",
       "      <td>2</td>\n",
       "      <td>...</td>\n",
       "      <td>-</td>\n",
       "      <td>-</td>\n",
       "      <td>강남구</td>\n",
       "      <td>개포동</td>\n",
       "      <td>26.4</td>\n",
       "      <td>20평대</td>\n",
       "      <td>22.0</td>\n",
       "      <td>2021</td>\n",
       "      <td>9</td>\n",
       "      <td>3</td>\n",
       "    </tr>\n",
       "    <tr>\n",
       "      <th>1</th>\n",
       "      <td>서울특별시 강남구 개포동</td>\n",
       "      <td>658-1</td>\n",
       "      <td>658.0</td>\n",
       "      <td>1.0</td>\n",
       "      <td>개포6차우성아파트1동~8동</td>\n",
       "      <td>79.97</td>\n",
       "      <td>202112</td>\n",
       "      <td>4</td>\n",
       "      <td>215000</td>\n",
       "      <td>3</td>\n",
       "      <td>...</td>\n",
       "      <td>중개거래</td>\n",
       "      <td>서울 강남구</td>\n",
       "      <td>강남구</td>\n",
       "      <td>개포동</td>\n",
       "      <td>26.4</td>\n",
       "      <td>20평대</td>\n",
       "      <td>21.5</td>\n",
       "      <td>2021</td>\n",
       "      <td>12</td>\n",
       "      <td>5</td>\n",
       "    </tr>\n",
       "    <tr>\n",
       "      <th>2</th>\n",
       "      <td>서울특별시 강남구 개포동</td>\n",
       "      <td>658-1</td>\n",
       "      <td>658.0</td>\n",
       "      <td>1.0</td>\n",
       "      <td>개포6차우성아파트1동~8동</td>\n",
       "      <td>79.97</td>\n",
       "      <td>202204</td>\n",
       "      <td>12</td>\n",
       "      <td>220000</td>\n",
       "      <td>4</td>\n",
       "      <td>...</td>\n",
       "      <td>중개거래</td>\n",
       "      <td>서울 강남구</td>\n",
       "      <td>강남구</td>\n",
       "      <td>개포동</td>\n",
       "      <td>26.4</td>\n",
       "      <td>20평대</td>\n",
       "      <td>22.0</td>\n",
       "      <td>2022</td>\n",
       "      <td>4</td>\n",
       "      <td>1</td>\n",
       "    </tr>\n",
       "    <tr>\n",
       "      <th>3</th>\n",
       "      <td>서울특별시 강남구 개포동</td>\n",
       "      <td>658-1</td>\n",
       "      <td>658.0</td>\n",
       "      <td>1.0</td>\n",
       "      <td>개포6차우성아파트1동~8동</td>\n",
       "      <td>79.97</td>\n",
       "      <td>202204</td>\n",
       "      <td>21</td>\n",
       "      <td>220000</td>\n",
       "      <td>2</td>\n",
       "      <td>...</td>\n",
       "      <td>중개거래</td>\n",
       "      <td>서울 강남구</td>\n",
       "      <td>강남구</td>\n",
       "      <td>개포동</td>\n",
       "      <td>26.4</td>\n",
       "      <td>20평대</td>\n",
       "      <td>22.0</td>\n",
       "      <td>2022</td>\n",
       "      <td>4</td>\n",
       "      <td>3</td>\n",
       "    </tr>\n",
       "    <tr>\n",
       "      <th>4</th>\n",
       "      <td>서울특별시 강남구 개포동</td>\n",
       "      <td>658-1</td>\n",
       "      <td>658.0</td>\n",
       "      <td>1.0</td>\n",
       "      <td>개포6차우성아파트1동~8동</td>\n",
       "      <td>79.97</td>\n",
       "      <td>202205</td>\n",
       "      <td>27</td>\n",
       "      <td>216000</td>\n",
       "      <td>2</td>\n",
       "      <td>...</td>\n",
       "      <td>중개거래</td>\n",
       "      <td>서울 강남구</td>\n",
       "      <td>강남구</td>\n",
       "      <td>개포동</td>\n",
       "      <td>26.4</td>\n",
       "      <td>20평대</td>\n",
       "      <td>21.6</td>\n",
       "      <td>2022</td>\n",
       "      <td>5</td>\n",
       "      <td>4</td>\n",
       "    </tr>\n",
       "  </tbody>\n",
       "</table>\n",
       "<p>5 rows × 23 columns</p>\n",
       "</div>"
      ],
      "text/plain": [
       "             시군구     번지     본번   부번             단지명  전용면적(㎡)    계약년월  계약일  \\\n",
       "0  서울특별시 강남구 개포동  658-1  658.0  1.0  개포6차우성아파트1동~8동    79.97  202109    2   \n",
       "1  서울특별시 강남구 개포동  658-1  658.0  1.0  개포6차우성아파트1동~8동    79.97  202112    4   \n",
       "2  서울특별시 강남구 개포동  658-1  658.0  1.0  개포6차우성아파트1동~8동    79.97  202204   12   \n",
       "3  서울특별시 강남구 개포동  658-1  658.0  1.0  개포6차우성아파트1동~8동    79.97  202204   21   \n",
       "4  서울특별시 강남구 개포동  658-1  658.0  1.0  개포6차우성아파트1동~8동    79.97  202205   27   \n",
       "\n",
       "   거래금액(만원)  층  ...  거래유형  중개사소재지    구    동     평    평형 거래금액_억원   계약년 계약월  \\\n",
       "0    220000  2  ...     -       -  강남구  개포동  26.4  20평대    22.0  2021   9   \n",
       "1    215000  3  ...  중개거래  서울 강남구  강남구  개포동  26.4  20평대    21.5  2021  12   \n",
       "2    220000  4  ...  중개거래  서울 강남구  강남구  개포동  26.4  20평대    22.0  2022   4   \n",
       "3    220000  2  ...  중개거래  서울 강남구  강남구  개포동  26.4  20평대    22.0  2022   4   \n",
       "4    216000  2  ...  중개거래  서울 강남구  강남구  개포동  26.4  20평대    21.6  2022   5   \n",
       "\n",
       "   계약요일  \n",
       "0     3  \n",
       "1     5  \n",
       "2     1  \n",
       "3     3  \n",
       "4     4  \n",
       "\n",
       "[5 rows x 23 columns]"
      ]
     },
     "execution_count": 2,
     "metadata": {},
     "output_type": "execute_result"
    }
   ],
   "source": [
    "# 시군구를 구,동으로 분리\n",
    "apt_price['구'] = apt_price['시군구'].str.split().str[1]\n",
    "apt_price['동'] = apt_price['시군구'].str.split().str[2]\n",
    "\n",
    "# 전용면적을 평형으로 변환\n",
    "apt_price['평'] = round(apt_price['전용면적(㎡)'] / 3.03, 1)\n",
    "apt_price['평형'] = pd.cut(\n",
    "    apt_price['평'],\n",
    "    bins=[0, 10, 20, 30, 40, 50, 100000],\n",
    "    labels='10평이하,10평대,20평대,30평대,40평대,40평이상'.split(',')\n",
    ")\n",
    "# 거래금액 단위를 억원으로 변환\n",
    "apt_price[\"거래금액_억원\"] = apt_price[\"거래금액(만원)\"] / 10000\n",
    "\n",
    "# 계약년월 -> 계약년, 계약월로 분리\n",
    "apt_price[\"계약년\"] = apt_price[\"계약년월\"] // 100 \n",
    "apt_price[\"계약월\"] = apt_price[\"계약년월\"] % 100 \n",
    "\n",
    "# 계약요일\n",
    "apt_price['계약요일'] = pd.to_datetime(\n",
    "    apt_price['계약년월'].astype(str) + apt_price['계약일'].astype(str),\n",
    "    format='%Y%m%d'\n",
    ").dt.dayofweek\n",
    "\n",
    "apt_price.head()"
   ]
  },
  {
   "cell_type": "code",
   "execution_count": 3,
   "id": "d6715106",
   "metadata": {},
   "outputs": [
    {
     "data": {
      "text/html": [
       "<div>\n",
       "<style scoped>\n",
       "    .dataframe tbody tr th:only-of-type {\n",
       "        vertical-align: middle;\n",
       "    }\n",
       "\n",
       "    .dataframe tbody tr th {\n",
       "        vertical-align: top;\n",
       "    }\n",
       "\n",
       "    .dataframe thead th {\n",
       "        text-align: right;\n",
       "    }\n",
       "</style>\n",
       "<table border=\"1\" class=\"dataframe\">\n",
       "  <thead>\n",
       "    <tr style=\"text-align: right;\">\n",
       "      <th></th>\n",
       "      <th>시군구</th>\n",
       "      <th>번지</th>\n",
       "      <th>단지명</th>\n",
       "      <th>전용면적(㎡)</th>\n",
       "      <th>계약년월</th>\n",
       "      <th>계약일</th>\n",
       "      <th>거래금액(만원)</th>\n",
       "      <th>층</th>\n",
       "      <th>건축년도</th>\n",
       "      <th>도로명</th>\n",
       "      <th>...</th>\n",
       "      <th>거래유형</th>\n",
       "      <th>중개사소재지</th>\n",
       "      <th>구</th>\n",
       "      <th>동</th>\n",
       "      <th>평</th>\n",
       "      <th>평형</th>\n",
       "      <th>거래금액_억원</th>\n",
       "      <th>계약년</th>\n",
       "      <th>계약월</th>\n",
       "      <th>계약요일</th>\n",
       "    </tr>\n",
       "  </thead>\n",
       "  <tbody>\n",
       "    <tr>\n",
       "      <th>0</th>\n",
       "      <td>서울특별시 강남구 개포동</td>\n",
       "      <td>658-1</td>\n",
       "      <td>개포6차우성아파트1동~8동</td>\n",
       "      <td>79.97</td>\n",
       "      <td>202109</td>\n",
       "      <td>2</td>\n",
       "      <td>220000</td>\n",
       "      <td>2</td>\n",
       "      <td>1987.0</td>\n",
       "      <td>언주로 3</td>\n",
       "      <td>...</td>\n",
       "      <td>-</td>\n",
       "      <td>-</td>\n",
       "      <td>강남구</td>\n",
       "      <td>개포동</td>\n",
       "      <td>26.4</td>\n",
       "      <td>20평대</td>\n",
       "      <td>22.0</td>\n",
       "      <td>2021</td>\n",
       "      <td>9</td>\n",
       "      <td>3</td>\n",
       "    </tr>\n",
       "    <tr>\n",
       "      <th>1</th>\n",
       "      <td>서울특별시 강남구 개포동</td>\n",
       "      <td>658-1</td>\n",
       "      <td>개포6차우성아파트1동~8동</td>\n",
       "      <td>79.97</td>\n",
       "      <td>202112</td>\n",
       "      <td>4</td>\n",
       "      <td>215000</td>\n",
       "      <td>3</td>\n",
       "      <td>1987.0</td>\n",
       "      <td>언주로 3</td>\n",
       "      <td>...</td>\n",
       "      <td>중개거래</td>\n",
       "      <td>서울 강남구</td>\n",
       "      <td>강남구</td>\n",
       "      <td>개포동</td>\n",
       "      <td>26.4</td>\n",
       "      <td>20평대</td>\n",
       "      <td>21.5</td>\n",
       "      <td>2021</td>\n",
       "      <td>12</td>\n",
       "      <td>5</td>\n",
       "    </tr>\n",
       "    <tr>\n",
       "      <th>2</th>\n",
       "      <td>서울특별시 강남구 개포동</td>\n",
       "      <td>658-1</td>\n",
       "      <td>개포6차우성아파트1동~8동</td>\n",
       "      <td>79.97</td>\n",
       "      <td>202204</td>\n",
       "      <td>12</td>\n",
       "      <td>220000</td>\n",
       "      <td>4</td>\n",
       "      <td>1987.0</td>\n",
       "      <td>언주로 3</td>\n",
       "      <td>...</td>\n",
       "      <td>중개거래</td>\n",
       "      <td>서울 강남구</td>\n",
       "      <td>강남구</td>\n",
       "      <td>개포동</td>\n",
       "      <td>26.4</td>\n",
       "      <td>20평대</td>\n",
       "      <td>22.0</td>\n",
       "      <td>2022</td>\n",
       "      <td>4</td>\n",
       "      <td>1</td>\n",
       "    </tr>\n",
       "    <tr>\n",
       "      <th>3</th>\n",
       "      <td>서울특별시 강남구 개포동</td>\n",
       "      <td>658-1</td>\n",
       "      <td>개포6차우성아파트1동~8동</td>\n",
       "      <td>79.97</td>\n",
       "      <td>202204</td>\n",
       "      <td>21</td>\n",
       "      <td>220000</td>\n",
       "      <td>2</td>\n",
       "      <td>1987.0</td>\n",
       "      <td>언주로 3</td>\n",
       "      <td>...</td>\n",
       "      <td>중개거래</td>\n",
       "      <td>서울 강남구</td>\n",
       "      <td>강남구</td>\n",
       "      <td>개포동</td>\n",
       "      <td>26.4</td>\n",
       "      <td>20평대</td>\n",
       "      <td>22.0</td>\n",
       "      <td>2022</td>\n",
       "      <td>4</td>\n",
       "      <td>3</td>\n",
       "    </tr>\n",
       "    <tr>\n",
       "      <th>4</th>\n",
       "      <td>서울특별시 강남구 개포동</td>\n",
       "      <td>658-1</td>\n",
       "      <td>개포6차우성아파트1동~8동</td>\n",
       "      <td>79.97</td>\n",
       "      <td>202205</td>\n",
       "      <td>27</td>\n",
       "      <td>216000</td>\n",
       "      <td>2</td>\n",
       "      <td>1987.0</td>\n",
       "      <td>언주로 3</td>\n",
       "      <td>...</td>\n",
       "      <td>중개거래</td>\n",
       "      <td>서울 강남구</td>\n",
       "      <td>강남구</td>\n",
       "      <td>개포동</td>\n",
       "      <td>26.4</td>\n",
       "      <td>20평대</td>\n",
       "      <td>21.6</td>\n",
       "      <td>2022</td>\n",
       "      <td>5</td>\n",
       "      <td>4</td>\n",
       "    </tr>\n",
       "  </tbody>\n",
       "</table>\n",
       "<p>5 rows × 21 columns</p>\n",
       "</div>"
      ],
      "text/plain": [
       "             시군구     번지             단지명  전용면적(㎡)    계약년월  계약일  거래금액(만원)  층  \\\n",
       "0  서울특별시 강남구 개포동  658-1  개포6차우성아파트1동~8동    79.97  202109    2    220000  2   \n",
       "1  서울특별시 강남구 개포동  658-1  개포6차우성아파트1동~8동    79.97  202112    4    215000  3   \n",
       "2  서울특별시 강남구 개포동  658-1  개포6차우성아파트1동~8동    79.97  202204   12    220000  4   \n",
       "3  서울특별시 강남구 개포동  658-1  개포6차우성아파트1동~8동    79.97  202204   21    220000  2   \n",
       "4  서울특별시 강남구 개포동  658-1  개포6차우성아파트1동~8동    79.97  202205   27    216000  2   \n",
       "\n",
       "     건축년도    도로명  ...  거래유형  중개사소재지    구    동     평    평형 거래금액_억원   계약년  계약월  \\\n",
       "0  1987.0  언주로 3  ...     -       -  강남구  개포동  26.4  20평대    22.0  2021    9   \n",
       "1  1987.0  언주로 3  ...  중개거래  서울 강남구  강남구  개포동  26.4  20평대    21.5  2021   12   \n",
       "2  1987.0  언주로 3  ...  중개거래  서울 강남구  강남구  개포동  26.4  20평대    22.0  2022    4   \n",
       "3  1987.0  언주로 3  ...  중개거래  서울 강남구  강남구  개포동  26.4  20평대    22.0  2022    4   \n",
       "4  1987.0  언주로 3  ...  중개거래  서울 강남구  강남구  개포동  26.4  20평대    21.6  2022    5   \n",
       "\n",
       "   계약요일  \n",
       "0     3  \n",
       "1     5  \n",
       "2     1  \n",
       "3     3  \n",
       "4     4  \n",
       "\n",
       "[5 rows x 21 columns]"
      ]
     },
     "execution_count": 3,
     "metadata": {},
     "output_type": "execute_result"
    }
   ],
   "source": [
    "apt_price.drop(columns=['본번', '부번'], inplace=True)\n",
    "\n",
    "apt_price.head()"
   ]
  },
  {
   "cell_type": "code",
   "execution_count": 4,
   "id": "89cee088",
   "metadata": {},
   "outputs": [
    {
     "data": {
      "text/plain": [
       "(16999, 21)"
      ]
     },
     "execution_count": 4,
     "metadata": {},
     "output_type": "execute_result"
    }
   ],
   "source": [
    "apt_price.shape"
   ]
  },
  {
   "cell_type": "code",
   "execution_count": 5,
   "id": "f48a296b",
   "metadata": {},
   "outputs": [
    {
     "data": {
      "text/plain": [
       "시군구             0\n",
       "번지              4\n",
       "단지명             0\n",
       "전용면적(㎡)         0\n",
       "계약년월            0\n",
       "계약일             0\n",
       "거래금액(만원)        0\n",
       "층               0\n",
       "건축년도            2\n",
       "도로명             0\n",
       "해제사유발생일     16328\n",
       "거래유형            0\n",
       "중개사소재지          0\n",
       "구               0\n",
       "동               0\n",
       "평               0\n",
       "평형              0\n",
       "거래금액_억원         0\n",
       "계약년             0\n",
       "계약월             0\n",
       "계약요일            0\n",
       "dtype: int64"
      ]
     },
     "execution_count": 5,
     "metadata": {},
     "output_type": "execute_result"
    }
   ],
   "source": [
    "apt_price.isna().sum()"
   ]
  },
  {
   "cell_type": "code",
   "execution_count": 6,
   "id": "5ad80706",
   "metadata": {},
   "outputs": [],
   "source": [
    "apt_price['번지'] = apt_price['번지'].fillna('')\n",
    "apt_price['건축년도'] = apt_price['건축년도'].fillna('')\n",
    "# apt_price['해제사유발생일'] = apt_price['해제사유발생일'].fillna('')"
   ]
  },
  {
   "cell_type": "markdown",
   "id": "7e143b7a",
   "metadata": {},
   "source": [
    "## 구별 계약건수"
   ]
  },
  {
   "cell_type": "code",
   "execution_count": 7,
   "id": "0f1c44fb",
   "metadata": {},
   "outputs": [
    {
     "data": {
      "text/plain": [
       "[<matplotlib.lines.Line2D at 0x7fa3b95d2fd0>]"
      ]
     },
     "execution_count": 7,
     "metadata": {},
     "output_type": "execute_result"
    },
    {
     "data": {
      "image/png": "[encoded data removed]",
      "text/plain": [
       "<Figure size 720x720 with 1 Axes>"
      ]
     },
     "metadata": {
      "needs_background": "light"
     },
     "output_type": "display_data"
    }
   ],
   "source": [
    "구별계약건수 = apt_price.groupby('구')[['층']].count()\n",
    "\n",
    "plt.figure(figsize=(10,10))\n",
    "plt.xticks(rotation=45)\n",
    "\n",
    "plt.plot(\n",
    "    구별계약건수.index,\n",
    "    구별계약건수['층'],\n",
    "    'ro'\n",
    ")"
   ]
  },
  {
   "cell_type": "markdown",
   "id": "7bade085",
   "metadata": {},
   "source": [
    "## 계약년월별 구별 거래건수"
   ]
  },
  {
   "cell_type": "code",
   "execution_count": 9,
   "id": "860ac5f2",
   "metadata": {},
   "outputs": [
    {
     "data": {
      "image/png": "[encoded data removed]",
      "text/plain": [
       "<Figure size 432x288 with 1 Axes>"
      ]
     },
     "metadata": {
      "needs_background": "light"
     },
     "output_type": "display_data"
    }
   ],
   "source": [
    "계약년월별구별거래건수 = apt_price.groupby('계약월')[['구']].count().plot()\n"
   ]
  },
  {
   "cell_type": "markdown",
   "id": "9c9ab3bb",
   "metadata": {},
   "source": [
    "## 계약년월별 구별 평균 거래 가격"
   ]
  },
  {
   "cell_type": "code",
   "execution_count": 10,
   "id": "428319cf",
   "metadata": {},
   "outputs": [],
   "source": [
    "계약년월별구별평균거래가격 = apt_price.groupby('계약월')[['구', '거래금액_억원']].mean()"
   ]
  },
  {
   "cell_type": "code",
   "execution_count": 11,
   "id": "f65e1d96",
   "metadata": {},
   "outputs": [
    {
     "data": {
      "text/plain": [
       "<AxesSubplot:xlabel='계약월'>"
      ]
     },
     "execution_count": 11,
     "metadata": {},
     "output_type": "execute_result"
    },
    {
     "data": {
      "image/png": "[encoded data removed]",
      "text/plain": [
       "<Figure size 432x288 with 1 Axes>"
      ]
     },
     "metadata": {
      "needs_background": "light"
     },
     "output_type": "display_data"
    }
   ],
   "source": [
    "계약년월별구별평균거래가격.plot()"
   ]
  },
  {
   "cell_type": "markdown",
   "id": "5e677a9b",
   "metadata": {},
   "source": [
    "## 계약년월별 거래취소건수"
   ]
  },
  {
   "cell_type": "code",
   "execution_count": 30,
   "id": "0e086fdb",
   "metadata": {},
   "outputs": [],
   "source": [
    "거래취소 = apt_price.loc[apt_price['해제사유발생일'] == '']\n",
    "계약년월별거래취소건수 = 거래취소.groupby('계약년월')[['해제사유발생일']].count()"
   ]
  },
  {
   "cell_type": "code",
   "execution_count": 31,
   "id": "0935f80b",
   "metadata": {},
   "outputs": [
    {
     "data": {
      "text/plain": [
       "<AxesSubplot:xlabel='계약년월'>"
      ]
     },
     "execution_count": 31,
     "metadata": {},
     "output_type": "execute_result"
    },
    {
     "data": {
      "image/png": "[encoded data removed]",
      "text/plain": [
       "<Figure size 432x288 with 1 Axes>"
      ]
     },
     "metadata": {
      "needs_background": "light"
     },
     "output_type": "display_data"
    }
   ],
   "source": [
    "계약년월별거래취소건수.plot()"
   ]
  },
  {
   "cell_type": "markdown",
   "id": "010d4acf",
   "metadata": {},
   "source": [
    "## 구별 거래취소건수"
   ]
  },
  {
   "cell_type": "code",
   "execution_count": 32,
   "id": "a4f5b15d",
   "metadata": {},
   "outputs": [],
   "source": [
    "구별거래취소건수 = 거래취소.groupby('구')[['해제사유발생일']].count()"
   ]
  },
  {
   "cell_type": "code",
   "execution_count": 33,
   "id": "8f2f5110",
   "metadata": {},
   "outputs": [
    {
     "data": {
      "text/plain": [
       "<AxesSubplot:xlabel='구'>"
      ]
     },
     "execution_count": 33,
     "metadata": {},
     "output_type": "execute_result"
    },
    {
     "data": {
      "image/png": "[encoded data removed]",
      "text/plain": [
       "<Figure size 432x288 with 1 Axes>"
      ]
     },
     "metadata": {
      "needs_background": "light"
     },
     "output_type": "display_data"
    }
   ],
   "source": [
    "구별거래취소건수.plot()"
   ]
  },
  {
   "cell_type": "code",
   "execution_count": 21,
   "id": "2c0f157c",
   "metadata": {},
   "outputs": [],
   "source": [
    "# 결측치 처리\n",
    "apt_price['번지'] = apt_price['번지'].fillna('')\n",
    "apt_price['건축년도'] = apt_price['건축년도'].fillna('')\n",
    "apt_price['해제사유발생일'] = apt_price['해제사유발생일'].fillna('')"
   ]
  },
  {
   "cell_type": "markdown",
   "id": "9122a235",
   "metadata": {},
   "source": [
    "## 실거래가 회귀분석"
   ]
  },
  {
   "cell_type": "code",
   "execution_count": 26,
   "id": "941e140b",
   "metadata": {},
   "outputs": [
    {
     "data": {
      "text/plain": [
       "(16999, 21)"
      ]
     },
     "execution_count": 26,
     "metadata": {},
     "output_type": "execute_result"
    }
   ],
   "source": [
    "apt_price.shape"
   ]
  },
  {
   "cell_type": "code",
   "execution_count": 35,
   "id": "7dcce9d6",
   "metadata": {},
   "outputs": [],
   "source": [
    "from sklearn.model_selection import train_test_split\n",
    "\n",
    "y = apt_price['거래금액_억원']\n",
    "X = apt_price.drop(columns='거래금액_억원')\n",
    "\n",
    "x_tr, x_te, y_tr, y_te = train_test_split(\n",
    "    X, y, random_state = 0\n",
    ")\n",
    "\n",
    "from sklearn.neighbors import KNeighborsRegressor\n",
    "from sklearn.linear_model import LogisticRegression\n",
    "from sklearn.tree import DecisionTreeRegressor\n",
    "\n"
   ]
  },
  {
   "cell_type": "code",
   "execution_count": null,
   "id": "5f39d9ba",
   "metadata": {},
   "outputs": [],
   "source": []
  }
 ],
 "metadata": {
  "kernelspec": {
   "display_name": "Python 3 (ipykernel)",
   "language": "python",
   "name": "python3"
  },
  "language_info": {
   "codemirror_mode": {
    "name": "ipython",
    "version": 3
   },
   "file_extension": ".py",
   "mimetype": "text/x-python",
   "name": "python",
   "nbconvert_exporter": "python",
   "pygments_lexer": "ipython3",
   "version": "3.9.7"
  }
 },
 "nbformat": 4,
 "nbformat_minor": 5
}
