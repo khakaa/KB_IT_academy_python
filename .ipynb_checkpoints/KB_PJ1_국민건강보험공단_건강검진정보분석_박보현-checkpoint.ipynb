{
 "cells": [
  {
   "cell_type": "markdown",
   "metadata": {},
   "source": [
    "# 모듈 설치"
   ]
  },
  {
   "cell_type": "code",
   "execution_count": 136,
   "metadata": {},
   "outputs": [],
   "source": [
    "import numpy as np\n",
    "import pandas as pd\n",
    "import matplotlib.pyplot as plt\n",
    "import seaborn as sns\n",
    "\n",
    "plt.rcParams['font.family'] = 'Malgun Gothic' # 한글 폰트 설정\n",
    "plt.rcParams['figure.figsize'] = (10, 6) # 그래프 크기 설정"
   ]
  },
  {
   "cell_type": "markdown",
   "metadata": {
    "id": "gjr42eVdQOql"
   },
   "source": [
    "# 국민건강보험공단_건강검진정보_2022_09 분석\n",
    "\n",
    "건강검진 결과지 제대로 읽는 법\n",
    "\n",
    "\n",
    "https://health.chosun.com/site/data/html_dir/2016/11/30/2016113001291.html"
   ]
  },
  {
   "cell_type": "code",
   "execution_count": 137,
   "metadata": {
    "id": "0iAeZkFtWxzH"
   },
   "outputs": [],
   "source": [
    "url1=\"https://raw.githubusercontent.com/KimYounghwan/bigdata/master/%EA%B5%AD%EB%AF%BC%EA%B1%B4%EA%B0%95%EB%B3%B4%ED%97%98%EA%B3%B5%EB%8B%A8_%EA%B1%B4%EA%B0%95%EA%B2%80%EC%A7%84%EC%A0%95%EB%B3%B4_20211229_1.CSV\"\n",
    "url2=\"https://raw.githubusercontent.com/KimYounghwan/bigdata/master/%EA%B5%AD%EB%AF%BC%EA%B1%B4%EA%B0%95%EB%B3%B4%ED%97%98%EA%B3%B5%EB%8B%A8_%EA%B1%B4%EA%B0%95%EA%B2%80%EC%A7%84%EC%A0%95%EB%B3%B4_20211229_2.CSV\"\n",
    "url3=\"https://raw.githubusercontent.com/KimYounghwan/bigdata/master/%EA%B5%AD%EB%AF%BC%EA%B1%B4%EA%B0%95%EB%B3%B4%ED%97%98%EA%B3%B5%EB%8B%A8_%EA%B1%B4%EA%B0%95%EA%B2%80%EC%A7%84%EC%A0%95%EB%B3%B4_20211229_3.CSV\"\n",
    "url4=\"https://raw.githubusercontent.com/KimYounghwan/bigdata/master/%EA%B5%AD%EB%AF%BC%EA%B1%B4%EA%B0%95%EB%B3%B4%ED%97%98%EA%B3%B5%EB%8B%A8_%EA%B1%B4%EA%B0%95%EA%B2%80%EC%A7%84%EC%A0%95%EB%B3%B4_20211229_4.CSV\""
   ]
  },
  {
   "cell_type": "code",
   "execution_count": 138,
   "metadata": {
    "id": "8MWkVQG7Wx1x"
   },
   "outputs": [],
   "source": [
    "import pandas as pd\n",
    "\n",
    "검진정보1=pd.read_csv(url1)\n",
    "검진정보2=pd.read_csv(url2)\n",
    "검진정보3=pd.read_csv(url3)\n",
    "검진정보4=pd.read_csv(url4)"
   ]
  },
  {
   "cell_type": "code",
   "execution_count": 143,
   "metadata": {},
   "outputs": [
    {
     "name": "stdout",
     "output_type": "stream",
     "text": [
      "(1000000, 30)\n"
     ]
    },
    {
     "data": {
      "text/html": [
       "<div>\n",
       "<style scoped>\n",
       "    .dataframe tbody tr th:only-of-type {\n",
       "        vertical-align: middle;\n",
       "    }\n",
       "\n",
       "    .dataframe tbody tr th {\n",
       "        vertical-align: top;\n",
       "    }\n",
       "\n",
       "    .dataframe thead th {\n",
       "        text-align: right;\n",
       "    }\n",
       "</style>\n",
       "<table border=\"1\" class=\"dataframe\">\n",
       "  <thead>\n",
       "    <tr style=\"text-align: right;\">\n",
       "      <th></th>\n",
       "      <th>기준년도</th>\n",
       "      <th>가입자 일련번호</th>\n",
       "      <th>시도코드</th>\n",
       "      <th>성별코드</th>\n",
       "      <th>연령대 코드(5세단위)</th>\n",
       "      <th>신장(5Cm단위)</th>\n",
       "      <th>체중(5Kg 단위)</th>\n",
       "      <th>허리둘레</th>\n",
       "      <th>시력(좌)</th>\n",
       "      <th>시력(우)</th>\n",
       "      <th>...</th>\n",
       "      <th>요단백</th>\n",
       "      <th>혈청크레아티닌</th>\n",
       "      <th>(혈청지오티)AST</th>\n",
       "      <th>(혈청지오티)ALT</th>\n",
       "      <th>감마 지티피</th>\n",
       "      <th>흡연상태</th>\n",
       "      <th>음주여부</th>\n",
       "      <th>구강검진 수검여부</th>\n",
       "      <th>치아우식증유무</th>\n",
       "      <th>치석</th>\n",
       "    </tr>\n",
       "  </thead>\n",
       "  <tbody>\n",
       "    <tr>\n",
       "      <th>0</th>\n",
       "      <td>2020</td>\n",
       "      <td>1</td>\n",
       "      <td>36</td>\n",
       "      <td>1</td>\n",
       "      <td>9</td>\n",
       "      <td>165</td>\n",
       "      <td>60</td>\n",
       "      <td>72.1</td>\n",
       "      <td>1.2</td>\n",
       "      <td>1.5</td>\n",
       "      <td>...</td>\n",
       "      <td>1.0</td>\n",
       "      <td>1.1</td>\n",
       "      <td>21.0</td>\n",
       "      <td>27.0</td>\n",
       "      <td>21.0</td>\n",
       "      <td>1.0</td>\n",
       "      <td>0.0</td>\n",
       "      <td>0</td>\n",
       "      <td>NaN</td>\n",
       "      <td>NaN</td>\n",
       "    </tr>\n",
       "    <tr>\n",
       "      <th>1</th>\n",
       "      <td>2020</td>\n",
       "      <td>2</td>\n",
       "      <td>27</td>\n",
       "      <td>2</td>\n",
       "      <td>13</td>\n",
       "      <td>150</td>\n",
       "      <td>65</td>\n",
       "      <td>81.0</td>\n",
       "      <td>0.8</td>\n",
       "      <td>0.8</td>\n",
       "      <td>...</td>\n",
       "      <td>1.0</td>\n",
       "      <td>0.5</td>\n",
       "      <td>18.0</td>\n",
       "      <td>15.0</td>\n",
       "      <td>15.0</td>\n",
       "      <td>1.0</td>\n",
       "      <td>0.0</td>\n",
       "      <td>0</td>\n",
       "      <td>NaN</td>\n",
       "      <td>NaN</td>\n",
       "    </tr>\n",
       "    <tr>\n",
       "      <th>2</th>\n",
       "      <td>2020</td>\n",
       "      <td>3</td>\n",
       "      <td>11</td>\n",
       "      <td>2</td>\n",
       "      <td>12</td>\n",
       "      <td>155</td>\n",
       "      <td>55</td>\n",
       "      <td>70.0</td>\n",
       "      <td>0.6</td>\n",
       "      <td>0.7</td>\n",
       "      <td>...</td>\n",
       "      <td>1.0</td>\n",
       "      <td>0.7</td>\n",
       "      <td>27.0</td>\n",
       "      <td>25.0</td>\n",
       "      <td>7.0</td>\n",
       "      <td>1.0</td>\n",
       "      <td>0.0</td>\n",
       "      <td>0</td>\n",
       "      <td>NaN</td>\n",
       "      <td>NaN</td>\n",
       "    </tr>\n",
       "    <tr>\n",
       "      <th>3</th>\n",
       "      <td>2020</td>\n",
       "      <td>4</td>\n",
       "      <td>31</td>\n",
       "      <td>1</td>\n",
       "      <td>13</td>\n",
       "      <td>160</td>\n",
       "      <td>70</td>\n",
       "      <td>90.8</td>\n",
       "      <td>1.0</td>\n",
       "      <td>1.0</td>\n",
       "      <td>...</td>\n",
       "      <td>1.0</td>\n",
       "      <td>1.2</td>\n",
       "      <td>65.0</td>\n",
       "      <td>97.0</td>\n",
       "      <td>72.0</td>\n",
       "      <td>1.0</td>\n",
       "      <td>0.0</td>\n",
       "      <td>1</td>\n",
       "      <td>0.0</td>\n",
       "      <td>0.0</td>\n",
       "    </tr>\n",
       "    <tr>\n",
       "      <th>4</th>\n",
       "      <td>2020</td>\n",
       "      <td>5</td>\n",
       "      <td>41</td>\n",
       "      <td>2</td>\n",
       "      <td>12</td>\n",
       "      <td>155</td>\n",
       "      <td>50</td>\n",
       "      <td>75.2</td>\n",
       "      <td>1.5</td>\n",
       "      <td>1.2</td>\n",
       "      <td>...</td>\n",
       "      <td>1.0</td>\n",
       "      <td>0.7</td>\n",
       "      <td>18.0</td>\n",
       "      <td>17.0</td>\n",
       "      <td>14.0</td>\n",
       "      <td>1.0</td>\n",
       "      <td>0.0</td>\n",
       "      <td>0</td>\n",
       "      <td>NaN</td>\n",
       "      <td>NaN</td>\n",
       "    </tr>\n",
       "  </tbody>\n",
       "</table>\n",
       "<p>5 rows × 30 columns</p>\n",
       "</div>"
      ],
      "text/plain": [
       "   기준년도  가입자 일련번호  시도코드  성별코드  연령대 코드(5세단위)  신장(5Cm단위)  체중(5Kg 단위)  허리둘레  \\\n",
       "0  2020         1    36     1             9        165          60  72.1   \n",
       "1  2020         2    27     2            13        150          65  81.0   \n",
       "2  2020         3    11     2            12        155          55  70.0   \n",
       "3  2020         4    31     1            13        160          70  90.8   \n",
       "4  2020         5    41     2            12        155          50  75.2   \n",
       "\n",
       "   시력(좌)  시력(우)  ...  요단백  혈청크레아티닌  (혈청지오티)AST  (혈청지오티)ALT  감마 지티피  흡연상태  \\\n",
       "0    1.2    1.5  ...  1.0      1.1        21.0        27.0    21.0   1.0   \n",
       "1    0.8    0.8  ...  1.0      0.5        18.0        15.0    15.0   1.0   \n",
       "2    0.6    0.7  ...  1.0      0.7        27.0        25.0     7.0   1.0   \n",
       "3    1.0    1.0  ...  1.0      1.2        65.0        97.0    72.0   1.0   \n",
       "4    1.5    1.2  ...  1.0      0.7        18.0        17.0    14.0   1.0   \n",
       "\n",
       "   음주여부  구강검진 수검여부  치아우식증유무   치석  \n",
       "0   0.0          0      NaN  NaN  \n",
       "1   0.0          0      NaN  NaN  \n",
       "2   0.0          0      NaN  NaN  \n",
       "3   0.0          1      0.0  0.0  \n",
       "4   0.0          0      NaN  NaN  \n",
       "\n",
       "[5 rows x 30 columns]"
      ]
     },
     "metadata": {},
     "output_type": "display_data"
    }
   ],
   "source": [
    "# 검진정보 = 검진정보1.append(검진정보2).append(검진정보3).append(검진정보4)\n",
    "df =  pd.concat([검진정보1,검진정보2,검진정보3,검진정보4,])\n",
    "df.reset_index( drop=True, inplace = True)\n",
    "df.drop(columns=\"데이터 공개일자\", inplace=True)\n",
    "print(df.shape)\n",
    "display(df.head())"
   ]
  },
  {
   "cell_type": "code",
   "execution_count": 144,
   "metadata": {
    "id": "onFzwCc5Wx7W"
   },
   "outputs": [
    {
     "data": {
      "text/plain": [
       "Index(['기준년도', '가입자 일련번호', '시도코드', '성별코드', '연령대 코드(5세단위)', '신장(5Cm단위)',\n",
       "       '체중(5Kg 단위)', '허리둘레', '시력(좌)', '시력(우)', '청력(좌)', '청력(우)', '수축기 혈압',\n",
       "       '이완기 혈압', '식전혈당(공복혈당)', '총 콜레스테롤', '트리글리세라이드', 'HDL 콜레스테롤', 'LDL 콜레스테롤',\n",
       "       '혈색소', '요단백', '혈청크레아티닌', '(혈청지오티)AST', '(혈청지오티)ALT', '감마 지티피', '흡연상태',\n",
       "       '음주여부', '구강검진 수검여부', '치아우식증유무', '치석'],\n",
       "      dtype='object')"
      ]
     },
     "execution_count": 144,
     "metadata": {},
     "output_type": "execute_result"
    }
   ],
   "source": [
    "df.columns"
   ]
  },
  {
   "cell_type": "code",
   "execution_count": 145,
   "metadata": {},
   "outputs": [
    {
     "name": "stdout",
     "output_type": "stream",
     "text": [
      "<class 'pandas.core.frame.DataFrame'>\n",
      "RangeIndex: 1000000 entries, 0 to 999999\n",
      "Data columns (total 30 columns):\n",
      " #   Column        Non-Null Count    Dtype  \n",
      "---  ------        --------------    -----  \n",
      " 0   기준년도          1000000 non-null  int64  \n",
      " 1   가입자 일련번호      1000000 non-null  int64  \n",
      " 2   시도코드          1000000 non-null  int64  \n",
      " 3   성별코드          1000000 non-null  int64  \n",
      " 4   연령대 코드(5세단위)  1000000 non-null  int64  \n",
      " 5   신장(5Cm단위)     1000000 non-null  int64  \n",
      " 6   체중(5Kg 단위)    1000000 non-null  int64  \n",
      " 7   허리둘레          999892 non-null   float64\n",
      " 8   시력(좌)         999743 non-null   float64\n",
      " 9   시력(우)         999748 non-null   float64\n",
      " 10  청력(좌)         999778 non-null   float64\n",
      " 11  청력(우)         999770 non-null   float64\n",
      " 12  수축기 혈압        992468 non-null   float64\n",
      " 13  이완기 혈압        992466 non-null   float64\n",
      " 14  식전혈당(공복혈당)    992398 non-null   float64\n",
      " 15  총 콜레스테롤       402306 non-null   float64\n",
      " 16  트리글리세라이드      402322 non-null   float64\n",
      " 17  HDL 콜레스테롤     402315 non-null   float64\n",
      " 18  LDL 콜레스테롤     394471 non-null   float64\n",
      " 19  혈색소           992389 non-null   float64\n",
      " 20  요단백           987859 non-null   float64\n",
      " 21  혈청크레아티닌       992398 non-null   float64\n",
      " 22  (혈청지오티)AST    992399 non-null   float64\n",
      " 23  (혈청지오티)ALT    992398 non-null   float64\n",
      " 24  감마 지티피        992397 non-null   float64\n",
      " 25  흡연상태          999657 non-null   float64\n",
      " 26  음주여부          999804 non-null   float64\n",
      " 27  구강검진 수검여부     1000000 non-null  int64  \n",
      " 28  치아우식증유무       331383 non-null   float64\n",
      " 29  치석            331382 non-null   float64\n",
      "dtypes: float64(22), int64(8)\n",
      "memory usage: 228.9 MB\n"
     ]
    },
    {
     "data": {
      "text/plain": [
       "None"
      ]
     },
     "metadata": {},
     "output_type": "display_data"
    }
   ],
   "source": [
    "display(df.info())"
   ]
  },
  {
   "cell_type": "markdown",
   "metadata": {},
   "source": [
    "# 데이터 전처리\n",
    "\n",
    "## 변수 타입 변경\n"
   ]
  },
  {
   "cell_type": "code",
   "execution_count": 146,
   "metadata": {},
   "outputs": [],
   "source": [
    "df[\"기준년도\"] = df[\"기준년도\"].astype(\"object\")\n",
    "df[\"가입자 일련번호\"] = df[\"가입자 일련번호\"].astype(\"object\")\n",
    "df[\"시도코드\"] = df[\"시도코드\"].astype(\"object\")\n",
    "df[\"성별코드\"] = df[\"성별코드\"].astype(\"object\")\n",
    "df[\"연령대 코드(5세단위)\"] = df[\"연령대 코드(5세단위)\"].astype(\"object\")\n",
    "df[\"흡연상태\"] = df[\"흡연상태\"].astype(\"object\")\n",
    "df[\"음주여부\"] = df[\"음주여부\"].astype(\"object\")\n",
    "df[\"구강검진 수검여부\"] = df[\"구강검진 수검여부\"].astype(\"object\")\n",
    "df[\"치아우식증유무\"] = df[\"치아우식증유무\"].astype(\"object\")\n",
    "df[\"치석\"] = df[\"치석\"].astype(\"object\")"
   ]
  },
  {
   "cell_type": "code",
   "execution_count": 147,
   "metadata": {},
   "outputs": [
    {
     "name": "stdout",
     "output_type": "stream",
     "text": [
      "<class 'pandas.core.frame.DataFrame'>\n",
      "RangeIndex: 1000000 entries, 0 to 999999\n",
      "Data columns (total 30 columns):\n",
      " #   Column        Non-Null Count    Dtype  \n",
      "---  ------        --------------    -----  \n",
      " 0   기준년도          1000000 non-null  object \n",
      " 1   가입자 일련번호      1000000 non-null  object \n",
      " 2   시도코드          1000000 non-null  object \n",
      " 3   성별코드          1000000 non-null  object \n",
      " 4   연령대 코드(5세단위)  1000000 non-null  object \n",
      " 5   신장(5Cm단위)     1000000 non-null  int64  \n",
      " 6   체중(5Kg 단위)    1000000 non-null  int64  \n",
      " 7   허리둘레          999892 non-null   float64\n",
      " 8   시력(좌)         999743 non-null   float64\n",
      " 9   시력(우)         999748 non-null   float64\n",
      " 10  청력(좌)         999778 non-null   float64\n",
      " 11  청력(우)         999770 non-null   float64\n",
      " 12  수축기 혈압        992468 non-null   float64\n",
      " 13  이완기 혈압        992466 non-null   float64\n",
      " 14  식전혈당(공복혈당)    992398 non-null   float64\n",
      " 15  총 콜레스테롤       402306 non-null   float64\n",
      " 16  트리글리세라이드      402322 non-null   float64\n",
      " 17  HDL 콜레스테롤     402315 non-null   float64\n",
      " 18  LDL 콜레스테롤     394471 non-null   float64\n",
      " 19  혈색소           992389 non-null   float64\n",
      " 20  요단백           987859 non-null   float64\n",
      " 21  혈청크레아티닌       992398 non-null   float64\n",
      " 22  (혈청지오티)AST    992399 non-null   float64\n",
      " 23  (혈청지오티)ALT    992398 non-null   float64\n",
      " 24  감마 지티피        992397 non-null   float64\n",
      " 25  흡연상태          999657 non-null   object \n",
      " 26  음주여부          999804 non-null   object \n",
      " 27  구강검진 수검여부     1000000 non-null  object \n",
      " 28  치아우식증유무       331383 non-null   object \n",
      " 29  치석            331382 non-null   object \n",
      "dtypes: float64(18), int64(2), object(10)\n",
      "memory usage: 228.9+ MB\n"
     ]
    },
    {
     "data": {
      "text/plain": [
       "None"
      ]
     },
     "metadata": {},
     "output_type": "display_data"
    }
   ],
   "source": [
    "display(df.info())"
   ]
  },
  {
   "cell_type": "markdown",
   "metadata": {},
   "source": [
    "## 범주형 변수 변환"
   ]
  },
  {
   "cell_type": "code",
   "execution_count": 148,
   "metadata": {},
   "outputs": [
    {
     "data": {
      "text/plain": [
       "남자    510689\n",
       "여자    489311\n",
       "Name: 성별코드, dtype: int64"
      ]
     },
     "execution_count": 148,
     "metadata": {},
     "output_type": "execute_result"
    }
   ],
   "source": [
    "# 성별 코드\n",
    "# 1 - 남자, 2 - 여자 \n",
    "df[\"성별코드\"] = df[\"성별코드\"].replace({1: \"남자\", 2 : \"여자\"})\n",
    "df[\"성별코드\"].value_counts()"
   ]
  },
  {
   "cell_type": "code",
   "execution_count": 149,
   "metadata": {},
   "outputs": [
    {
     "data": {
      "text/plain": [
       "50세 ~ 54세    175705\n",
       "40세 ~ 44세    156277\n",
       "60세 ~ 64세    155096\n",
       "45세 ~ 49세    144165\n",
       "55세 ~ 59세    142089\n",
       "65세 ~ 69세     86653\n",
       "70세 ~ 74세     73714\n",
       "75세 ~ 79세     36663\n",
       "80세 ~ 84세     23401\n",
       "85세 이상         6237\n",
       "Name: 연령대 코드(5세단위), dtype: int64"
      ]
     },
     "execution_count": 149,
     "metadata": {},
     "output_type": "execute_result"
    }
   ],
   "source": [
    "# 연령대 \n",
    "df[\"연령대 코드(5세단위)\"] = df[\"연령대 코드(5세단위)\"].replace({1: \"0세 ~ 4세\", 2: \"5세 ~ 9세\", 3: \"10세 ~ 14세\", 4: \"15세 ~ 19세\", 5: \"20세 ~ 24세\",\n",
    "                                    6: \"25세 ~ 29세\", 7: \"30세 ~ 34세\", 8: \"35세 ~ 39세\", 9: \"40세 ~ 44세\", 10:\"45세 ~ 49세\",\n",
    "                                    11: \"50세 ~ 54세\", 12: \"55세 ~ 59세\", 13: \"60세 ~ 64세\", 14: \"65세 ~ 69세\", 15: \"70세 ~ 74세\",\n",
    "                                    16: \"75세 ~ 79세\", 17: \"80세 ~ 84세\", 18: \"85세 이상\"})\n",
    "df[\"연령대 코드(5세단위)\"].value_counts()"
   ]
  },
  {
   "cell_type": "code",
   "execution_count": 150,
   "metadata": {},
   "outputs": [
    {
     "data": {
      "text/plain": [
       "경기도        247369\n",
       "서울특별시      166231\n",
       "부산광역시       69025\n",
       "경상남도        68530\n",
       "인천광역시       58345\n",
       "경상북도        54438\n",
       "대구광역시       48413\n",
       "충청남도        42582\n",
       "전라북도        38066\n",
       "전라남도        38041\n",
       "충청북도        34009\n",
       "강원도         32023\n",
       "대전광역시       30057\n",
       "광주광역시       28532\n",
       "울산광역시       26001\n",
       "제주특별자치도     11878\n",
       "세종특별자치시      6460\n",
       "Name: 시도코드, dtype: int64"
      ]
     },
     "execution_count": 150,
     "metadata": {},
     "output_type": "execute_result"
    }
   ],
   "source": [
    "# 시도코드 \n",
    "df[\"시도코드\"] = df[\"시도코드\"].replace({11: \"서울특별시\", 26: \"부산광역시\", 27:\"대구광역시\", 28:\"인천광역시\",\n",
    "                    29: \"광주광역시\", 30:\"대전광역시\", 31: \"울산광역시\", 36: \"세종특별자치시\",\n",
    "                    41: \"경기도\", 42: \"강원도\", 43: \"충청북도\", 44:\"충청남도\", 45:\"전라북도\", \n",
    "                    46: \"전라남도\", 47: \"경상북도\", 48:\"경상남도\", 49: \"제주특별자치도\"})\n",
    "df[\"시도코드\"].value_counts()"
   ]
  },
  {
   "cell_type": "markdown",
   "metadata": {
    "id": "L0uYejtmWx9v"
   },
   "source": [
    "# 당뇨병 분석\n",
    "\n",
    "\n",
    "건강검진에서 당뇨병의 기준은 다음과 같다.\n",
    "\n",
    "- 변수: 공복상태 혈당 검사 (fasting glucose)\n",
    "    - 저혈당: 70 mg/dl 이하.\n",
    "\n",
    "    - 정상치:  70~99 mg/dl.\n",
    "    \n",
    "    - 공복혈당장애: 100-125 mg/dl. 이는 당뇨병 전단계 또는 당뇨병이 생길 위험도가 높은 상태인데 그 위험도는 공복혈당장애가 있는 사람이 1년이 지나면 약 10%에서 당뇨병이 생깁니다.\n",
    "\n",
    "    - 당뇨병: 126 mg/dL 이상인 경우 당뇨병으로 진단. 당뇨병의 증상이 없다면 한번 더 측정한 후 두 번의 결과를 보고 판정을 내리는 것이 정확합니다. \n",
    "\n",
    "\n",
    "- 변수 확인\n",
    "    - 수치 확인: 최솟값 1, 평균값 104, 최댓값 950\n",
    "    - 결측값 개수: 7602, (삭제한 데이터 992398 사용) \n",
    " "
   ]
  },
  {
   "cell_type": "code",
   "execution_count": 231,
   "metadata": {},
   "outputs": [
    {
     "name": "stdout",
     "output_type": "stream",
     "text": [
      "count    992398.000000\n",
      "mean        104.257728\n",
      "std          25.412529\n",
      "min           1.000000\n",
      "25%          91.000000\n",
      "50%          99.000000\n",
      "75%         109.000000\n",
      "max         950.000000\n",
      "Name: 식전혈당(공복혈당), dtype: float64\n",
      "\n",
      "결측값: 7602\n",
      "\n",
      "결측값 제거: 992398\n"
     ]
    }
   ],
   "source": [
    "# 식전혈당(공복혈당) 값 확인 \n",
    "print(df[\"식전혈당(공복혈당)\"].describe())\n",
    "print()\n",
    "\n",
    "# 결측값 확인 및 삭제 \n",
    "print(\"결측값:\", df[\"식전혈당(공복혈당)\"].isna().sum())\n",
    "print()\n",
    "\n",
    "df = df[ df[\"식전혈당(공복혈당)\"].notna()]\n",
    "print(\"결측값 제거:\", df.shape[0])"
   ]
  },
  {
   "cell_type": "markdown",
   "metadata": {},
   "source": [
    "\n",
    "## 당뇨병 여부 변수 생성\n",
    "\n",
    "\n",
    "- 당뇨병여부 변수를 생성\n",
    "\n",
    "    - 70미만은 저혈당\n",
    "    - 70 - 99는 정상\n",
    "    - 100 - 125는 공복혈당장애\n",
    "    - 126이상 당뇨병\n",
    "    \n",
    "\n",
    " - 당뇨병 여부에 따른 검진자들의 분포\n",
    " \n",
    " \n",
    "현재 검진자들의 당뇨병 여부를 살펴보면, 당뇨병인 검진자는 517086명으로 전체의 52%이고, \n",
    "공복혈당장애인 검진자는 366293명으로 전체의 36.9%이다. 공복혈당장애인 사람들은 1년에 10% 확률로 당뇨병에 걸리기 때문에 주의해야한다. \n",
    "\n",
    "    - 정상: 52 %\n",
    "    - 공복혈당장애: 36%\n",
    "    - 당뇨병: 11%\n",
    "    - 저혈당: 40%\n",
    "    "
   ]
  },
  {
   "cell_type": "code",
   "execution_count": 232,
   "metadata": {
    "id": "VLJ8n6jEWyAC"
   },
   "outputs": [
    {
     "name": "stdout",
     "output_type": "stream",
     "text": [
      "검진자들의 당뇨병 빈도\n",
      "정상        517086\n",
      "공복혈당장애    366293\n",
      "당뇨병       105231\n",
      "저혈당         3788\n",
      "Name: 당뇨병여부, dtype: int64\n",
      "\n",
      "검진자들의 당뇨병 퍼센트\n",
      "정상        52.104700\n",
      "공복혈당장애    36.909889\n",
      "당뇨병       10.603709\n",
      "저혈당        0.381702\n",
      "Name: 당뇨병여부, dtype: float64\n"
     ]
    },
    {
     "name": "stderr",
     "output_type": "stream",
     "text": [
      "C:\\Users\\Admin\\AppData\\Local\\Temp\\ipykernel_11884\\3610032994.py:8: SettingWithCopyWarning:\n",
      "\n",
      "\n",
      "A value is trying to be set on a copy of a slice from a DataFrame.\n",
      "Try using .loc[row_indexer,col_indexer] = value instead\n",
      "\n",
      "See the caveats in the documentation: https://pandas.pydata.org/pandas-docs/stable/user_guide/indexing.html#returning-a-view-versus-a-copy\n",
      "\n"
     ]
    }
   ],
   "source": [
    "#### 당뇨병\n",
    "def diabetes(x):\n",
    "    if (x >=70) & (x<=99): return \"정상\"\n",
    "    elif (x<70): return \"저혈당\"\n",
    "    elif (x >= 100) & (x<=125): return \"공복혈당장애\"\n",
    "    else: return \"당뇨병\"\n",
    "\n",
    "df[\"당뇨병여부\"] = df[\"식전혈당(공복혈당)\"].apply(diabetes)\n",
    "print(\"검진자들의 당뇨병 빈도\")\n",
    "print(df[\"당뇨병여부\"].value_counts())\n",
    "print()\n",
    "\n",
    "print(\"검진자들의 당뇨병 퍼센트\")\n",
    "print(df[\"당뇨병여부\"].value_counts()/992398 *100 )"
   ]
  },
  {
   "cell_type": "code",
   "execution_count": 282,
   "metadata": {},
   "outputs": [
    {
     "data": {
      "image/png": "[encoded data removed]",
      "text/plain": [
       "<Figure size 720x432 with 1 Axes>"
      ]
     },
     "metadata": {},
     "output_type": "display_data"
    }
   ],
   "source": [
    "# 검잔자들의 당뇨병 여부 확인 \n",
    "sns.set_palette('Spectral')\n",
    "df.pivot_table(\n",
    "    index = \"당뇨병여부\", \n",
    "    values=\"식전혈당(공복혈당)\" , \n",
    "    aggfunc=\"count\"\n",
    ")[\"식전혈당(공복혈당)\"].plot.pie(autopct='%.1f%%')\n",
    "    \n",
    "plt.title(\"검진자들의 당뇨병 여부\")\n",
    "plt.show()"
   ]
  },
  {
   "cell_type": "markdown",
   "metadata": {},
   "source": [
    "## 성별에 따른 당뇨병\n",
    "\n",
    "- 남성의 당뇨병은 최소값 1, 평균 107.47, 최대값 950\n",
    "- 여성의 당뇨병은 최소값 24, 평균 100.88, 최대값 901\n",
    "- 남성의 평균 혈당이 여성보다 높음 "
   ]
  },
  {
   "cell_type": "code",
   "execution_count": 283,
   "metadata": {},
   "outputs": [
    {
     "data": {
      "text/html": [
       "<div>\n",
       "<style scoped>\n",
       "    .dataframe tbody tr th:only-of-type {\n",
       "        vertical-align: middle;\n",
       "    }\n",
       "\n",
       "    .dataframe tbody tr th {\n",
       "        vertical-align: top;\n",
       "    }\n",
       "\n",
       "    .dataframe thead tr th {\n",
       "        text-align: left;\n",
       "    }\n",
       "\n",
       "    .dataframe thead tr:last-of-type th {\n",
       "        text-align: right;\n",
       "    }\n",
       "</style>\n",
       "<table border=\"1\" class=\"dataframe\">\n",
       "  <thead>\n",
       "    <tr>\n",
       "      <th></th>\n",
       "      <th colspan=\"4\" halign=\"left\">식전혈당(공복혈당)</th>\n",
       "    </tr>\n",
       "    <tr>\n",
       "      <th></th>\n",
       "      <th>min</th>\n",
       "      <th>mean</th>\n",
       "      <th>max</th>\n",
       "      <th>count</th>\n",
       "    </tr>\n",
       "    <tr>\n",
       "      <th>성별코드</th>\n",
       "      <th></th>\n",
       "      <th></th>\n",
       "      <th></th>\n",
       "      <th></th>\n",
       "    </tr>\n",
       "  </thead>\n",
       "  <tbody>\n",
       "    <tr>\n",
       "      <th>남자</th>\n",
       "      <td>1.0</td>\n",
       "      <td>107.474399</td>\n",
       "      <td>950.0</td>\n",
       "      <td>507950</td>\n",
       "    </tr>\n",
       "    <tr>\n",
       "      <th>여자</th>\n",
       "      <td>24.0</td>\n",
       "      <td>100.885007</td>\n",
       "      <td>901.0</td>\n",
       "      <td>484448</td>\n",
       "    </tr>\n",
       "  </tbody>\n",
       "</table>\n",
       "</div>"
      ],
      "text/plain": [
       "     식전혈당(공복혈당)                           \n",
       "            min        mean    max   count\n",
       "성별코드                                      \n",
       "남자          1.0  107.474399  950.0  507950\n",
       "여자         24.0  100.885007  901.0  484448"
      ]
     },
     "execution_count": 283,
     "metadata": {},
     "output_type": "execute_result"
    }
   ],
   "source": [
    "df.groupby([\"성별코드\"])[[\"식전혈당(공복혈당)\"]].agg([\"min\", \"mean\", \"max\", \"count\"])"
   ]
  },
  {
   "cell_type": "code",
   "execution_count": 284,
   "metadata": {},
   "outputs": [
    {
     "data": {
      "image/png": "[encoded data removed]",
      "text/plain": [
       "<Figure size 720x504 with 1 Axes>"
      ]
     },
     "metadata": {
      "needs_background": "light"
     },
     "output_type": "display_data"
    }
   ],
   "source": [
    "plt.figure(figsize=(10, 7))\n",
    "sns.boxplot( y =\"성별코드\", x=\"식전혈당(공복혈당)\" , data=df)\n",
    "plt.xlim(0, 200)\n",
    "plt.title(\"성별에 따른 공복혈당 수치\")\n",
    "plt.show()"
   ]
  },
  {
   "cell_type": "code",
   "execution_count": 289,
   "metadata": {},
   "outputs": [
    {
     "name": "stdout",
     "output_type": "stream",
     "text": [
      "남성은 당뇨병이 45.1%, 공복혈당장애가 41.1%로 비슷하다.\n",
      "여성은 당뇨병이 59.4%, 공복혈당장애가 32.5%로 당뇨병인 사람이 더 많다.\n"
     ]
    },
    {
     "data": {
      "image/png": "[encoded data removed]",
      "text/plain": [
       "<Figure size 720x432 with 2 Axes>"
      ]
     },
     "metadata": {},
     "output_type": "display_data"
    }
   ],
   "source": [
    "# 성별에 따른 검자들의 당뇨병 여부 확인 \n",
    "print(\"남성은 당뇨병이 45.1%, 공복혈당장애가 41.1%로 비슷하다.\")\n",
    "print(\"여성은 당뇨병이 59.4%, 공복혈당장애가 32.5%로 당뇨병인 사람이 더 많다.\")\n",
    "\n",
    "sns.set_palette('Spectral')\n",
    "df1 = df[df[\"성별코드\"]==\"남자\"]\n",
    "df2 = df[df[\"성별코드\"]==\"여자\"]\n",
    "\n",
    "\n",
    "plt.subplot(1,2,1)\n",
    "df1.pivot_table(\n",
    "    index = \"당뇨병여부\", \n",
    "    values=\"식전혈당(공복혈당)\" , \n",
    "    aggfunc=\"count\"\n",
    ")[\"식전혈당(공복혈당)\"].plot.pie(autopct='%.1f%%')\n",
    "plt.title(\"남자의 당뇨병 여부\")\n",
    "\n",
    "plt.subplot(1,2,2)\n",
    "df2.pivot_table(\n",
    "    index = \"당뇨병여부\", \n",
    "    values=\"식전혈당(공복혈당)\" , \n",
    "    aggfunc=\"count\"\n",
    ")[\"식전혈당(공복혈당)\"].plot.pie(autopct='%.1f%%')\n",
    "plt.title(\"여자의 당뇨병 여부\")\n",
    "                         \n",
    "plt.show()"
   ]
  },
  {
   "cell_type": "code",
   "execution_count": 290,
   "metadata": {},
   "outputs": [
    {
     "name": "stdout",
     "output_type": "stream",
     "text": [
      "여성: 108.048, 남성: 108.86\n",
      "성별에 따른 공복혈당장애의 평균 공복혈당은 거의 차이가 없음\n"
     ]
    },
    {
     "data": {
      "image/png": "[encoded data removed]",
      "text/plain": [
       "<Figure size 720x504 with 1 Axes>"
      ]
     },
     "metadata": {
      "needs_background": "light"
     },
     "output_type": "display_data"
    }
   ],
   "source": [
    "# 남자와 여자의 공복혈당장애 \n",
    "df1 = df[df[\"당뇨병여부\"]==\"공복혈당장애\"]\n",
    "print(\"여성: 108.048, 남성: 108.86\")\n",
    "print(\"성별에 따른 공복혈당장애의 평균 공복혈당은 거의 차이가 없음\")\n",
    "\n",
    "plt.figure(figsize=(10, 7))\n",
    "sns.boxplot( x = \"성별코드\", y=\"식전혈당(공복혈당)\" , data=df1)\n",
    "plt.ylim(80, 140)\n",
    "plt.title(\"공복혈당장애 그룹의 평균 공복혈당 수치\")\n",
    "plt.show()"
   ]
  },
  {
   "cell_type": "code",
   "execution_count": 1,
   "metadata": {},
   "outputs": [
    {
     "ename": "NameError",
     "evalue": "name 'df' is not defined",
     "output_type": "error",
     "traceback": [
      "\u001b[1;31m---------------------------------------------------------------------------\u001b[0m",
      "\u001b[1;31mNameError\u001b[0m                                 Traceback (most recent call last)",
      "Input \u001b[1;32mIn [1]\u001b[0m, in \u001b[0;36m<cell line: 2>\u001b[1;34m()\u001b[0m\n\u001b[0;32m      1\u001b[0m \u001b[38;5;66;03m# 남자와 여자의 당뇨병 \u001b[39;00m\n\u001b[1;32m----> 2\u001b[0m df1 \u001b[38;5;241m=\u001b[39m \u001b[43mdf\u001b[49m[df[\u001b[38;5;124m\"\u001b[39m\u001b[38;5;124m당뇨병여부\u001b[39m\u001b[38;5;124m\"\u001b[39m]\u001b[38;5;241m==\u001b[39m\u001b[38;5;124m\"\u001b[39m\u001b[38;5;124m당뇨병\u001b[39m\u001b[38;5;124m\"\u001b[39m]\n\u001b[0;32m      3\u001b[0m \u001b[38;5;28mprint\u001b[39m(\u001b[38;5;124m\"\u001b[39m\u001b[38;5;124m여성: 155.97, 남성: 159.66\u001b[39m\u001b[38;5;124m\"\u001b[39m)\n\u001b[0;32m      4\u001b[0m \u001b[38;5;28mprint\u001b[39m(\u001b[38;5;124m\"\u001b[39m\u001b[38;5;124m성별에 따른 당뇨병의 평균 공복혈당은 남자가 여자보다 높음\u001b[39m\u001b[38;5;124m\"\u001b[39m)\n",
      "\u001b[1;31mNameError\u001b[0m: name 'df' is not defined"
     ]
    }
   ],
   "source": [
    "# 남자와 여자의 당뇨병 \n",
    "df1 = df[df[\"당뇨병여부\"]==\"당뇨병\"]\n",
    "print(\"여성: 155.97, 남성: 159.66\")\n",
    "print(\"성별에 따른 당뇨병의 평균 공복혈당은 남자가 여자보다 높음\")\n",
    "\n",
    "plt.figure(figsize=(10, 7))\n",
    "sns.boxplot( x = \"성별코드\", y=\"식전혈당(공복혈당)\" , data=df1)\n",
    "plt.ylim(100, 300)\n",
    "plt.title(\"당뇨병 그룹의 평균 공복혈당 수치\")\n",
    "plt.show()"
   ]
  },
  {
   "cell_type": "markdown",
   "metadata": {},
   "source": [
    "## 연령대에 따른 당뇨병"
   ]
  },
  {
   "cell_type": "code",
   "execution_count": 292,
   "metadata": {},
   "outputs": [
    {
     "data": {
      "text/html": [
       "<div>\n",
       "<style scoped>\n",
       "    .dataframe tbody tr th:only-of-type {\n",
       "        vertical-align: middle;\n",
       "    }\n",
       "\n",
       "    .dataframe tbody tr th {\n",
       "        vertical-align: top;\n",
       "    }\n",
       "\n",
       "    .dataframe thead tr th {\n",
       "        text-align: left;\n",
       "    }\n",
       "\n",
       "    .dataframe thead tr:last-of-type th {\n",
       "        text-align: right;\n",
       "    }\n",
       "</style>\n",
       "<table border=\"1\" class=\"dataframe\">\n",
       "  <thead>\n",
       "    <tr>\n",
       "      <th></th>\n",
       "      <th colspan=\"4\" halign=\"left\">식전혈당(공복혈당)</th>\n",
       "    </tr>\n",
       "    <tr>\n",
       "      <th></th>\n",
       "      <th>min</th>\n",
       "      <th>mean</th>\n",
       "      <th>max</th>\n",
       "      <th>count</th>\n",
       "    </tr>\n",
       "    <tr>\n",
       "      <th>연령대 코드(5세단위)</th>\n",
       "      <th></th>\n",
       "      <th></th>\n",
       "      <th></th>\n",
       "      <th></th>\n",
       "    </tr>\n",
       "  </thead>\n",
       "  <tbody>\n",
       "    <tr>\n",
       "      <th>40세 ~ 44세</th>\n",
       "      <td>35.0</td>\n",
       "      <td>99.206638</td>\n",
       "      <td>680.0</td>\n",
       "      <td>156273</td>\n",
       "    </tr>\n",
       "    <tr>\n",
       "      <th>45세 ~ 49세</th>\n",
       "      <td>43.0</td>\n",
       "      <td>101.349410</td>\n",
       "      <td>950.0</td>\n",
       "      <td>144160</td>\n",
       "    </tr>\n",
       "    <tr>\n",
       "      <th>50세 ~ 54세</th>\n",
       "      <td>1.0</td>\n",
       "      <td>103.408878</td>\n",
       "      <td>890.0</td>\n",
       "      <td>175698</td>\n",
       "    </tr>\n",
       "    <tr>\n",
       "      <th>55세 ~ 59세</th>\n",
       "      <td>35.0</td>\n",
       "      <td>105.525506</td>\n",
       "      <td>763.0</td>\n",
       "      <td>142086</td>\n",
       "    </tr>\n",
       "    <tr>\n",
       "      <th>60세 ~ 64세</th>\n",
       "      <td>40.0</td>\n",
       "      <td>106.663460</td>\n",
       "      <td>754.0</td>\n",
       "      <td>155090</td>\n",
       "    </tr>\n",
       "    <tr>\n",
       "      <th>65세 ~ 69세</th>\n",
       "      <td>25.0</td>\n",
       "      <td>107.536513</td>\n",
       "      <td>612.0</td>\n",
       "      <td>84723</td>\n",
       "    </tr>\n",
       "    <tr>\n",
       "      <th>70세 ~ 74세</th>\n",
       "      <td>40.0</td>\n",
       "      <td>108.176618</td>\n",
       "      <td>701.0</td>\n",
       "      <td>71250</td>\n",
       "    </tr>\n",
       "    <tr>\n",
       "      <th>75세 ~ 79세</th>\n",
       "      <td>43.0</td>\n",
       "      <td>108.339912</td>\n",
       "      <td>551.0</td>\n",
       "      <td>35115</td>\n",
       "    </tr>\n",
       "    <tr>\n",
       "      <th>80세 ~ 84세</th>\n",
       "      <td>42.0</td>\n",
       "      <td>108.150160</td>\n",
       "      <td>901.0</td>\n",
       "      <td>22203</td>\n",
       "    </tr>\n",
       "    <tr>\n",
       "      <th>85세 이상</th>\n",
       "      <td>49.0</td>\n",
       "      <td>107.315690</td>\n",
       "      <td>638.0</td>\n",
       "      <td>5800</td>\n",
       "    </tr>\n",
       "  </tbody>\n",
       "</table>\n",
       "</div>"
      ],
      "text/plain": [
       "             식전혈당(공복혈당)                           \n",
       "                    min        mean    max   count\n",
       "연령대 코드(5세단위)                                      \n",
       "40세 ~ 44세          35.0   99.206638  680.0  156273\n",
       "45세 ~ 49세          43.0  101.349410  950.0  144160\n",
       "50세 ~ 54세           1.0  103.408878  890.0  175698\n",
       "55세 ~ 59세          35.0  105.525506  763.0  142086\n",
       "60세 ~ 64세          40.0  106.663460  754.0  155090\n",
       "65세 ~ 69세          25.0  107.536513  612.0   84723\n",
       "70세 ~ 74세          40.0  108.176618  701.0   71250\n",
       "75세 ~ 79세          43.0  108.339912  551.0   35115\n",
       "80세 ~ 84세          42.0  108.150160  901.0   22203\n",
       "85세 이상             49.0  107.315690  638.0    5800"
      ]
     },
     "execution_count": 292,
     "metadata": {},
     "output_type": "execute_result"
    }
   ],
   "source": [
    "df.groupby([\"연령대 코드(5세단위)\"])[[\"식전혈당(공복혈당)\"]].agg([\"min\", \"mean\", \"max\", \"count\"])"
   ]
  },
  {
   "cell_type": "code",
   "execution_count": 305,
   "metadata": {},
   "outputs": [
    {
     "name": "stdout",
     "output_type": "stream",
     "text": [
      "나이가 많아짐에 따라 공복혈당 수치가 증가 추세이다.\n",
      "단 40세부터 79세까지 쭉 증가하다가 80세 이후 줄어드는 것을 알 수 있다.\n"
     ]
    },
    {
     "data": {
      "image/png": "[encoded data removed]",
      "text/plain": [
       "<Figure size 720x432 with 1 Axes>"
      ]
     },
     "metadata": {
      "needs_background": "light"
     },
     "output_type": "display_data"
    },
    {
     "data": {
      "image/png": "[encoded data removed]",
      "text/plain": [
       "<Figure size 720x432 with 1 Axes>"
      ]
     },
     "metadata": {
      "needs_background": "light"
     },
     "output_type": "display_data"
    }
   ],
   "source": [
    "df.sort_values(\"연령대 코드(5세단위)\", inplace=True)\n",
    "print(\"나이가 많아짐에 따라 공복혈당 수치가 증가 추세이다.\")\n",
    "print(\"단 40세부터 79세까지 쭉 증가하다가 80세 이후 줄어드는 것을 알 수 있다.\")\n",
    "\n",
    "sns.set_palette('Spectral')\n",
    "sns.lineplot(x=\"연령대 코드(5세단위)\", y=\"식전혈당(공복혈당)\", data = df)\n",
    "plt.title(\"연령대별 공복혈당수치\")\n",
    "plt.show()\n",
    "\n",
    "sns.boxplot( y =\"연령대 코드(5세단위)\", x=\"식전혈당(공복혈당)\" , data=df)\n",
    "plt.xlim(0, 200)\n",
    "plt.title(\"연령대에 따른 공복혈당 수치\")\n",
    "plt.show()"
   ]
  },
  {
   "cell_type": "code",
   "execution_count": 316,
   "metadata": {},
   "outputs": [
    {
     "name": "stdout",
     "output_type": "stream",
     "text": [
      "공복혈당장애 그룹의 혈당은 나이가 높아짐에 따라 증가하는 추세를 가진다.\n",
      "75~79세에서 잠깐 감소하지만 계속 증가한다.\n"
     ]
    },
    {
     "data": {
      "image/png": "[encoded data removed]",
      "text/plain": [
       "<Figure size 720x432 with 1 Axes>"
      ]
     },
     "metadata": {
      "needs_background": "light"
     },
     "output_type": "display_data"
    }
   ],
   "source": [
    "# 연령대에 따른 공복혈당장애 \n",
    "\n",
    "print(\"공복혈당장애 그룹의 혈당은 나이가 높아짐에 따라 증가하는 추세를 가진다.\")\n",
    "print(\"75~79세에서 잠깐 감소하지만 계속 증가한다.\")\n",
    "\n",
    "df3 = df[df[\"당뇨병여부\"]==\"공복혈당장애\"]\n",
    "sns.lineplot(x=\"연령대 코드(5세단위)\", y=\"식전혈당(공복혈당)\", hue=\"당뇨병여부\", data = df3)\n",
    "plt.title(\"공복혈당장애 그룹의 연령대별 공복혈당 수치\")\n",
    "plt.show()\n"
   ]
  },
  {
   "cell_type": "code",
   "execution_count": 318,
   "metadata": {},
   "outputs": [
    {
     "name": "stdout",
     "output_type": "stream",
     "text": [
      "당뇨병 그룹의 40세부터 75~79세까지 공복혈당이 감소하고, 80세부터 다시 증가한다.\n",
      "공복혈당장애 그룹의 경우는 연령대에 따라 증가하는 모습을 보였지만, \n",
      "당뇨병 그룹은 감소했다가 증가하는 형상을 보인다.\n",
      "이를 통해 알 수 있는 것은 당뇨병이 아닌 공복혈당장애 그룹은 혈당 관리를 하지 않지만,\n",
      "      당뇨병 그룹은 혈당 관리를 하는 것으로 보인다.\n"
     ]
    },
    {
     "data": {
      "image/png": "[encoded data removed]",
      "text/plain": [
       "<Figure size 720x432 with 1 Axes>"
      ]
     },
     "metadata": {
      "needs_background": "light"
     },
     "output_type": "display_data"
    }
   ],
   "source": [
    "# 연령대에 따른 당뇨병 그룹\n",
    "\n",
    "print(\"당뇨병 그룹의 40세부터 75~79세까지 공복혈당이 감소하고, 80세부터 다시 증가한다.\")\n",
    "print(\"공복혈당장애 그룹의 경우는 연령대에 따라 증가하는 모습을 보였지만, \")\n",
    "print(\"당뇨병 그룹은 감소했다가 증가하는 형상을 보인다.\")\n",
    "print(\"\"\"이를 통해 알 수 있는 것은 당뇨병이 아닌 공복혈당장애 그룹은 혈당 관리를 하지 않지만,\n",
    "      당뇨병 그룹은 혈당 관리를 하는 것으로 보인다.\"\"\")\n",
    "\n",
    "\n",
    "df4 = df[df[\"당뇨병여부\"]==\"당뇨병\"]\n",
    "sns.lineplot(x=\"연령대 코드(5세단위)\", y=\"식전혈당(공복혈당)\", hue=\"당뇨병여부\", data = df4)\n",
    "plt.title(\"당뇨병 그룹의 연령대별 공복혈당 수치\")\n",
    "plt.show()\n"
   ]
  },
  {
   "cell_type": "code",
   "execution_count": null,
   "metadata": {},
   "outputs": [],
   "source": []
  },
  {
   "cell_type": "code",
   "execution_count": null,
   "metadata": {},
   "outputs": [],
   "source": []
  },
  {
   "cell_type": "code",
   "execution_count": null,
   "metadata": {},
   "outputs": [],
   "source": []
  }
 ],
 "metadata": {
  "colab": {
   "collapsed_sections": [],
   "name": "22-02-11 국민건강보험공단_건강검진정보_2021_12 분석.ipynb",
   "provenance": []
  },
  "kernelspec": {
   "display_name": "Python 3 (ipykernel)",
   "language": "python",
   "name": "python3"
  },
  "language_info": {
   "codemirror_mode": {
    "name": "ipython",
    "version": 3
   },
   "file_extension": ".py",
   "mimetype": "text/x-python",
   "name": "python",
   "nbconvert_exporter": "python",
   "pygments_lexer": "ipython3",
   "version": "3.9.12"
  },
  "toc": {
   "base_numbering": 1,
   "nav_menu": {},
   "number_sections": true,
   "sideBar": true,
   "skip_h1_title": false,
   "title_cell": "Table of Contents",
   "title_sidebar": "Contents",
   "toc_cell": false,
   "toc_position": {},
   "toc_section_display": true,
   "toc_window_display": true
  },
  "varInspector": {
   "cols": {
    "lenName": 16,
    "lenType": 16,
    "lenVar": 40
   },
   "kernels_config": {
    "python": {
     "delete_cmd_postfix": "",
     "delete_cmd_prefix": "del ",
     "library": "var_list.py",
     "varRefreshCmd": "print(var_dic_list())"
    },
    "r": {
     "delete_cmd_postfix": ") ",
     "delete_cmd_prefix": "rm(",
     "library": "var_list.r",
     "varRefreshCmd": "cat(var_dic_list()) "
    }
   },
   "types_to_exclude": [
    "module",
    "function",
    "builtin_function_or_method",
    "instance",
    "_Feature"
   ],
   "window_display": false
  }
 },
 "nbformat": 4,
 "nbformat_minor": 1
}
